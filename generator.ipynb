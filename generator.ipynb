{
 "cells": [
  {
   "cell_type": "markdown",
   "metadata": {},
   "source": [
    "## RAP MUSIC GENERATION"
   ]
  },
  {
   "cell_type": "markdown",
   "metadata": {},
   "source": [
    "<u><b> Step 1 : Reading the rap song file </b> </u>"
   ]
  },
  {
   "cell_type": "code",
   "execution_count": 119,
   "metadata": {},
   "outputs": [],
   "source": [
    "# read the rap text file with all the raps\n",
    "\n",
    "rap_song_file = open(r'./All_Rap_lyrics.txt','r', encoding='utf-8').read()\n",
    "rap_song_file = rap_song_file.lower() # converting all the text to lower case"
   ]
  },
  {
   "cell_type": "markdown",
   "metadata": {},
   "source": [
    "<u><b>  Step 2 : Building bars from lyrics </b> </u>"
   ]
  },
  {
   "cell_type": "markdown",
   "metadata": {},
   "source": [
    "#### Terminologies:\n",
    "##### What is a bar in rap song:\n",
    "- Usually one line of lyrics is one count, and there are 4 counts in a bar.  \n",
    "- There are  16 bars in a verse in most rap songs.<br>\n",
    "\n",
    "##### An example of bar using a lyrics below:\n",
    "Lights slow motion, steppin' out the Phantom ===> 1 bar <br>\n",
    "All eyes on me, peekin' and glancin' ===> 2nd bar <br>\n",
    "Leanin' on the wall, with b-boys dancin' ===> 3rd bar <br>\n",
    "Ears, neck, and wrists lookin' like the king's ransom ==> 4 bars <br>\n",
    "\n",
    "###### Just to note  that the verse length may vary across lyrics but we have taken the verse length to equal to 4 bars"
   ]
  },
  {
   "cell_type": "code",
   "execution_count": 120,
   "metadata": {},
   "outputs": [],
   "source": [
    "# splitting out rap songs collection line by line\n",
    "\n",
    "bars = rap_song_file.split('\\n') "
   ]
  },
  {
   "cell_type": "markdown",
   "metadata": {},
   "source": [
    "<b> <u> Step 3 : Cleaning the bars </b> </u>\n",
    "- Converting characters to the lowercase\n",
    "- Removing empty string\n",
    "- Removing special characters\n",
    "- Removing characters inside [ ] as these are not relevant to the bars we are generating\n",
    "- Stripping the end charcters (if its a space)"
   ]
  },
  {
   "cell_type": "code",
   "execution_count": 121,
   "metadata": {},
   "outputs": [
    {
     "name": "stdout",
     "output_type": "stream",
     "text": [
      "Length of the bars :  22839\n"
     ]
    }
   ],
   "source": [
    "print('Length of the bars : ', len(bars))"
   ]
  },
  {
   "cell_type": "code",
   "execution_count": 122,
   "metadata": {},
   "outputs": [
    {
     "name": "stdout",
     "output_type": "stream",
     "text": [
      "There are characters inside [ ], these are of no significance. For example : \n",
      "\n",
      " [\"but when i hear the beat i'm tempted to make another attempt at it...\", \"i'm infinite\", '', \"'95, '96 ('96)\", 'and on and on and on (and on and on)', '', '', '', '[old school hip-hop beat tune plays in the background like a radio station]', '']\n"
     ]
    }
   ],
   "source": [
    "# removing the charcacters inside [] and converting the bars to lowercase\n",
    "\n",
    "import re\n",
    "print('There are characters inside [ ], these are of no significance. For example : \\n\\n' , bars[80:90])\n",
    "new_bars = []\n",
    "for bar in bars:\n",
    "    bar = re.sub(r'\\[.*?\\]', '', bar)\n",
    "    new_bars.append(bar.lower())\n",
    "bars = new_bars\n"
   ]
  },
  {
   "cell_type": "code",
   "execution_count": 123,
   "metadata": {},
   "outputs": [
    {
     "name": "stdout",
     "output_type": "stream",
     "text": [
      "[\"but when i hear the beat i'm tempted to make another attempt at it...\", \"i'm infinite\", '', \"'95, '96 ('96)\", 'and on and on and on (and on and on)', '', '', '', '', '']\n"
     ]
    }
   ],
   "source": [
    "# We need to remove the empty_strings in bar\n",
    "\n",
    "print(bars[80:90]) # we see that there are some empty strings in the file\n",
    "bars = list(filter(None, bars)) ## filter out the strings with None"
   ]
  },
  {
   "cell_type": "code",
   "execution_count": 124,
   "metadata": {},
   "outputs": [
    {
     "data": {
      "text/plain": [
       "['this is mc proof',\n",
       " 'and dj head',\n",
       " \"checkin' in on w.e.g.o.\",\n",
       " \"you know what i'm sayin'?\",\n",
       " 'ay yo we got the number one requested song, of the day coming up next.',\n",
       " \"it's a local thing wants retilin'\",\n",
       " 'it goes by the name of eminem',\n",
       " 'and it\\'s called \"it\\'s ok\"',\n",
       " ' check it out, ',\n",
       " ' hey kyu!']"
      ]
     },
     "execution_count": 124,
     "metadata": {},
     "output_type": "execute_result"
    }
   ],
   "source": [
    "bars[80:90] # empty string have been removed"
   ]
  },
  {
   "cell_type": "code",
   "execution_count": 125,
   "metadata": {},
   "outputs": [],
   "source": [
    "# Subsituting the special characters with empty space, stripping on the end of the strings\n",
    "\n",
    "import re\n",
    "new_bars = []\n",
    "for bar in bars:\n",
    "    bar = re.sub('[^A-Za-z\\s]+', '', bar)\n",
    "    new_bars.append(bar.strip())\n",
    "bars = new_bars"
   ]
  },
  {
   "cell_type": "code",
   "execution_count": 126,
   "metadata": {},
   "outputs": [
    {
     "data": {
      "text/plain": [
       "['this is mc proof',\n",
       " 'and dj head',\n",
       " 'checkin in on wego',\n",
       " 'you know what im sayin',\n",
       " 'ay yo we got the number one requested song of the day coming up next',\n",
       " 'its a local thing wants retilin',\n",
       " 'it goes by the name of eminem',\n",
       " 'and its called its ok',\n",
       " 'check it out',\n",
       " 'hey kyu']"
      ]
     },
     "execution_count": 126,
     "metadata": {},
     "output_type": "execute_result"
    }
   ],
   "source": [
    "bars[80:90]# special characters have been removed"
   ]
  },
  {
   "cell_type": "code",
   "execution_count": 127,
   "metadata": {},
   "outputs": [
    {
     "name": "stdout",
     "output_type": "stream",
     "text": [
      "Length of the bars :  17505\n"
     ]
    }
   ],
   "source": [
    "print('Length of the bars : ', len(bars))"
   ]
  },
  {
   "cell_type": "code",
   "execution_count": 128,
   "metadata": {},
   "outputs": [],
   "source": [
    "with open('./cleaned_Rap.txt.txt', 'w') as f:\n",
    "    for item in bars:\n",
    "        f.write(\"%s\\n\" % item)"
   ]
  },
  {
   "cell_type": "markdown",
   "metadata": {},
   "source": [
    "<b> <u> Step 4 : Visualizing the dataset </b> </u>"
   ]
  },
  {
   "cell_type": "code",
   "execution_count": 129,
   "metadata": {},
   "outputs": [],
   "source": [
    "# creating a word cloud of the most used words in a rhyme\n",
    "\n",
    "import matplotlib.pyplot as plt\n",
    "from wordcloud import WordCloud"
   ]
  },
  {
   "cell_type": "code",
   "execution_count": 130,
   "metadata": {},
   "outputs": [],
   "source": [
    "# combining all the bars into a single string to feed into the wordcloud generate function\n",
    "\n",
    "str_bars = ''\n",
    "str_bars = ' '.join(bars)\n",
    "wordcloud = WordCloud().generate(str_bars)"
   ]
  },
  {
   "cell_type": "code",
   "execution_count": 131,
   "metadata": {},
   "outputs": [
    {
     "data": {
      "image/png": "[encoded data removed]",
      "text/plain": [
       "<Figure size 1080x7200 with 1 Axes>"
      ]
     },
     "metadata": {
      "needs_background": "light"
     },
     "output_type": "display_data"
    }
   ],
   "source": [
    "# forming the word cloud of the most used words in all the raps across\n",
    "\n",
    "\n",
    "plt.figure(figsize=(15,100))\n",
    "plt.title('Word cloud of the most used words', fontsize=30)\n",
    "plt.imshow(wordcloud)\n",
    "plt.axis(\"off\") # added to not display the x and y axis\n",
    "plt.show()"
   ]
  },
  {
   "cell_type": "code",
   "execution_count": 132,
   "metadata": {},
   "outputs": [
    {
     "data": {
      "text/plain": [
       "Text(0, 0.5, 'Number of songs')"
      ]
     },
     "execution_count": 132,
     "metadata": {},
     "output_type": "execute_result"
    },
    {
     "data": {
      "image/png": "[encoded data removed]",
      "text/plain": [
       "<Figure size 1440x360 with 1 Axes>"
      ]
     },
     "metadata": {
      "needs_background": "light"
     },
     "output_type": "display_data"
    }
   ],
   "source": [
    "# visualizing artist and number of songs considered\n",
    "\n",
    "import pandas as pd\n",
    "df_artists = pd.read_excel(r'Rap_songs_artist.xlsx')\n",
    "\n",
    "plt.figure(figsize=(20,5))\n",
    "plt.title('Rap songs artist vs Number of songs', fontsize=30)\n",
    "plt.bar(df_artists['Artist'],df_artists['Songs'], color= 'y')\n",
    "plt.xlabel('Artist', fontsize=20)\n",
    "plt.ylabel('Number of songs', fontsize=20)"
   ]
  },
  {
   "cell_type": "code",
   "execution_count": 133,
   "metadata": {},
   "outputs": [],
   "source": [
    "# counting the number and also count of unique words in the corpus\n",
    "\n",
    "from nltk.tokenize import word_tokenize\n",
    "words_count = word_tokenize(str_bars)"
   ]
  },
  {
   "cell_type": "code",
   "execution_count": 134,
   "metadata": {},
   "outputs": [
    {
     "name": "stdout",
     "output_type": "stream",
     "text": [
      "All the words in the bars :  145597\n",
      "All the unique words in the bars :  10626\n",
      "The total number of bar :  17505\n"
     ]
    }
   ],
   "source": [
    "print('All the words in the bars : ' , len(words_count))\n",
    "print('All the unique words in the bars : ' , len(set(words_count)))\n",
    "print('The total number of bar : ', len(bars))"
   ]
  },
  {
   "cell_type": "markdown",
   "metadata": {},
   "source": [
    "<b> <u> Step 5 : Building the list of rhymes </b> </u>"
   ]
  },
  {
   "cell_type": "code",
   "execution_count": 135,
   "metadata": {},
   "outputs": [],
   "source": [
    "import pronouncing #using this library to find the list of rhyming words"
   ]
  },
  {
   "cell_type": "markdown",
   "metadata": {},
   "source": [
    "<b> Function : rhyming_list_all </b> <br>\n",
    "\n",
    "- Firstly we take out the last word from every bar <br>\n",
    "<br>\n",
    "- pronouncing.rhymes(last_word) :  It is used to give the set of rhyming words with the last word. \n",
    "<br> For example: pronouncing.rhymes('love') will give ['above', 'belove', 'deneuve', 'deneuve', 'dove', 'glove', 'gov', 'labov', 'labove', \"o'glove\", 'of', 'shove', 'thereof','vanhove'] <br>\n",
    "<br>\n",
    "- Then we consider the last 2 characters in every rhyming word and see that which 2 charcater are the most repeated. \n",
    "<br>\n",
    "- After this we assign these words rhyming_list_final in reveresed order (reversing with arrange the words with the same sound together) <br>\n",
    "<br>"
   ]
  },
  {
   "cell_type": "code",
   "execution_count": 136,
   "metadata": {},
   "outputs": [],
   "source": [
    "def rhyming_list_all(bars):\n",
    "    rhyme_list_all = []\n",
    "    rhyming_list_final = []\n",
    "    for bar in bars:\n",
    "        # taking the last word in each bar\n",
    "        last_word = re.sub(r\"\\W+\", '', bar.split(\" \")[-1]).lower()\n",
    "        # finding the rhyming word for 'last_word'\n",
    "        #print(last_word)\n",
    "        rhyming_words = pronouncing.rhymes(last_word)\n",
    "        #rhyming_words = [x.encode('UTF8') for x in rhyming_words]\n",
    "        #print(rhyming_words)\n",
    "        rhyming_words_ending = []\n",
    "        for rhyming_word in rhyming_words:\n",
    "            rhyming_words_ending.append(rhyming_word[-2:]) # this will pull the last 2 characters from each rhyming word\n",
    "        #print(rhyming_words_ending)\n",
    "        # now we see that which of the 2 characters in the rhyming_words_ending list occur the most\n",
    "        # we used a try catch that if the rhyming word is not found then we will take the last 2 characters of the original word\n",
    "        try:\n",
    "            rhyming_words_ending_most_common = max(set(rhyming_words_ending), key = rhyming_words_ending.count)\n",
    "        except Exception:\n",
    "            rhyming_words_ending_most_common = last_word[-2:]\n",
    "            #print(rhyming_words_ending_most_common)\n",
    "        rhyme_list_all.append(rhyming_words_ending_most_common)\n",
    "        #print(rhyme_list_all)\n",
    "    # now taking the set of the list to get only unique last 2 characters\n",
    "    #print('for loop ended')\n",
    "    rhyme_list_all = list(set(rhyme_list_all))\n",
    "    reverse_list = [x[::-1] for x in rhyme_list_all] #  using slicing syntax to reverse the letters[start,stop,step],\n",
    "    #print(reverse_list)\n",
    "    reverse_list = sorted(reverse_list)# sorting the characters\n",
    "    #print(reverse_list)\n",
    "    # now we will reverse the string again : this is done so that the words with the similar sounds can be taken in order\n",
    "    rhyming_list_final =  [x[::-1] for x in reverse_list]\n",
    "    return rhyming_list_final"
   ]
  },
  {
   "cell_type": "code",
   "execution_count": 137,
   "metadata": {},
   "outputs": [],
   "source": [
    "rhyming_list_final = rhyming_list_all(bars) # contain the list of all common rhyming words (last 2 characters) used in the lyrics across all bars"
   ]
  },
  {
   "cell_type": "code",
   "execution_count": 138,
   "metadata": {},
   "outputs": [
    {
     "name": "stdout",
     "output_type": "stream",
     "text": [
      "285\n",
      "['', \"s'\", 'a', 'aa', 'ba', 'ca', 'da', 'ea', 'ga', 'ha', 'ia', 'ja', 'ka', 'la', 'ma', 'na', 'pa', 'ra', 'sa', 'ta', 'ua', 'va', 'ya', 'za', 'ab', 'eb', 'ib', 'ob', 'rb', 'ub', 'ac', 'bc', 'fc', 'gc', 'ic', 'mc', 'nc', 'oc', 'ad', 'ed', 'id', 'ld', 'nd', 'od', 'rd', 'ud', 'vd', 'be', 'ce', 'de', 'ee', 'fe', 'ge', 'he', 'ie', 'ke', 'le', 'me', 'ne', 'oe', 'pe', 're', 'se', 'te', 'ue', 've', 'ye', 'ze', 'af', 'ef', 'ff', 'if', 'lf', 'of', 'tf', 'ag', 'bg', 'eg', 'gg', 'ig', 'ng', 'og', 'pg', 'rg', 'ug', 'wg', 'ah', 'ch', 'eh', 'gh', 'hh', 'nh', 'oh', 'ph', 'sh', 'th', 'uh', 'wh', 'ai', 'ci', 'gi', 'hi', 'ii', 'ki', 'li', 'mi', 'ni', 'oi', 'pi', 'ri', 'si', 'ti', 'zi', 'pj', 'tj', 'ak', 'ck', 'ek', 'ik', 'kk', 'lk', 'nk', 'ok', 'rk', 'sk', 'al', 'el', 'hl', 'il', 'll', 'ol', 'rl', 'tl', 'ul', 'wl', 'xl', 'am', 'bm', 'em', 'im', 'lm', 'mm', 'om', 'rm', 'sm', 'um', 'an', 'en', 'gn', 'in', 'mn', 'nn', 'on', 'rn', 'un', 'wn', 'yn', 'ao', 'co', 'do', 'eo', 'fo', 'go', 'io', 'jo', 'ko', 'lo', 'mo', 'no', 'oo', 'po', 'ro', 'to', 'vo', 'wo', 'yo', 'zo', 'ap', 'dp', 'ep', 'ip', 'lp', 'mp', 'op', 'pp', 'rp', 'sp', 'up', 'ar', 'cr', 'er', 'ir', 'jr', 'or', 'pr', 'rr', 'ur', \"'s\", 'as', 'bs', 'cs', 'ds', 'es', 'fs', 'gs', 'hs', 'is', 'js', 'ks', 'ls', 'ms', 'ns', 'os', 'ps', 'rs', 'ss', 'ts', 'us', 'vs', 'ws', 'ys', \"'t\", 'at', 'ct', 'et', 'ft', 'ht', 'it', 'lt', 'nt', 'ot', 'pt', 'rt', 'st', 'tt', 'ut', 'au', 'cu', 'ru', 'uu', 'av', 'iv', 'lv', 'ov', 'aw', 'ew', 'lw', 'ow', 'ww', 'ax', 'ex', 'ix', 'ox', 'yx', 'ay', 'by', 'cy', 'dy', 'ey', 'fy', 'gy', 'hy', 'ky', 'ly', 'my', 'ny', 'oy', 'py', 'ry', 'sy', 'ty', 'vy', 'yy', 'zy', 'az', 'ez', 'gz', 'iz', 'lz', 'oz', 'pz', 'tz', 'uz', 'yz', 'zz']\n"
     ]
    }
   ],
   "source": [
    "print(len(rhyming_list_final)) # lenth of the common rhyming words used in the lyrics across all bars\n",
    "print(rhyming_list_final)"
   ]
  },
  {
   "cell_type": "markdown",
   "metadata": {},
   "source": [
    "### What is a syllables:\n",
    "- A syllable is a single, unbroken sound of a spoken (or written) word. Syllables usually contain a vowel and accompanying consonants <br>  \n",
    "- EXAMPLE: Water has two syllables (wa / ter), Computer has three syllables (com / pu / ter)<br>\n",
    "\n",
    "### why do we need syllables in rap song?:\n",
    "- Counting syllables is an excellent skill <br>\n",
    "- Important part of the structure of your rhymes is syllable structure<br>\n",
    "- The syllables in each line will create a beat in your rap<br>\n",
    "- Generally, by drawing out a line with too many syllables, or making a line too short with too few syllables, you can disrupt the beat of your rap<br>\n",
    "- Avoid this by trying to balance rhyming lines to have the same number of beats<br>\n",
    "\n",
    "### To note: \n",
    "- We are considering the maximun number of syllables for out rap song to be 16 in a line"
   ]
  },
  {
   "cell_type": "markdown",
   "metadata": {},
   "source": [
    "<b> <u> Step 6 : We will count the syallables in a sentence  </b> </u>"
   ]
  },
  {
   "cell_type": "code",
   "execution_count": 70,
   "metadata": {},
   "outputs": [],
   "source": [
    "import syllables\n",
    "def find_syllables_count(bar):\n",
    "    return syllables.estimate(bar)/16 # average syllables count in a bar"
   ]
  },
  {
   "cell_type": "markdown",
   "metadata": {},
   "source": [
    "<b> <u>Step 7: we would convert the index of our rhyming 2 character into float value</b> </u>"
   ]
  },
  {
   "cell_type": "code",
   "execution_count": 22,
   "metadata": {},
   "outputs": [],
   "source": [
    "\n",
    "# we are doing the following steps to see that how close the rhyming words are each other\n",
    "# This will make the last words which are similar in rhyme to get closer scores\n",
    "\n",
    "def index_rhyming_word_to_float(rhyming_list_final, bar):\n",
    "    word = re.sub(r\"\\W+\", '', bar.split(\" \")[-1]).lower()\n",
    "    rhymeslist = pronouncing.rhymes(word)\n",
    "    #rhymeslist = [x.encode('UTF8') for x in rhymeslist]\n",
    "    rhymeslistends = []\n",
    "    for i in rhymeslist:\n",
    "        rhymeslistends.append(i[-2:])\n",
    "    try:\n",
    "        rhymescheme = max(set(rhymeslistends), key=rhymeslistends.count)\n",
    "    except Exception:\n",
    "        rhymescheme = word[-2:]\n",
    "    #print(len(rhymescheme))\n",
    "    try:\n",
    "        float_rhyme = rhyming_list_final.index(rhymescheme)\n",
    "        float_rhyme = float_rhyme / float(len(rhyming_list_final))\n",
    "        #print(word, float_rhyme)\n",
    "        return float_rhyme\n",
    "    except Exception:\n",
    "        #print(word, float_rhyme)\n",
    "        return None"
   ]
  },
  {
   "cell_type": "markdown",
   "metadata": {},
   "source": [
    "<b> <u>Step 8 : combining the list of bars, syllables and float_rhyme_bar_list to a list</b> </u>"
   ]
  },
  {
   "cell_type": "code",
   "execution_count": 23,
   "metadata": {},
   "outputs": [],
   "source": [
    "data_set = []\n",
    "values_data_set = []\n",
    "for bar in bars:\n",
    "    values_data_set = [bar, find_syllables_count(bar), index_rhyming_word_to_float(rhyming_list_final, bar)]\n",
    "    data_set.append(values_data_set)"
   ]
  },
  {
   "cell_type": "code",
   "execution_count": 24,
   "metadata": {},
   "outputs": [
    {
     "data": {
      "text/plain": [
       "17505"
      ]
     },
     "execution_count": 24,
     "metadata": {},
     "output_type": "execute_result"
    }
   ],
   "source": [
    "len(data_set)"
   ]
  },
  {
   "cell_type": "code",
   "execution_count": 25,
   "metadata": {},
   "outputs": [
    {
     "data": {
      "text/plain": [
       "4376.25"
      ]
     },
     "execution_count": 25,
     "metadata": {},
     "output_type": "execute_result"
    }
   ],
   "source": [
    "len(data_set)/4"
   ]
  },
  {
   "cell_type": "markdown",
   "metadata": {},
   "source": [
    "### What is a verse:\n",
    "- Writing arranged with a metrical rhythm, typically having a rhyme <br>\n",
    "\n",
    "### why do we need verse in rap song?:\n",
    "- Verses are an important componenent of any song <br>\n",
    "- The duration is usually 16 bars, but the verse may last 8 bars, 12 bars, or 24 bars.<br>\n",
    "- As seen from the above patten, we will consider a verse of length 4<br>\n",
    "\n",
    "##### Since our dataset is of the length 17505, if we divide it by 4, we would get a decimal number (4376.25), so we will round it off to a whole number by substracting 1 bars and then diving it by 4"
   ]
  },
  {
   "cell_type": "code",
   "execution_count": 26,
   "metadata": {},
   "outputs": [
    {
     "data": {
      "text/plain": [
       "4376.0"
      ]
     },
     "execution_count": 26,
     "metadata": {},
     "output_type": "execute_result"
    }
   ],
   "source": [
    "new_length_data_set = len(data_set) -1\n",
    "new_length_data_set/4"
   ]
  },
  {
   "cell_type": "markdown",
   "metadata": {},
   "source": [
    " <b> <u> Step 9 : creating the X and y for the lstm model </b> </u>"
   ]
  },
  {
   "cell_type": "code",
   "execution_count": 27,
   "metadata": {},
   "outputs": [],
   "source": [
    "import numpy as np\n",
    "X = []\n",
    "y = []\n",
    "i = 0\n",
    "for data in range(new_length_data_set - 8):\n",
    "    \n",
    "    # this would create feature and labels as follows:\n",
    "    # for example: if features ==> line 1, line 2, then labels ==> line 3, line 4\n",
    "    # if features ==>  line 2, line 3, then labels ==> line4, line 5\n",
    "    \n",
    "    bar_1 = data_set[data][1:]\n",
    "    bar_2 = data_set[data + 1][1:]\n",
    "    bar_3 = data_set[data + 2][1:]\n",
    "    bar_4 = data_set[data + 3][1:]\n",
    "    #bar_5 = data_set[data + 4][1:]\n",
    "    #bar_6 = data_set[data + 5][1:]\n",
    "    #bar_7 = data_set[data + 6][1:]\n",
    "    #bar_8 = data_set[data + 7][1:]        \n",
    "\n",
    "    #print(bar_1, bar_2, bar_3, bar_4)\n",
    "    #feature = [bar_1[0], bar_1[1], bar_2[0], bar_2[1], bar_3[0], bar_3[1], bar_4[0], bar_4[1]]\n",
    "    feature = [bar_1[0], bar_1[1], bar_2[0], bar_2[1]]\n",
    "    label = [bar_3[0], bar_3[1], bar_4[0], bar_4[1]]\n",
    "    #label = [bar_5[0], bar_5[1], bar_6[0], bar_6[1],bar_7[0], bar_7[1], bar_8[0], bar_8[1]]\n",
    "    #print(feature)\n",
    "    #print(label)\n",
    "    feature = np.array(feature)\n",
    "    label = np.array(label)\n",
    "    #print(feature)\n",
    "    #print(label)   \n",
    "    feature = feature.reshape(2,2)\n",
    "    label = label.reshape(2,2)\n",
    "    #print(feature)\n",
    "    #print(label)  \n",
    "    X.append(feature)\n",
    "    y.append(label)\n",
    "X = np.array(X)\n",
    "y = np.array(y)"
   ]
  },
  {
   "cell_type": "code",
   "execution_count": 28,
   "metadata": {},
   "outputs": [
    {
     "data": {
      "text/plain": [
       "array([[[0.5       , 0.66666667],\n",
       "        [1.        , 0.18596491]],\n",
       "\n",
       "       [[1.        , 0.18596491],\n",
       "        [0.3125    , 0.28070175]],\n",
       "\n",
       "       [[0.3125    , 0.28070175],\n",
       "        [0.5       , 0.75438596]],\n",
       "\n",
       "       ...,\n",
       "\n",
       "       [[0.6875    , 0.19649123],\n",
       "        [0.75      , 0.19649123]],\n",
       "\n",
       "       [[0.75      , 0.19649123],\n",
       "        [0.6875    , 0.19649123]],\n",
       "\n",
       "       [[0.6875    , 0.19649123],\n",
       "        [0.8125    , 0.2       ]]])"
      ]
     },
     "execution_count": 28,
     "metadata": {},
     "output_type": "execute_result"
    }
   ],
   "source": [
    "y"
   ]
  },
  {
   "cell_type": "code",
   "execution_count": 29,
   "metadata": {},
   "outputs": [],
   "source": [
    "# test train split\n",
    "\n",
    "#X_train = X[:13130]\n",
    "#y_train = y[:13130] \n",
    "#X_test = X[13130:]\n",
    "#y_test = y[13130:]"
   ]
  },
  {
   "cell_type": "markdown",
   "metadata": {},
   "source": [
    " <b> <u> Step 10 : LSTM Model </b> </u>"
   ]
  },
  {
   "cell_type": "code",
   "execution_count": 30,
   "metadata": {},
   "outputs": [
    {
     "name": "stderr",
     "output_type": "stream",
     "text": [
      "Using TensorFlow backend.\n"
     ]
    }
   ],
   "source": [
    "# step 9 : creating the lstm model for training\n",
    "from keras.models import Sequential\n",
    "from keras.layers import LSTM\n",
    "from keras.layers.core import Dense"
   ]
  },
  {
   "cell_type": "markdown",
   "metadata": {},
   "source": [
    "#### LSTM parameters:\n",
    "- input_shape = (2,2) ==>  Any size for a batch, time steps is 2 and number of input units is 2\n",
    "- input shape is of the form (batch_size, 2, 2)\n",
    "- units ==> number of output units in the LSTM\n",
    "- return_sequence is True ==> Output is a 3D array (batch_size, time_steps, units)"
   ]
  },
  {
   "cell_type": "code",
   "execution_count": 61,
   "metadata": {},
   "outputs": [
    {
     "name": "stdout",
     "output_type": "stream",
     "text": [
      "_________________________________________________________________\n",
      "Layer (type)                 Output Shape              Param #   \n",
      "=================================================================\n",
      "lstm_54 (LSTM)               (None, 2, 4)              112       \n",
      "_________________________________________________________________\n",
      "lstm_55 (LSTM)               (None, 2, 4)              144       \n",
      "_________________________________________________________________\n",
      "lstm_56 (LSTM)               (None, 2, 4)              144       \n",
      "_________________________________________________________________\n",
      "lstm_57 (LSTM)               (None, 2, 4)              144       \n",
      "_________________________________________________________________\n",
      "lstm_58 (LSTM)               (None, 2, 2)              56        \n",
      "=================================================================\n",
      "Total params: 600\n",
      "Trainable params: 600\n",
      "Non-trainable params: 0\n",
      "_________________________________________________________________\n"
     ]
    }
   ],
   "source": [
    "import keras\n",
    "model = Sequential()\n",
    "model.add(LSTM(4, input_shape = (2,2), return_sequences = True)) \n",
    "model.add(LSTM(4, return_sequences = True))\n",
    "model.add(LSTM(4, return_sequences = True))\n",
    "model.add(LSTM(4, return_sequences = True))\n",
    "model.add(LSTM(2, return_sequences = True))\n",
    "model.summary()\n",
    "sgd = keras.optimizers.SGD(lr=0.001, decay=1e-6, momentum=0.9, nesterov=True)\n",
    "model.compile(optimizer = sgd , loss = 'mse', metrics=['accuracy']) # the optimizer function rmsprop: optimizes the gradient descent and the the loss function: mse: \"mean_squared_error "
   ]
  },
  {
   "cell_type": "code",
   "execution_count": 62,
   "metadata": {
    "scrolled": true
   },
   "outputs": [
    {
     "name": "stdout",
     "output_type": "stream",
     "text": [
      "Train on 13122 samples, validate on 4374 samples\n",
      "Epoch 1/100\n",
      "13122/13122 [==============================] - 16s 1ms/step - loss: 0.3149 - acc: 0.6818 - val_loss: 0.2329 - val_acc: 0.6992\n",
      "Epoch 2/100\n",
      "13122/13122 [==============================] - 5s 390us/step - loss: 0.2125 - acc: 0.6827 - val_loss: 0.1806 - val_acc: 0.6992\n",
      "Epoch 3/100\n",
      "13122/13122 [==============================] - 7s 545us/step - loss: 0.1749 - acc: 0.6827 - val_loss: 0.1526 - val_acc: 0.6992\n",
      "Epoch 4/100\n",
      "13122/13122 [==============================] - 6s 490us/step - loss: 0.1518 - acc: 0.6827 - val_loss: 0.1333 - val_acc: 0.6992\n",
      "Epoch 5/100\n",
      "13122/13122 [==============================] - 6s 448us/step - loss: 0.1351 - acc: 0.6827 - val_loss: 0.1189 - val_acc: 0.6992\n",
      "Epoch 6/100\n",
      "13122/13122 [==============================] - 6s 465us/step - loss: 0.1224 - acc: 0.6827 - val_loss: 0.1077 - val_acc: 0.6992\n",
      "Epoch 7/100\n",
      "13122/13122 [==============================] - 6s 432us/step - loss: 0.1127 - acc: 0.6827 - val_loss: 0.0991 - val_acc: 0.6992\n",
      "Epoch 8/100\n",
      "13122/13122 [==============================] - 6s 423us/step - loss: 0.1051 - acc: 0.6827 - val_loss: 0.0925 - val_acc: 0.6992\n",
      "Epoch 9/100\n",
      "13122/13122 [==============================] - 6s 438us/step - loss: 0.0993 - acc: 0.6827 - val_loss: 0.0873 - val_acc: 0.6992\n",
      "Epoch 10/100\n",
      "13122/13122 [==============================] - 6s 449us/step - loss: 0.0948 - acc: 0.6827 - val_loss: 0.0833 - val_acc: 0.6992\n",
      "Epoch 11/100\n",
      "13122/13122 [==============================] - 6s 445us/step - loss: 0.0913 - acc: 0.6827 - val_loss: 0.0803 - val_acc: 0.6992\n",
      "Epoch 12/100\n",
      "13122/13122 [==============================] - 6s 482us/step - loss: 0.0887 - acc: 0.6827 - val_loss: 0.0779 - val_acc: 0.6992\n",
      "Epoch 13/100\n",
      "13122/13122 [==============================] - 6s 422us/step - loss: 0.0866 - acc: 0.6827 - val_loss: 0.0760 - val_acc: 0.6992\n",
      "Epoch 14/100\n",
      "13122/13122 [==============================] - 5s 382us/step - loss: 0.0850 - acc: 0.6827 - val_loss: 0.0746 - val_acc: 0.6992s - loss: 0.0848 - a\n",
      "Epoch 15/100\n",
      "13122/13122 [==============================] - 5s 387us/step - loss: 0.0837 - acc: 0.6827 - val_loss: 0.0734 - val_acc: 0.6992\n",
      "Epoch 16/100\n",
      "13122/13122 [==============================] - 5s 381us/step - loss: 0.0827 - acc: 0.6827 - val_loss: 0.0725 - val_acc: 0.6992\n",
      "Epoch 17/100\n",
      "13122/13122 [==============================] - 5s 378us/step - loss: 0.0819 - acc: 0.6827 - val_loss: 0.0717 - val_acc: 0.6992\n",
      "Epoch 18/100\n",
      "13122/13122 [==============================] - 5s 413us/step - loss: 0.0812 - acc: 0.6827 - val_loss: 0.0711 - val_acc: 0.6992\n",
      "Epoch 19/100\n",
      "13122/13122 [==============================] - 5s 404us/step - loss: 0.0806 - acc: 0.6827 - val_loss: 0.0705 - val_acc: 0.6992\n",
      "Epoch 20/100\n",
      "13122/13122 [==============================] - 5s 413us/step - loss: 0.0801 - acc: 0.6827 - val_loss: 0.0700 - val_acc: 0.6992\n",
      "Epoch 21/100\n",
      "13122/13122 [==============================] - 6s 425us/step - loss: 0.0796 - acc: 0.6827 - val_loss: 0.0696 - val_acc: 0.6992\n",
      "Epoch 22/100\n",
      "13122/13122 [==============================] - 5s 396us/step - loss: 0.0792 - acc: 0.6827 - val_loss: 0.0692 - val_acc: 0.6992\n",
      "Epoch 23/100\n",
      "13122/13122 [==============================] - 5s 376us/step - loss: 0.0788 - acc: 0.6827 - val_loss: 0.0688 - val_acc: 0.6992\n",
      "Epoch 24/100\n",
      "13122/13122 [==============================] - 5s 392us/step - loss: 0.0785 - acc: 0.6827 - val_loss: 0.0685 - val_acc: 0.6992\n",
      "Epoch 25/100\n",
      "13122/13122 [==============================] - 5s 377us/step - loss: 0.0782 - acc: 0.6827 - val_loss: 0.0682 - val_acc: 0.6992\n",
      "Epoch 26/100\n",
      "13122/13122 [==============================] - 5s 379us/step - loss: 0.0778 - acc: 0.6827 - val_loss: 0.0678 - val_acc: 0.6992\n",
      "Epoch 27/100\n",
      "13122/13122 [==============================] - 5s 389us/step - loss: 0.0775 - acc: 0.6827 - val_loss: 0.0675 - val_acc: 0.6992\n",
      "Epoch 28/100\n",
      "13122/13122 [==============================] - 5s 382us/step - loss: 0.0772 - acc: 0.6827 - val_loss: 0.0673 - val_acc: 0.6992\n",
      "Epoch 29/100\n",
      "13122/13122 [==============================] - 5s 377us/step - loss: 0.0770 - acc: 0.6827 - val_loss: 0.0670 - val_acc: 0.6992\n",
      "Epoch 30/100\n",
      "13122/13122 [==============================] - 5s 391us/step - loss: 0.0767 - acc: 0.6827 - val_loss: 0.0667 - val_acc: 0.6992\n",
      "Epoch 31/100\n",
      "13122/13122 [==============================] - 5s 376us/step - loss: 0.0764 - acc: 0.6827 - val_loss: 0.0664 - val_acc: 0.6992\n",
      "Epoch 32/100\n",
      "13122/13122 [==============================] - 5s 377us/step - loss: 0.0762 - acc: 0.6827 - val_loss: 0.0662 - val_acc: 0.6992\n",
      "Epoch 33/100\n",
      "13122/13122 [==============================] - 5s 389us/step - loss: 0.0759 - acc: 0.6827 - val_loss: 0.0659 - val_acc: 0.6992\n",
      "Epoch 34/100\n",
      "13122/13122 [==============================] - 5s 378us/step - loss: 0.0757 - acc: 0.6827 - val_loss: 0.0657 - val_acc: 0.6992\n",
      "Epoch 35/100\n",
      "13122/13122 [==============================] - 5s 376us/step - loss: 0.0754 - acc: 0.6827 - val_loss: 0.0654 - val_acc: 0.6992\n",
      "Epoch 36/100\n",
      "13122/13122 [==============================] - 5s 384us/step - loss: 0.0752 - acc: 0.6827 - val_loss: 0.0652 - val_acc: 0.6992\n",
      "Epoch 37/100\n",
      "13122/13122 [==============================] - 5s 394us/step - loss: 0.0750 - acc: 0.6827 - val_loss: 0.0650 - val_acc: 0.6992\n",
      "Epoch 38/100\n",
      "13122/13122 [==============================] - 5s 382us/step - loss: 0.0747 - acc: 0.6827 - val_loss: 0.0648 - val_acc: 0.6992\n",
      "Epoch 39/100\n",
      "13122/13122 [==============================] - 5s 389us/step - loss: 0.0745 - acc: 0.6827 - val_loss: 0.0645 - val_acc: 0.6992\n",
      "Epoch 40/100\n",
      "13122/13122 [==============================] - 5s 409us/step - loss: 0.0743 - acc: 0.6827 - val_loss: 0.0643 - val_acc: 0.6992\n",
      "Epoch 41/100\n",
      "13122/13122 [==============================] - 5s 410us/step - loss: 0.0741 - acc: 0.6827 - val_loss: 0.0641 - val_acc: 0.6992\n",
      "Epoch 42/100\n",
      "13122/13122 [==============================] - 5s 385us/step - loss: 0.0739 - acc: 0.6827 - val_loss: 0.0639 - val_acc: 0.6992\n",
      "Epoch 43/100\n",
      "13122/13122 [==============================] - 5s 406us/step - loss: 0.0737 - acc: 0.6827 - val_loss: 0.0637 - val_acc: 0.6992\n",
      "Epoch 44/100\n",
      "13122/13122 [==============================] - 5s 394us/step - loss: 0.0735 - acc: 0.6827 - val_loss: 0.0635 - val_acc: 0.6992\n",
      "Epoch 45/100\n",
      "13122/13122 [==============================] - 5s 385us/step - loss: 0.0733 - acc: 0.6827 - val_loss: 0.0633 - val_acc: 0.6992\n",
      "Epoch 46/100\n",
      "13122/13122 [==============================] - 5s 399us/step - loss: 0.0731 - acc: 0.6827 - val_loss: 0.0632 - val_acc: 0.6992\n",
      "Epoch 47/100\n",
      "13122/13122 [==============================] - 5s 417us/step - loss: 0.0729 - acc: 0.6827 - val_loss: 0.0630 - val_acc: 0.6992\n",
      "Epoch 48/100\n",
      "13122/13122 [==============================] - 5s 386us/step - loss: 0.0728 - acc: 0.6827 - val_loss: 0.0628 - val_acc: 0.6992\n",
      "Epoch 49/100\n",
      "13122/13122 [==============================] - 5s 399us/step - loss: 0.0726 - acc: 0.6827 - val_loss: 0.0626 - val_acc: 0.6992\n",
      "Epoch 50/100\n",
      "13122/13122 [==============================] - 5s 384us/step - loss: 0.0724 - acc: 0.6827 - val_loss: 0.0625 - val_acc: 0.6992\n",
      "Epoch 51/100\n",
      "13122/13122 [==============================] - 5s 390us/step - loss: 0.0723 - acc: 0.6827 - val_loss: 0.0623 - val_acc: 0.6992\n",
      "Epoch 52/100\n",
      "13122/13122 [==============================] - 5s 399us/step - loss: 0.0721 - acc: 0.6827 - val_loss: 0.0622 - val_acc: 0.6992\n",
      "Epoch 53/100\n",
      "13122/13122 [==============================] - 5s 393us/step - loss: 0.0719 - acc: 0.6827 - val_loss: 0.0620 - val_acc: 0.6992\n",
      "Epoch 54/100\n",
      "13122/13122 [==============================] - 5s 388us/step - loss: 0.0718 - acc: 0.6827 - val_loss: 0.0619 - val_acc: 0.6992\n",
      "Epoch 55/100\n",
      "13122/13122 [==============================] - 6s 484us/step - loss: 0.0717 - acc: 0.6827 - val_loss: 0.0617 - val_acc: 0.6992\n",
      "Epoch 56/100\n",
      "13122/13122 [==============================] - 5s 392us/step - loss: 0.0715 - acc: 0.6827 - val_loss: 0.0616 - val_acc: 0.6992\n",
      "Epoch 57/100\n",
      "13122/13122 [==============================] - 5s 390us/step - loss: 0.0714 - acc: 0.6827 - val_loss: 0.0615 - val_acc: 0.69921s - lo - ETA: 0s - loss: 0.0713 - acc\n",
      "Epoch 58/100\n"
     ]
    },
    {
     "name": "stdout",
     "output_type": "stream",
     "text": [
      "13122/13122 [==============================] - 5s 384us/step - loss: 0.0713 - acc: 0.6827 - val_loss: 0.0613 - val_acc: 0.6992\n",
      "Epoch 59/100\n",
      "13122/13122 [==============================] - 5s 371us/step - loss: 0.0711 - acc: 0.6827 - val_loss: 0.0612 - val_acc: 0.6992\n",
      "Epoch 60/100\n",
      "13122/13122 [==============================] - 5s 371us/step - loss: 0.0710 - acc: 0.6827 - val_loss: 0.0611 - val_acc: 0.6992\n",
      "Epoch 61/100\n",
      "13122/13122 [==============================] - 5s 379us/step - loss: 0.0709 - acc: 0.6827 - val_loss: 0.0610 - val_acc: 0.6992\n",
      "Epoch 62/100\n",
      "13122/13122 [==============================] - 5s 370us/step - loss: 0.0708 - acc: 0.6827 - val_loss: 0.0609 - val_acc: 0.6992\n",
      "Epoch 63/100\n",
      "13122/13122 [==============================] - 5s 368us/step - loss: 0.0707 - acc: 0.6827 - val_loss: 0.0608 - val_acc: 0.6992\n",
      "Epoch 64/100\n",
      "13122/13122 [==============================] - 5s 377us/step - loss: 0.0705 - acc: 0.6827 - val_loss: 0.0606 - val_acc: 0.6992\n",
      "Epoch 65/100\n",
      "13122/13122 [==============================] - 5s 376us/step - loss: 0.0704 - acc: 0.6827 - val_loss: 0.0605 - val_acc: 0.6992\n",
      "Epoch 66/100\n",
      "13122/13122 [==============================] - 5s 374us/step - loss: 0.0703 - acc: 0.6827 - val_loss: 0.0604 - val_acc: 0.6992\n",
      "Epoch 67/100\n",
      "13122/13122 [==============================] - 5s 369us/step - loss: 0.0702 - acc: 0.6827 - val_loss: 0.0603 - val_acc: 0.6992\n",
      "Epoch 68/100\n",
      "13122/13122 [==============================] - 5s 382us/step - loss: 0.0702 - acc: 0.6827 - val_loss: 0.0603 - val_acc: 0.6992\n",
      "Epoch 69/100\n",
      "13122/13122 [==============================] - 5s 372us/step - loss: 0.0701 - acc: 0.6827 - val_loss: 0.0602 - val_acc: 0.6992\n",
      "Epoch 70/100\n",
      "13122/13122 [==============================] - 5s 372us/step - loss: 0.0700 - acc: 0.6827 - val_loss: 0.0601 - val_acc: 0.6992\n",
      "Epoch 71/100\n",
      "13122/13122 [==============================] - 5s 387us/step - loss: 0.0699 - acc: 0.6827 - val_loss: 0.0600 - val_acc: 0.6992\n",
      "Epoch 72/100\n",
      "13122/13122 [==============================] - 5s 375us/step - loss: 0.0698 - acc: 0.6827 - val_loss: 0.0599 - val_acc: 0.6992\n",
      "Epoch 73/100\n",
      "13122/13122 [==============================] - 5s 375us/step - loss: 0.0697 - acc: 0.6827 - val_loss: 0.0598 - val_acc: 0.6992\n",
      "Epoch 74/100\n",
      "13122/13122 [==============================] - 5s 379us/step - loss: 0.0696 - acc: 0.6827 - val_loss: 0.0598 - val_acc: 0.6992\n",
      "Epoch 75/100\n",
      "13122/13122 [==============================] - 5s 368us/step - loss: 0.0696 - acc: 0.6827 - val_loss: 0.0597 - val_acc: 0.6992\n",
      "Epoch 76/100\n",
      "13122/13122 [==============================] - 5s 372us/step - loss: 0.0695 - acc: 0.6827 - val_loss: 0.0596 - val_acc: 0.6992\n",
      "Epoch 77/100\n",
      "13122/13122 [==============================] - 5s 380us/step - loss: 0.0694 - acc: 0.6827 - val_loss: 0.0596 - val_acc: 0.6992\n",
      "Epoch 78/100\n",
      "13122/13122 [==============================] - 5s 377us/step - loss: 0.0694 - acc: 0.6827 - val_loss: 0.0595 - val_acc: 0.6992\n",
      "Epoch 79/100\n",
      "13122/13122 [==============================] - 5s 371us/step - loss: 0.0693 - acc: 0.6827 - val_loss: 0.0594 - val_acc: 0.6992\n",
      "Epoch 80/100\n",
      "13122/13122 [==============================] - 5s 379us/step - loss: 0.0692 - acc: 0.6827 - val_loss: 0.0594 - val_acc: 0.6992\n",
      "Epoch 81/100\n",
      "13122/13122 [==============================] - 5s 381us/step - loss: 0.0692 - acc: 0.6827 - val_loss: 0.0593 - val_acc: 0.6992\n",
      "Epoch 82/100\n",
      "13122/13122 [==============================] - 5s 375us/step - loss: 0.0691 - acc: 0.6827 - val_loss: 0.0593 - val_acc: 0.6992\n",
      "Epoch 83/100\n",
      "13122/13122 [==============================] - 5s 370us/step - loss: 0.0691 - acc: 0.6827 - val_loss: 0.0592 - val_acc: 0.6992\n",
      "Epoch 84/100\n",
      "13122/13122 [==============================] - 5s 381us/step - loss: 0.0690 - acc: 0.6827 - val_loss: 0.0592 - val_acc: 0.6992\n",
      "Epoch 85/100\n",
      "13122/13122 [==============================] - 5s 375us/step - loss: 0.0690 - acc: 0.6827 - val_loss: 0.0591 - val_acc: 0.6992\n",
      "Epoch 86/100\n",
      "13122/13122 [==============================] - 5s 375us/step - loss: 0.0689 - acc: 0.6827 - val_loss: 0.0591 - val_acc: 0.6992\n",
      "Epoch 87/100\n",
      "13122/13122 [==============================] - 5s 386us/step - loss: 0.0689 - acc: 0.6827 - val_loss: 0.0590 - val_acc: 0.6992\n",
      "Epoch 88/100\n",
      "13122/13122 [==============================] - 5s 374us/step - loss: 0.0688 - acc: 0.6827 - val_loss: 0.0590 - val_acc: 0.6992\n",
      "Epoch 89/100\n",
      "13122/13122 [==============================] - 5s 379us/step - loss: 0.0688 - acc: 0.6827 - val_loss: 0.0589 - val_acc: 0.6992\n",
      "Epoch 90/100\n",
      "13122/13122 [==============================] - 5s 387us/step - loss: 0.0687 - acc: 0.6827 - val_loss: 0.0589 - val_acc: 0.6992\n",
      "Epoch 91/100\n",
      "13122/13122 [==============================] - 5s 381us/step - loss: 0.0687 - acc: 0.6827 - val_loss: 0.0588 - val_acc: 0.6992\n",
      "Epoch 92/100\n",
      "13122/13122 [==============================] - 5s 372us/step - loss: 0.0687 - acc: 0.6827 - val_loss: 0.0588 - val_acc: 0.6992\n",
      "Epoch 93/100\n",
      "13122/13122 [==============================] - 5s 377us/step - loss: 0.0686 - acc: 0.6827 - val_loss: 0.0588 - val_acc: 0.6992\n",
      "Epoch 94/100\n",
      "13122/13122 [==============================] - 5s 387us/step - loss: 0.0686 - acc: 0.6827 - val_loss: 0.0587 - val_acc: 0.6992\n",
      "Epoch 95/100\n",
      "13122/13122 [==============================] - 5s 378us/step - loss: 0.0685 - acc: 0.6827 - val_loss: 0.0587 - val_acc: 0.6992\n",
      "Epoch 96/100\n",
      "13122/13122 [==============================] - 5s 373us/step - loss: 0.0685 - acc: 0.6827 - val_loss: 0.0587 - val_acc: 0.6992\n",
      "Epoch 97/100\n",
      "13122/13122 [==============================] - 7s 528us/step - loss: 0.0685 - acc: 0.6827 - val_loss: 0.0586 - val_acc: 0.6992\n",
      "Epoch 98/100\n",
      "13122/13122 [==============================] - 6s 458us/step - loss: 0.0684 - acc: 0.6827 - val_loss: 0.0586 - val_acc: 0.6992\n",
      "Epoch 99/100\n",
      "13122/13122 [==============================] - 6s 432us/step - loss: 0.0684 - acc: 0.6827 - val_loss: 0.0586 - val_acc: 0.6992\n",
      "Epoch 100/100\n",
      "13122/13122 [==============================] - 6s 434us/step - loss: 0.0684 - acc: 0.6827 - val_loss: 0.0586 - val_acc: 0.6992\n"
     ]
    }
   ],
   "source": [
    "# fitting the model\n",
    "history_train_with_train_25 = model.fit(np.array(X), np.array(y),epochs = 100, verbose = 1, validation_split=0.25)"
   ]
  },
  {
   "cell_type": "code",
   "execution_count": 63,
   "metadata": {},
   "outputs": [
    {
     "data": {
      "image/png": "[encoded data removed]",
      "text/plain": [
       "<Figure size 432x288 with 1 Axes>"
      ]
     },
     "metadata": {
      "needs_background": "light"
     },
     "output_type": "display_data"
    },
    {
     "data": {
      "image/png": "[encoded data removed]",
      "text/plain": [
       "<Figure size 432x288 with 1 Axes>"
      ]
     },
     "metadata": {
      "needs_background": "light"
     },
     "output_type": "display_data"
    }
   ],
   "source": [
    "# summarize history for loss\n",
    "import matplotlib.pyplot as plt\n",
    "\n",
    "plt.plot(history_train_with_train.history['loss'][:])\n",
    "plt.plot(history_train_with_train.history['val_loss'][:])\n",
    "plt.title('model train vs validation loss')\n",
    "plt.ylabel('loss')\n",
    "plt.xlabel('epoch')\n",
    "plt.legend(['train', 'validation'], loc='upper right')\n",
    "plt.show()\n",
    "\n",
    "plt.plot(history_train_with_train_25.history['loss'][:])\n",
    "plt.plot(history_train_with_train_25.history['val_loss'][:])\n",
    "plt.title('model train vs validation loss')\n",
    "plt.ylabel('loss')\n",
    "plt.xlabel('epoch')\n",
    "plt.legend(['train', 'validation'], loc='upper right')\n",
    "plt.show()\n"
   ]
  },
  {
   "cell_type": "code",
   "execution_count": null,
   "metadata": {},
   "outputs": [],
   "source": [
    "from ann_visualizer.visualize import ann_viz\n",
    "ann_viz(model, view=True, filename= 'image.gv', title= 'MyNeural Network')"
   ]
  },
  {
   "cell_type": "code",
   "execution_count": null,
   "metadata": {},
   "outputs": [],
   "source": []
  },
  {
   "cell_type": "markdown",
   "metadata": {},
   "source": [
    "<b> <u> Step 11 : Creating new senetences using Markov chain </b> </u>"
   ]
  },
  {
   "cell_type": "code",
   "execution_count": 139,
   "metadata": {},
   "outputs": [],
   "source": [
    "# step 10 : now we will generate new lyrics using markov chain by creating a markov_text object, which would be used to make sentences later\n",
    "import markovify\n",
    "markov_text = markovify.NewlineText(rap_song_file)"
   ]
  },
  {
   "cell_type": "code",
   "execution_count": 140,
   "metadata": {},
   "outputs": [],
   "source": [
    "def generate_lyrics():\n",
    "    bars_new_lyrics = []\n",
    "    last_words = []\n",
    "    lyriclength = len(bars)\n",
    "    count = 0\n",
    "    #markov_model = markov_text((\". \").join('songs.txt') + \".\")\n",
    "\n",
    "    while len(bars_new_lyrics) < lyriclength / 9 and count < lyriclength * 2:\n",
    "        # By default, the make_sentence method tries, a maximum of 10 times per invocation,\n",
    "        # to make a sentence that doesn't overlap too much with the original text.\n",
    "        # If it is successful, the method returns the sentence as a string.\n",
    "        # If not, it returns None. (https://github.com/jsvine/markovify)\n",
    "        bar = markov_text.make_sentence()\n",
    "        #print(bar)\n",
    "        # make sure the bar isn't 'None' and that the amount of\n",
    "        # syllables is under the max syllables\n",
    "        if type(bar) != type(None) and find_syllables_count(bar) < 1:\n",
    "\n",
    "            # function to get the last word of the bar\n",
    "            def get_last_word(bar):\n",
    "                last_word = bar.split(\" \")[-1]\n",
    "                # if the last word is punctuation, get the word before it\n",
    "                if last_word[-1] in \"!.?,\":\n",
    "                    last_word = last_word[:-1]\n",
    "                return last_word\n",
    "\n",
    "            last_word = get_last_word(bar)\n",
    "            # only use the bar if it is unique and the last_word\n",
    "            # has only been seen less than 3 times\n",
    "            if bar not in bars_new_lyrics and last_words.count(last_word) < 3:\n",
    "                bars_new_lyrics.append(bar)\n",
    "                last_words.append(last_word)\n",
    "                count += 1\n",
    "\n",
    "    return bars_new_lyrics"
   ]
  },
  {
   "cell_type": "code",
   "execution_count": 141,
   "metadata": {},
   "outputs": [],
   "source": [
    "bars_new_lyrics = generate_lyrics()"
   ]
  },
  {
   "cell_type": "code",
   "execution_count": 143,
   "metadata": {},
   "outputs": [],
   "source": [
    "\n",
    "new_bars = []\n",
    "for bar in bars_new_lyrics:\n",
    "    bar = re.sub('[^A-Za-z\\s]+', '', bar)\n",
    "    new_bars.append(bar.strip())\n",
    "bars_new_lyrics = new_bars"
   ]
  },
  {
   "cell_type": "code",
   "execution_count": 144,
   "metadata": {},
   "outputs": [
    {
     "name": "stdout",
     "output_type": "stream",
     "text": [
      "1945\n"
     ]
    }
   ],
   "source": [
    "print(len(bars_new_lyrics))"
   ]
  },
  {
   "cell_type": "markdown",
   "metadata": {},
   "source": [
    "#### ----------------completed-----------------------------------------"
   ]
  },
  {
   "cell_type": "code",
   "execution_count": 146,
   "metadata": {},
   "outputs": [],
   "source": [
    "rhyming_list_final_new_lyrics = rhyming_list_all(bars_new_lyrics)"
   ]
  },
  {
   "cell_type": "code",
   "execution_count": 147,
   "metadata": {},
   "outputs": [
    {
     "data": {
      "text/plain": [
       "['a', 'ea', 'ga', 'ia', 'ja', 'ka', 'la', 'ma', 'na', 'ra']"
      ]
     },
     "execution_count": 147,
     "metadata": {},
     "output_type": "execute_result"
    }
   ],
   "source": [
    "rhyming_list_final_new_lyrics[:10]"
   ]
  },
  {
   "cell_type": "code",
   "execution_count": 148,
   "metadata": {},
   "outputs": [
    {
     "name": "stdout",
     "output_type": "stream",
     "text": [
      "189\n"
     ]
    }
   ],
   "source": [
    "print(len(rhyming_list_final_new_lyrics))"
   ]
  },
  {
   "cell_type": "code",
   "execution_count": 169,
   "metadata": {},
   "outputs": [],
   "source": [
    "import random\n",
    "def compose_rap(lines, rhyming_list_final_new_lyrics, model):\n",
    "    rap_vectors = []\n",
    "    human_lyrics = bars\n",
    "    \n",
    "    # choose a random line to start in from given lyrics\n",
    "    initial_index = random.choice(range(len(human_lyrics) - 1))\n",
    "    # create an initial_lines list consisting of 2 lines\n",
    "    initial_lines = human_lyrics[initial_index:initial_index + 8]\n",
    "    print(initial_lines)\n",
    "    #print(initial_lines)\n",
    "    starting_input = []\n",
    "    for line in initial_lines:\n",
    "        # appends a [syllable, rhyme_index] pair to starting_input\n",
    "        #print(line)\n",
    "        starting_input.append([find_syllables_count(line), index_rhyming_word_to_float(rhyming_list_final_new_lyrics,line)])\n",
    "    # predict generates output predictions for the given samples\n",
    "    # it's reshaped as a (1, 2, 2) so that the model can predict each\n",
    "    # 2x2 matrix of [syllable, rhyme_index] pairs\n",
    "    print(starting_input)\n",
    "    starting_vectors = model.predict(np.array([starting_input]).flatten().reshape(4, 2,2))\n",
    "    #starting_vectors = model.predict(np.array([starting_input]).flatten().reshape(2, 2, 4))\n",
    "    rap_vectors.append(starting_vectors)\n",
    "    print(starting_vectors)\n",
    "    for i in range(20):\n",
    "        rap_vectors.append(model.predict(np.array([rap_vectors[-1]]).flatten().reshape(4,2,2)))\n",
    "        #rap_vectors.append(model.predict(np.array([rap_vectors[-1]]).flatten().reshape(2, 2, 4)))\n",
    "    return rap_vectors"
   ]
  },
  {
   "cell_type": "code",
   "execution_count": 177,
   "metadata": {},
   "outputs": [
    {
     "data": {
      "text/plain": [
       "array([[[0.6677761 , 0.46421334],\n",
       "        [0.70928895, 0.5220963 ]],\n",
       "\n",
       "       [[0.6677867 , 0.46421364],\n",
       "        [0.7092974 , 0.5221197 ]],\n",
       "\n",
       "       [[0.66776997, 0.46422145],\n",
       "        [0.70929486, 0.52213573]],\n",
       "\n",
       "       [[0.6677779 , 0.46421763],\n",
       "        [0.70932287, 0.5221247 ]]], dtype=float32)"
      ]
     },
     "execution_count": 177,
     "metadata": {},
     "output_type": "execute_result"
    }
   ],
   "source": [
    "a = [[5.05, 0.922229], [0.25, 0.6455026455026455], [9999.5, 0.21164021164021163], [0.625, 0.21164021164021163], [0.625, 0.10582010582010581], [0.8125, 0.20105820105820105], [0.4, 0.2], [0.1, 0.1]]\n",
    "(model.predict(np.array([a]).flatten().reshape(4,2,2)))"
   ]
  },
  {
   "cell_type": "code",
   "execution_count": 170,
   "metadata": {},
   "outputs": [
    {
     "name": "stdout",
     "output_type": "stream",
     "text": [
      "['and you cant get in without yo gold card you got', 'to be a player', 'now you know a place where', 'you gots to be and i took you there', 'pop goes the nine well go right behind', 'you can slide off your shoes sit back and recline', 'yeah', 'vision  kilos of cocaine smackdead in your face']\n",
      "[[0.75, 0.8253968253968254], [0.25, 0.6455026455026455], [0.5, 0.21164021164021163], [0.625, 0.21164021164021163], [0.625, 0.10582010582010581], [0.8125, 0.20105820105820105], [0.0625, 0.30158730158730157], [0.875, 0.14814814814814814]]\n",
      "[[[0.6677796  0.46421644]\n",
      "  [0.7093291  0.5221089 ]]\n",
      "\n",
      " [[0.6677753  0.46421883]\n",
      "  [0.70930874 0.5221282 ]]\n",
      "\n",
      " [[0.66776997 0.46422145]\n",
      "  [0.70929486 0.52213573]]\n",
      "\n",
      " [[0.6677897  0.46421173]\n",
      "  [0.7093335  0.5221127 ]]]\n"
     ]
    }
   ],
   "source": [
    "rap_generated_with_prediction = compose_rap(bars_new_lyrics, rhyming_list_final_new_lyrics, model)"
   ]
  },
  {
   "cell_type": "code",
   "execution_count": 162,
   "metadata": {},
   "outputs": [
    {
     "data": {
      "text/plain": [
       "[array([[[0.6677803 , 0.46421608],\n",
       "         [0.70932233, 0.5221121 ]],\n",
       " \n",
       "        [[0.66777825, 0.46421704],\n",
       "         [0.7093187 , 0.5221134 ]],\n",
       " \n",
       "        [[0.6677745 , 0.46421903],\n",
       "         [0.7093099 , 0.522119  ]],\n",
       " \n",
       "        [[0.66777045, 0.4642211 ],\n",
       "         [0.70930564, 0.5221287 ]]], dtype=float32),\n",
       " array([[[0.6677753 , 0.46421862],\n",
       "         [0.70931107, 0.522122  ]],\n",
       " \n",
       "        [[0.6677753 , 0.46421862],\n",
       "         [0.70931107, 0.522122  ]],\n",
       " \n",
       "        [[0.6677753 , 0.46421862],\n",
       "         [0.70931107, 0.522122  ]],\n",
       " \n",
       "        [[0.6677753 , 0.46421862],\n",
       "         [0.70931107, 0.522122  ]]], dtype=float32),\n",
       " array([[[0.6677753 , 0.46421862],\n",
       "         [0.70931107, 0.522122  ]],\n",
       " \n",
       "        [[0.6677753 , 0.46421862],\n",
       "         [0.70931107, 0.522122  ]],\n",
       " \n",
       "        [[0.6677753 , 0.46421862],\n",
       "         [0.70931107, 0.522122  ]],\n",
       " \n",
       "        [[0.6677753 , 0.46421862],\n",
       "         [0.70931107, 0.522122  ]]], dtype=float32),\n",
       " array([[[0.6677753 , 0.46421862],\n",
       "         [0.70931107, 0.522122  ]],\n",
       " \n",
       "        [[0.6677753 , 0.46421862],\n",
       "         [0.70931107, 0.522122  ]],\n",
       " \n",
       "        [[0.6677753 , 0.46421862],\n",
       "         [0.70931107, 0.522122  ]],\n",
       " \n",
       "        [[0.6677753 , 0.46421862],\n",
       "         [0.70931107, 0.522122  ]]], dtype=float32),\n",
       " array([[[0.6677753 , 0.46421862],\n",
       "         [0.70931107, 0.522122  ]],\n",
       " \n",
       "        [[0.6677753 , 0.46421862],\n",
       "         [0.70931107, 0.522122  ]],\n",
       " \n",
       "        [[0.6677753 , 0.46421862],\n",
       "         [0.70931107, 0.522122  ]],\n",
       " \n",
       "        [[0.6677753 , 0.46421862],\n",
       "         [0.70931107, 0.522122  ]]], dtype=float32),\n",
       " array([[[0.6677753 , 0.46421862],\n",
       "         [0.70931107, 0.522122  ]],\n",
       " \n",
       "        [[0.6677753 , 0.46421862],\n",
       "         [0.70931107, 0.522122  ]],\n",
       " \n",
       "        [[0.6677753 , 0.46421862],\n",
       "         [0.70931107, 0.522122  ]],\n",
       " \n",
       "        [[0.6677753 , 0.46421862],\n",
       "         [0.70931107, 0.522122  ]]], dtype=float32),\n",
       " array([[[0.6677753 , 0.46421862],\n",
       "         [0.70931107, 0.522122  ]],\n",
       " \n",
       "        [[0.6677753 , 0.46421862],\n",
       "         [0.70931107, 0.522122  ]],\n",
       " \n",
       "        [[0.6677753 , 0.46421862],\n",
       "         [0.70931107, 0.522122  ]],\n",
       " \n",
       "        [[0.6677753 , 0.46421862],\n",
       "         [0.70931107, 0.522122  ]]], dtype=float32),\n",
       " array([[[0.6677753 , 0.46421862],\n",
       "         [0.70931107, 0.522122  ]],\n",
       " \n",
       "        [[0.6677753 , 0.46421862],\n",
       "         [0.70931107, 0.522122  ]],\n",
       " \n",
       "        [[0.6677753 , 0.46421862],\n",
       "         [0.70931107, 0.522122  ]],\n",
       " \n",
       "        [[0.6677753 , 0.46421862],\n",
       "         [0.70931107, 0.522122  ]]], dtype=float32),\n",
       " array([[[0.6677753 , 0.46421862],\n",
       "         [0.70931107, 0.522122  ]],\n",
       " \n",
       "        [[0.6677753 , 0.46421862],\n",
       "         [0.70931107, 0.522122  ]],\n",
       " \n",
       "        [[0.6677753 , 0.46421862],\n",
       "         [0.70931107, 0.522122  ]],\n",
       " \n",
       "        [[0.6677753 , 0.46421862],\n",
       "         [0.70931107, 0.522122  ]]], dtype=float32),\n",
       " array([[[0.6677753 , 0.46421862],\n",
       "         [0.70931107, 0.522122  ]],\n",
       " \n",
       "        [[0.6677753 , 0.46421862],\n",
       "         [0.70931107, 0.522122  ]],\n",
       " \n",
       "        [[0.6677753 , 0.46421862],\n",
       "         [0.70931107, 0.522122  ]],\n",
       " \n",
       "        [[0.6677753 , 0.46421862],\n",
       "         [0.70931107, 0.522122  ]]], dtype=float32),\n",
       " array([[[0.6677753 , 0.46421862],\n",
       "         [0.70931107, 0.522122  ]],\n",
       " \n",
       "        [[0.6677753 , 0.46421862],\n",
       "         [0.70931107, 0.522122  ]],\n",
       " \n",
       "        [[0.6677753 , 0.46421862],\n",
       "         [0.70931107, 0.522122  ]],\n",
       " \n",
       "        [[0.6677753 , 0.46421862],\n",
       "         [0.70931107, 0.522122  ]]], dtype=float32),\n",
       " array([[[0.6677753 , 0.46421862],\n",
       "         [0.70931107, 0.522122  ]],\n",
       " \n",
       "        [[0.6677753 , 0.46421862],\n",
       "         [0.70931107, 0.522122  ]],\n",
       " \n",
       "        [[0.6677753 , 0.46421862],\n",
       "         [0.70931107, 0.522122  ]],\n",
       " \n",
       "        [[0.6677753 , 0.46421862],\n",
       "         [0.70931107, 0.522122  ]]], dtype=float32),\n",
       " array([[[0.6677753 , 0.46421862],\n",
       "         [0.70931107, 0.522122  ]],\n",
       " \n",
       "        [[0.6677753 , 0.46421862],\n",
       "         [0.70931107, 0.522122  ]],\n",
       " \n",
       "        [[0.6677753 , 0.46421862],\n",
       "         [0.70931107, 0.522122  ]],\n",
       " \n",
       "        [[0.6677753 , 0.46421862],\n",
       "         [0.70931107, 0.522122  ]]], dtype=float32),\n",
       " array([[[0.6677753 , 0.46421862],\n",
       "         [0.70931107, 0.522122  ]],\n",
       " \n",
       "        [[0.6677753 , 0.46421862],\n",
       "         [0.70931107, 0.522122  ]],\n",
       " \n",
       "        [[0.6677753 , 0.46421862],\n",
       "         [0.70931107, 0.522122  ]],\n",
       " \n",
       "        [[0.6677753 , 0.46421862],\n",
       "         [0.70931107, 0.522122  ]]], dtype=float32),\n",
       " array([[[0.6677753 , 0.46421862],\n",
       "         [0.70931107, 0.522122  ]],\n",
       " \n",
       "        [[0.6677753 , 0.46421862],\n",
       "         [0.70931107, 0.522122  ]],\n",
       " \n",
       "        [[0.6677753 , 0.46421862],\n",
       "         [0.70931107, 0.522122  ]],\n",
       " \n",
       "        [[0.6677753 , 0.46421862],\n",
       "         [0.70931107, 0.522122  ]]], dtype=float32),\n",
       " array([[[0.6677753 , 0.46421862],\n",
       "         [0.70931107, 0.522122  ]],\n",
       " \n",
       "        [[0.6677753 , 0.46421862],\n",
       "         [0.70931107, 0.522122  ]],\n",
       " \n",
       "        [[0.6677753 , 0.46421862],\n",
       "         [0.70931107, 0.522122  ]],\n",
       " \n",
       "        [[0.6677753 , 0.46421862],\n",
       "         [0.70931107, 0.522122  ]]], dtype=float32),\n",
       " array([[[0.6677753 , 0.46421862],\n",
       "         [0.70931107, 0.522122  ]],\n",
       " \n",
       "        [[0.6677753 , 0.46421862],\n",
       "         [0.70931107, 0.522122  ]],\n",
       " \n",
       "        [[0.6677753 , 0.46421862],\n",
       "         [0.70931107, 0.522122  ]],\n",
       " \n",
       "        [[0.6677753 , 0.46421862],\n",
       "         [0.70931107, 0.522122  ]]], dtype=float32),\n",
       " array([[[0.6677753 , 0.46421862],\n",
       "         [0.70931107, 0.522122  ]],\n",
       " \n",
       "        [[0.6677753 , 0.46421862],\n",
       "         [0.70931107, 0.522122  ]],\n",
       " \n",
       "        [[0.6677753 , 0.46421862],\n",
       "         [0.70931107, 0.522122  ]],\n",
       " \n",
       "        [[0.6677753 , 0.46421862],\n",
       "         [0.70931107, 0.522122  ]]], dtype=float32),\n",
       " array([[[0.6677753 , 0.46421862],\n",
       "         [0.70931107, 0.522122  ]],\n",
       " \n",
       "        [[0.6677753 , 0.46421862],\n",
       "         [0.70931107, 0.522122  ]],\n",
       " \n",
       "        [[0.6677753 , 0.46421862],\n",
       "         [0.70931107, 0.522122  ]],\n",
       " \n",
       "        [[0.6677753 , 0.46421862],\n",
       "         [0.70931107, 0.522122  ]]], dtype=float32),\n",
       " array([[[0.6677753 , 0.46421862],\n",
       "         [0.70931107, 0.522122  ]],\n",
       " \n",
       "        [[0.6677753 , 0.46421862],\n",
       "         [0.70931107, 0.522122  ]],\n",
       " \n",
       "        [[0.6677753 , 0.46421862],\n",
       "         [0.70931107, 0.522122  ]],\n",
       " \n",
       "        [[0.6677753 , 0.46421862],\n",
       "         [0.70931107, 0.522122  ]]], dtype=float32),\n",
       " array([[[0.6677753 , 0.46421862],\n",
       "         [0.70931107, 0.522122  ]],\n",
       " \n",
       "        [[0.6677753 , 0.46421862],\n",
       "         [0.70931107, 0.522122  ]],\n",
       " \n",
       "        [[0.6677753 , 0.46421862],\n",
       "         [0.70931107, 0.522122  ]],\n",
       " \n",
       "        [[0.6677753 , 0.46421862],\n",
       "         [0.70931107, 0.522122  ]]], dtype=float32)]"
      ]
     },
     "execution_count": 162,
     "metadata": {},
     "output_type": "execute_result"
    }
   ],
   "source": [
    "rap_generated_with_prediction"
   ]
  },
  {
   "cell_type": "code",
   "execution_count": 117,
   "metadata": {},
   "outputs": [],
   "source": [
    "def vectors_into_song(vectors, generated_lyrics, rhyme_list):\n",
    "    print (\"\\n\\n\")\n",
    "    print(\"About to write rap (this could take a moment)...\")\n",
    "    print (\"\\n\\n\")\n",
    "\n",
    "    # compare the last words to see if they are the same, if they are\n",
    "    # increment a penalty variable which grants penalty points for being\n",
    "    # uncreative\n",
    "    def last_word_compare(rap, line2):\n",
    "        penalty = 0\n",
    "        for line1 in rap:\n",
    "            word1 = line1.split(\" \")[-1]\n",
    "            word2 = line2.split(\" \")[-1]\n",
    "\n",
    "            # remove any punctuation from the words\n",
    "            while word1[-1] in \"?!,. \":\n",
    "                word1 = word1[:-1]\n",
    "\n",
    "            while word2[-1] in \"?!,. \":\n",
    "                word2 = word2[:-1]\n",
    "\n",
    "            if word1 == word2:\n",
    "                penalty += 0.2\n",
    "\n",
    "        return penalty\n",
    "\n",
    "    # vector_half is a single [syllable, rhyme_index] pair\n",
    "    # returns a score rating for a given line\n",
    "    def calculate_score(vector_half, syllables, rhyme, penalty):\n",
    "        desired_syllables = vector_half[0]\n",
    "        desired_rhyme = vector_half[1]\n",
    "        # desired_syllables is the number of syllables we want\n",
    "        desired_syllables = desired_syllables * maxsyllables\n",
    "        # desired rhyme is the index of the rhyme we want\n",
    "        desired_rhyme = desired_rhyme * len(rhyme_list)\n",
    "\n",
    "        # generate a score by subtracting from 1 the sum of the difference between\n",
    "        # predicted syllables and generated syllables and the difference between\n",
    "        # the predicted rhyme and generated rhyme and then subtract the penalty\n",
    "        score = 1.0 - (abs((float(desired_syllables) - float(syllables))) + abs(\n",
    "            (float(desired_rhyme) - float(rhyme)))) - penalty\n",
    "\n",
    "        return score\n",
    "\n",
    "    # generated a list of all the lines from generated_lyrics with their\n",
    "    # line, syllables, and rhyme float value\n",
    "    dataset = []\n",
    "    for line in generated_lyrics:\n",
    "    \n",
    "        line_list = [line, find_syllables_count(line), index_rhyming_word_to_float(rhyme_list,line)]\n",
    "        dataset.append(line_list)\n",
    "\n",
    "    rap = []\n",
    "\n",
    "    vector_halves = []\n",
    "    for vector in vectors:\n",
    "        # vectors are the 2x2 rap_vectors (predicted bars) generated by compose_rap()\n",
    "        # separate every vector into a half (essentially one bar) where each\n",
    "        # has a pair of [syllables, rhyme_index]\n",
    "        vector_halves.append(list(vector[0][0]))\n",
    "        vector_halves.append(list(vector[0][1]))\n",
    "\n",
    "    for vector in vector_halves:\n",
    "        # Each vector (predicted bars) is scored against every generated bar ('item' below)\n",
    "        # to find the generated bar that best matches (highest score) the vector predicted\n",
    "        # by the model. This bar is then added to the final rap and also removed from the\n",
    "        # generated lyrics (dataset) so that we don't get duplicate lines in the final rap.\n",
    "        scorelist = []\n",
    "        for item in dataset:\n",
    "            # item is one of the generated bars from the Markov model\n",
    "            line = item[0]\n",
    "\n",
    "            if len(rap) != 0:\n",
    "                penalty = last_word_compare(rap, line)\n",
    "            else:\n",
    "                penalty = 0\n",
    "            # calculate the score of the current line\n",
    "            total_score = calculate_score(vector, item[1], item[2], penalty)\n",
    "            score_entry = [line, total_score]\n",
    "            # add the score of the current line to a scorelist\n",
    "            scorelist.append(score_entry)\n",
    "\n",
    "        fixed_score_list = []\n",
    "        for score in scorelist:\n",
    "            fixed_score_list.append(float(score[1]))\n",
    "        # get the line with the max valued score from the fixed_score_list\n",
    "        max_score = max(fixed_score_list)\n",
    "        for item in scorelist:\n",
    "            if item[1] == max_score:\n",
    "                # append item[0] (the line) to the rap\n",
    "                rap.append(item[0])\n",
    "                print(str(item[0]))\n",
    "\n",
    "                # remove the line we added to the rap so\n",
    "                # it doesn't get chosen again\n",
    "                for i in dataset:\n",
    "                    if item[0] == i[0]:\n",
    "                        dataset.remove(i)\n",
    "                        break\n",
    "                break\n",
    "    return rap\n"
   ]
  },
  {
   "cell_type": "code",
   "execution_count": 118,
   "metadata": {},
   "outputs": [
    {
     "name": "stdout",
     "output_type": "stream",
     "text": [
      "\n",
      "\n",
      "\n",
      "About to write rap (this could take a moment)...\n",
      "\n",
      "\n",
      "\n",
      "stop running up my money on my money and my man smallz\n"
     ]
    },
    {
     "ename": "IndexError",
     "evalue": "string index out of range",
     "output_type": "error",
     "traceback": [
      "\u001b[1;31m---------------------------------------------------------------------------\u001b[0m",
      "\u001b[1;31mIndexError\u001b[0m                                Traceback (most recent call last)",
      "\u001b[1;32m<ipython-input-118-e009a6932603>\u001b[0m in \u001b[0;36m<module>\u001b[1;34m\u001b[0m\n\u001b[1;32m----> 1\u001b[1;33m \u001b[0mvectors_into_song\u001b[0m\u001b[1;33m(\u001b[0m\u001b[0mrap_generated_with_prediction\u001b[0m\u001b[1;33m,\u001b[0m \u001b[0mbars_new_lyrics\u001b[0m\u001b[1;33m,\u001b[0m \u001b[0mrhyming_list_final_new_lyrics\u001b[0m\u001b[1;33m)\u001b[0m\u001b[1;33m\u001b[0m\u001b[1;33m\u001b[0m\u001b[0m\n\u001b[0m",
      "\u001b[1;32m<ipython-input-117-45a9d709d3cb>\u001b[0m in \u001b[0;36mvectors_into_song\u001b[1;34m(vectors, generated_lyrics, rhyme_list)\u001b[0m\n\u001b[0;32m     72\u001b[0m \u001b[1;33m\u001b[0m\u001b[0m\n\u001b[0;32m     73\u001b[0m             \u001b[1;32mif\u001b[0m \u001b[0mlen\u001b[0m\u001b[1;33m(\u001b[0m\u001b[0mrap\u001b[0m\u001b[1;33m)\u001b[0m \u001b[1;33m!=\u001b[0m \u001b[1;36m0\u001b[0m\u001b[1;33m:\u001b[0m\u001b[1;33m\u001b[0m\u001b[1;33m\u001b[0m\u001b[0m\n\u001b[1;32m---> 74\u001b[1;33m                 \u001b[0mpenalty\u001b[0m \u001b[1;33m=\u001b[0m \u001b[0mlast_word_compare\u001b[0m\u001b[1;33m(\u001b[0m\u001b[0mrap\u001b[0m\u001b[1;33m,\u001b[0m \u001b[0mline\u001b[0m\u001b[1;33m)\u001b[0m\u001b[1;33m\u001b[0m\u001b[1;33m\u001b[0m\u001b[0m\n\u001b[0m\u001b[0;32m     75\u001b[0m             \u001b[1;32melse\u001b[0m\u001b[1;33m:\u001b[0m\u001b[1;33m\u001b[0m\u001b[1;33m\u001b[0m\u001b[0m\n\u001b[0;32m     76\u001b[0m                 \u001b[0mpenalty\u001b[0m \u001b[1;33m=\u001b[0m \u001b[1;36m0\u001b[0m\u001b[1;33m\u001b[0m\u001b[1;33m\u001b[0m\u001b[0m\n",
      "\u001b[1;32m<ipython-input-117-45a9d709d3cb>\u001b[0m in \u001b[0;36mlast_word_compare\u001b[1;34m(rap, line2)\u001b[0m\n\u001b[0;32m     17\u001b[0m                 \u001b[0mword1\u001b[0m \u001b[1;33m=\u001b[0m \u001b[0mword1\u001b[0m\u001b[1;33m[\u001b[0m\u001b[1;33m:\u001b[0m\u001b[1;33m-\u001b[0m\u001b[1;36m1\u001b[0m\u001b[1;33m]\u001b[0m\u001b[1;33m\u001b[0m\u001b[1;33m\u001b[0m\u001b[0m\n\u001b[0;32m     18\u001b[0m \u001b[1;33m\u001b[0m\u001b[0m\n\u001b[1;32m---> 19\u001b[1;33m             \u001b[1;32mwhile\u001b[0m \u001b[0mword2\u001b[0m\u001b[1;33m[\u001b[0m\u001b[1;33m-\u001b[0m\u001b[1;36m1\u001b[0m\u001b[1;33m]\u001b[0m \u001b[1;32min\u001b[0m \u001b[1;34m\"?!,. \"\u001b[0m\u001b[1;33m:\u001b[0m\u001b[1;33m\u001b[0m\u001b[1;33m\u001b[0m\u001b[0m\n\u001b[0m\u001b[0;32m     20\u001b[0m                 \u001b[0mword2\u001b[0m \u001b[1;33m=\u001b[0m \u001b[0mword2\u001b[0m\u001b[1;33m[\u001b[0m\u001b[1;33m:\u001b[0m\u001b[1;33m-\u001b[0m\u001b[1;36m1\u001b[0m\u001b[1;33m]\u001b[0m\u001b[1;33m\u001b[0m\u001b[1;33m\u001b[0m\u001b[0m\n\u001b[0;32m     21\u001b[0m \u001b[1;33m\u001b[0m\u001b[0m\n",
      "\u001b[1;31mIndexError\u001b[0m: string index out of range"
     ]
    }
   ],
   "source": [
    "vectors_into_song(rap_generated_with_prediction, bars_new_lyrics, rhyming_list_final_new_lyrics)"
   ]
  },
  {
   "cell_type": "code",
   "execution_count": null,
   "metadata": {},
   "outputs": [],
   "source": []
  },
  {
   "cell_type": "code",
   "execution_count": null,
   "metadata": {},
   "outputs": [],
   "source": []
  }
 ],
 "metadata": {
  "kernelspec": {
   "display_name": "Python 3",
   "language": "python",
   "name": "python3"
  },
  "language_info": {
   "codemirror_mode": {
    "name": "ipython",
    "version": 3
   },
   "file_extension": ".py",
   "mimetype": "text/x-python",
   "name": "python",
   "nbconvert_exporter": "python",
   "pygments_lexer": "ipython3",
   "version": "3.7.1"
  }
 },
 "nbformat": 4,
 "nbformat_minor": 2
}
