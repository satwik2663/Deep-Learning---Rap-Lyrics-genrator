{
 "cells": [
  {
   "cell_type": "code",
   "execution_count": null,
   "metadata": {},
   "outputs": [],
   "source": []
  },
  {
   "cell_type": "code",
   "execution_count": 1,
   "metadata": {},
   "outputs": [],
   "source": [
    "#Step 1 : reading the rap song file"
   ]
  },
  {
   "cell_type": "code",
   "execution_count": 2,
   "metadata": {},
   "outputs": [],
   "source": [
    "rap_song_file = open(r'./songs.txt','r', encoding='utf-8').read()\n",
    "rap_song_file = rap_song_file.lower() # converting all the text to lower case"
   ]
  },
  {
   "cell_type": "code",
   "execution_count": 3,
   "metadata": {},
   "outputs": [],
   "source": [
    "# step 2 : creating a markov_text object, which would be used to make sentences later"
   ]
  },
  {
   "cell_type": "code",
   "execution_count": 4,
   "metadata": {},
   "outputs": [],
   "source": [
    "import markovify\n",
    "markov_text = markovify.NewlineText(rap_song_file)"
   ]
  },
  {
   "cell_type": "code",
   "execution_count": 5,
   "metadata": {},
   "outputs": [],
   "source": [
    "#step 3 : building bars from lyrics"
   ]
  },
  {
   "cell_type": "markdown",
   "metadata": {},
   "source": [
    "### What is a bar in rap song:\n",
    "- Usually one line of lyrics is one count, and there are 4 counts in a bar.  \n",
    "- There are  16 bars in a verse in most rap songs.<br>\n",
    "\n",
    "### An example of bar using a lyrics below:\n",
    "I got a dream similar to dr king ===> 1 bar <br>\n",
    "sept the whole world was smoking on that green ===> 2nd bar <br>\n",
    "and the green team wouldn't be breaking up sales ===> 3rd bar <br>\n",
    "they'd be breakin down the purple pulling out scales ==>4 bars <br>\n",
    "\n",
    "##### Just to note : 4 of these = a verse"
   ]
  },
  {
   "cell_type": "code",
   "execution_count": 6,
   "metadata": {},
   "outputs": [],
   "source": [
    "bars = rap_song_file.split('\\n') # splitting out rap songs collection line by line"
   ]
  },
  {
   "cell_type": "code",
   "execution_count": 7,
   "metadata": {},
   "outputs": [
    {
     "data": {
      "text/plain": [
       "[\"you gon' see lawyers and niggas in jordans\",\n",
       " '',\n",
       " 'she said, \"\\'ye, can we get married at the mall?\"']"
      ]
     },
     "execution_count": 7,
     "metadata": {},
     "output_type": "execute_result"
    }
   ],
   "source": [
    "bars[15:18] # we see that there are some empty strings in the file"
   ]
  },
  {
   "cell_type": "code",
   "execution_count": 8,
   "metadata": {},
   "outputs": [],
   "source": [
    "# We need to remove the empty_strings in bar\n",
    "empty_strings = 0\n",
    "bars = list(filter(None, bars)) "
   ]
  },
  {
   "cell_type": "code",
   "execution_count": 9,
   "metadata": {},
   "outputs": [
    {
     "data": {
      "text/plain": [
       "[\"you gon' see lawyers and niggas in jordans\",\n",
       " 'she said, \"\\'ye, can we get married at the mall?\"',\n",
       " 'i said, \"look, you need to crawl \\'fore you ball']"
      ]
     },
     "execution_count": 9,
     "metadata": {},
     "output_type": "execute_result"
    }
   ],
   "source": [
    "bars[15:18] # empty string have been removed"
   ]
  },
  {
   "cell_type": "code",
   "execution_count": 10,
   "metadata": {},
   "outputs": [
    {
     "name": "stdout",
     "output_type": "stream",
     "text": [
      "6191\n"
     ]
    }
   ],
   "source": [
    "print(len(bars))"
   ]
  },
  {
   "cell_type": "code",
   "execution_count": 11,
   "metadata": {},
   "outputs": [],
   "source": [
    "# step 4 : subsituting the special characters with empty space and converting it into lowercase\n",
    "import re\n",
    "new_bars = []\n",
    "for bar in bars:\n",
    "    bar = re.sub('[^A-Za-z0-9\\s]+', '', bar)\n",
    "    new_bars.append(bar)\n",
    "bars = new_bars"
   ]
  },
  {
   "cell_type": "code",
   "execution_count": 12,
   "metadata": {},
   "outputs": [
    {
     "data": {
      "text/plain": [
       "['you gon see lawyers and niggas in jordans',\n",
       " 'she said ye can we get married at the mall',\n",
       " 'i said look you need to crawl fore you ball']"
      ]
     },
     "execution_count": 12,
     "metadata": {},
     "output_type": "execute_result"
    }
   ],
   "source": [
    "bars[15:18] # special characters have been removed"
   ]
  },
  {
   "cell_type": "code",
   "execution_count": 13,
   "metadata": {},
   "outputs": [],
   "source": [
    "# step 5 : Building the list of rhymes\n",
    "import pronouncing"
   ]
  },
  {
   "cell_type": "code",
   "execution_count": 14,
   "metadata": {},
   "outputs": [],
   "source": [
    "# conatins the last 2 characters of the most common rhymes words of all the last words in the bars\n",
    "def rhyming_list_all(bars):\n",
    "    rhyme_list_all = []\n",
    "    rhyming_list_final = []\n",
    "    for bar in bars:\n",
    "        # taking the last word in each bar\n",
    "        last_word = re.sub(r\"\\W+\", '', bar.split(\" \")[-1]).lower()\n",
    "        # finding the rhyming word for 'last_word'\n",
    "        #print(last_word)\n",
    "        rhyming_words = pronouncing.rhymes(last_word)\n",
    "        #rhyming_words = [x.encode('UTF8') for x in rhyming_words]\n",
    "        #print(rhyming_words)\n",
    "        rhyming_words_ending = []\n",
    "        for rhyming_word in rhyming_words:\n",
    "            rhyming_words_ending.append(rhyming_word[-2:]) # this will pull the last 2 characters from each rhyming word\n",
    "        #print(rhyming_words_ending)\n",
    "        # now we see that which of the 2 characters in the rhyming_words_ending list occur the most\n",
    "        # we used a try catch that if the rhyming word is not found then we will take the last 2 characters of the original word\n",
    "        try:\n",
    "            rhyming_words_ending_most_common = max(set(rhyming_words_ending), key = rhyming_words_ending.count)\n",
    "        except Exception:\n",
    "            rhyming_words_ending_most_common = last_word[-2:]\n",
    "        #print(rhyming_words_ending_most_common)\n",
    "        rhyme_list_all.append(rhyming_words_ending_most_common)\n",
    "    # now taking the set of the list to get only unique last 2 characters\n",
    "    #print('for loop ended')\n",
    "    rhyme_list_all = list(set(rhyme_list_all))\n",
    "    reverse_list = [x[::-1] for x in rhyme_list_all] #  using slicing syntax to reverse the letters[start,stop,step],\n",
    "    #print(reverse_list)\n",
    "    reverse_list = sorted(reverse_list)# sorting the characters\n",
    "    #print(reverse_list)\n",
    "    # now we will reverse the string again : this is done so that the words with the similar sounds can be taken in order\n",
    "    rhyming_list_final =  [x[::-1] for x in reverse_list]\n",
    "    return rhyming_list_final"
   ]
  },
  {
   "cell_type": "code",
   "execution_count": 15,
   "metadata": {},
   "outputs": [],
   "source": [
    "rhyming_list_final = rhyming_list_all(bars)"
   ]
  },
  {
   "cell_type": "code",
   "execution_count": 16,
   "metadata": {},
   "outputs": [
    {
     "name": "stdout",
     "output_type": "stream",
     "text": [
      "266\n",
      "['', \"s'\", '10', '30', '1', '11', '31', '12', '32', 'k2', '4', '5', '05', '25', '45', '55', '26', 'g6', '7', '8', '9', '99', 'a', 'aa', 'ba', 'ca', 'da', 'ga', 'ha', 'ia', 'ja', 'ka', 'la', 'ma', 'na', 'pa', 'ra', 'sa', 'ta', 'va', 'ya', 'za', 'ab', 'eb', 'ib', 'ob', 'ub', 'ac', 'fc', 'ic', 'nc', 'oc', 'ad', 'ed', 'id', 'ld', 'nd', 'od', 'rd', 'ud', 'be', 'ce', 'de', 'ee', 'fe', 'ge', 'he', 'ie', 'ke', 'le', 'me', 'ne', 'oe', 'pe', 're', 'se', 'te', 'ue', 've', 'ye', 'ze', 'af', 'ef', 'ff', 'if', 'lf', 'of', 'ag', 'eg', 'gg', 'ig', 'ng', 'og', 'rg', 'ug', 'ah', 'ch', 'gh', 'hh', 'oh', 'ph', 'sh', 'th', 'uh', 'ai', 'ci', 'gi', 'ii', 'ki', 'li', 'mi', 'ni', 'ri', 'ti', 'zi', 'pj', 'tj', 'ck', 'ek', 'lk', 'nk', 'ok', 'rk', 'sk', 'al', 'el', 'hl', 'il', 'll', 'ol', 'rl', 'tl', 'ul', 'xl', 'am', 'bm', 'em', 'im', 'lm', 'mm', 'om', 'rm', 'sm', 'um', 'an', 'en', 'gn', 'in', 'mn', 'nn', 'on', 'rn', 'un', 'wn', 'yn', 'ao', 'co', 'do', 'eo', 'fo', 'go', 'io', 'ko', 'lo', 'mo', 'no', 'oo', 'po', 'ro', 'to', 'vo', 'zo', 'ap', 'ep', 'ip', 'lp', 'mp', 'op', 'pp', 'rp', 'up', 'ar', 'cr', 'er', 'ir', 'jr', 'or', 'pr', 'rr', 'ur', \"'s\", '0s', 'as', 'bs', 'cs', 'ds', 'es', 'gs', 'hs', 'is', 'js', 'ks', 'ls', 'ms', 'ns', 'os', 'ps', 'rs', 'ss', 'ts', 'us', 'vs', 'ws', 'ys', 'at', 'ct', 'et', 'ft', 'ht', 'it', 'lt', 'nt', 'ot', 'pt', 'rt', 'st', 'tt', 'ut', 'au', 'cu', 'ru', 'uu', 'av', 'lv', 'ov', 'ew', 'lw', 'ow', 'ww', 'ax', 'ex', 'ox', 'ay', 'by', 'cy', 'dy', 'ey', 'fy', 'gy', 'hy', 'ky', 'ly', 'my', 'ny', 'oy', 'ry', 'sy', 'ty', 'vy', 'zy', 'ez', 'iz', 'oz', 'tz', 'yz', 'zz']\n"
     ]
    }
   ],
   "source": [
    "print(len(rhyming_list_final)) # lenth of the common rhyming words used in the lyrics across all bars\n",
    "print(rhyming_list_final)"
   ]
  },
  {
   "cell_type": "markdown",
   "metadata": {},
   "source": [
    "### What is a syllables:\n",
    "- A syllable is a single, unbroken sound of a spoken (or written) word. Syllables usually contain a vowel and accompanying consonants <br>  \n",
    "- EXAMPLE: Water has two syllables (wa / ter), Computer has three syllables (com / pu / ter)<br>\n",
    "\n",
    "### why do we need syllables in rap song?:\n",
    "- Counting syllables is an excellent skill <br>\n",
    "- Important part of the structure of your rhymes is syllable structure<br>\n",
    "- The syllables in each line will create a beat in your rap<br>\n",
    "- Generally, by drawing out a line with too many syllables, or making a line too short with too few syllables, you can disrupt the beat of your rap<br>\n",
    "- Avoid this by trying to balance rhyming lines to have the same number of beats<br>\n",
    "\n",
    "### To note: \n",
    "- We are considering the maximun number of syllables for out rap song to be 16 in a line"
   ]
  },
  {
   "cell_type": "code",
   "execution_count": 17,
   "metadata": {},
   "outputs": [],
   "source": [
    "#step 6 : we will count the syallables in a sentence\n",
    "import syllables\n",
    "def find_syllables_count(bar):\n",
    "    return syllables.estimate(bar)/16 # average syllables count in a bar"
   ]
  },
  {
   "cell_type": "code",
   "execution_count": 18,
   "metadata": {},
   "outputs": [],
   "source": [
    "# step 7: we would convert the index of our rhyming 2 character into float value\n",
    "# we are doing the following steps to see that how close the rhyming words are each other\n",
    "def index_rhyming_word_to_float(rhyming_list_final, bar):\n",
    "    word = re.sub(r\"\\W+\", '', bar.split(\" \")[-1]).lower()\n",
    "    rhymeslist = pronouncing.rhymes(word)\n",
    "    #rhymeslist = [x.encode('UTF8') for x in rhymeslist]\n",
    "    rhymeslistends = []\n",
    "    for i in rhymeslist:\n",
    "        rhymeslistends.append(i[-2:])\n",
    "    try:\n",
    "        rhymescheme = max(set(rhymeslistends), key=rhymeslistends.count)\n",
    "    except Exception:\n",
    "        rhymescheme = word[-2:]\n",
    "    #print(len(rhymescheme))\n",
    "    try:\n",
    "        float_rhyme = rhyming_list_final.index(rhymescheme)\n",
    "        float_rhyme = float_rhyme / float(len(rhyming_list_final))\n",
    "        return float_rhyme\n",
    "    except Exception:\n",
    "        return None"
   ]
  },
  {
   "cell_type": "code",
   "execution_count": 19,
   "metadata": {},
   "outputs": [],
   "source": [
    "# step 8 : combining the list of bars, syllables and float_rhyme_bar_list to a list"
   ]
  },
  {
   "cell_type": "code",
   "execution_count": 20,
   "metadata": {},
   "outputs": [],
   "source": [
    "data_set = []\n",
    "values_data_set = []\n",
    "for bar in bars:\n",
    "    values_data_set = [bar, find_syllables_count(bar), index_rhyming_word_to_float(rhyming_list_final, bar)]\n",
    "    data_set.append(values_data_set)"
   ]
  },
  {
   "cell_type": "code",
   "execution_count": 21,
   "metadata": {},
   "outputs": [
    {
     "data": {
      "text/plain": [
       "[['let the suicide doors up', 0.4375, 0.6691729323308271],\n",
       " ['i threw suicides on the tour bus', 0.5625, 0.7819548872180451],\n",
       " ['i threw suicides on the private jet', 0.6875, 0.2857142857142857],\n",
       " ['you know what that mean im fly to death', 0.5625, 0.38345864661654133],\n",
       " ['i step in def jam buildin like im the shit', 0.75, 0.8233082706766918],\n",
       " ['tell em give me fifty million or ima quit', 0.8125, 0.8233082706766918],\n",
       " ['most rappers taste level aint at my waist level',\n",
       "  0.8125,\n",
       "  0.4699248120300752],\n",
       " ['turn up the bass til its upinyoface level', 0.8125, 0.4699248120300752],\n",
       " ['dont do no press but i get the most press kit', 0.6875, 0.8233082706766918],\n",
       " ['plus yo my bitch make your bitch look like precious',\n",
       "  0.8125,\n",
       "  0.7894736842105263],\n",
       " ['somethin bout mary she gone off that molly', 0.8125, 0.2593984962406015],\n",
       " ['now the whole party is melted like dal', 0.75, 0.46616541353383456],\n",
       " ['now everybody is movin they body', 0.75, 0.9210526315789473],\n",
       " ['dont sell me apartment ill move in the lobby', 0.8125, 0.9135338345864662],\n",
       " ['niggas is loiterin just to feel important', 0.75, 0.8308270676691729],\n",
       " ['you gon see lawyers and niggas in jordans', 0.6875, 0.7142857142857143],\n",
       " ['she said ye can we get married at the mall', 0.6875, 0.48120300751879697],\n",
       " ['i said look you need to crawl fore you ball', 0.6875, 0.48120300751879697],\n",
       " ['come and meet me in the bathroom stall', 0.625, 0.48120300751879697],\n",
       " ['and show me why you deserve to have it all', 0.8125, 0.48120300751879697],\n",
       " ['ball so hard that shit cray aint it jay', 0.5625, 0.9097744360902256],\n",
       " ['what she order fish filet', 0.4375, 0.9097744360902256],\n",
       " ['your whip so cold  this old thing', 0.4375, 0.34210526315789475],\n",
       " ['act like youll ever be around mothafuckas like this again',\n",
       "  1.125,\n",
       "  0.5451127819548872],\n",
       " ['bougie girl grab my hand', 0.375, 0.21052631578947367],\n",
       " ['fuck that bitch she dont wanna dance', 0.5625, 0.22932330827067668],\n",
       " ['excuse my french but im in france im just sayin',\n",
       "  0.8125,\n",
       "  0.5526315789473685],\n",
       " ['prince williams aint do it right if you ask me', 0.75, 0.23684210526315788],\n",
       " ['cause i was him i would have married kate and ashley',\n",
       "  1.0,\n",
       "  0.924812030075188],\n",
       " ['whats gucci my nigga whats louis my killa', 0.6875, 0.12030075187969924],\n",
       " ['whats drugs my dealer whats that jacket margiela',\n",
       "  0.75,\n",
       "  0.12030075187969924],\n",
       " ['doctors say im the illest', 0.4375, 0.8458646616541353],\n",
       " ['cause im suffering from realness', 0.5625, 0.7819548872180451],\n",
       " ['got my niggas in paris and they going gorillas huh',\n",
       "  0.875,\n",
       "  0.38721804511278196],\n",
       " ['break records at louis ate breakfast at gucci', 0.75, 0.39473684210526316],\n",
       " ['my girl a superstar all from a home movie', 0.8125, 0.924812030075188],\n",
       " ['bow on our arrival  the unamerican idols', 0.875, 0.7368421052631579],\n",
       " ['what niggas did in paris got em hanging off the eiffel',\n",
       "  0.9375,\n",
       "  0.2593984962406015],\n",
       " ['yeah im talking business we talking cia', 0.6875, 0.9097744360902256],\n",
       " ['im talking george tenet i seen him the other day',\n",
       "  0.875,\n",
       "  0.9097744360902256],\n",
       " ['he asked me about my maybach think he had the same',\n",
       "  0.9375,\n",
       "  0.2631578947368421],\n",
       " ['except mine tinted and his might have been rented',\n",
       "  0.875,\n",
       "  0.19924812030075187],\n",
       " ['you know white people get money dont spend it', 0.75, 0.8233082706766918],\n",
       " ['or maybe they get money buy a business', 0.75, 0.7819548872180451],\n",
       " ['i rather buy 80 gold chains and go ignant', 0.625, 0.8308270676691729],\n",
       " ['i know spike lee gon kill me but let me finish',\n",
       "  0.8125,\n",
       "  0.37969924812030076],\n",
       " ['blame it on the pigment we living no limits', 0.8125, 0.7857142857142857],\n",
       " ['them gold master p ceilings was just a figment',\n",
       "  0.6875,\n",
       "  0.8308270676691729],\n",
       " ['of our imagination mtv cribs', 0.5, 0.7255639097744361],\n",
       " ['now im looking at a crib right next to where tc lives',\n",
       "  0.875,\n",
       "  0.7368421052631579],\n",
       " ['thats tom cruise whatever she accuse', 0.6875, 0.2819548872180451],\n",
       " ['he wasnt really drunk he just had a frew brews',\n",
       "  0.6875,\n",
       "  0.2819548872180451],\n",
       " ['pass the refreshments a cool cool beverage', 0.75, 0.24436090225563908],\n",
       " ['everything i do need a news crews presence', 0.8125, 0.22932330827067668],\n",
       " ['speedboat swerve homie watch out for the waves', 0.75, 0.7368421052631579],\n",
       " ['im way too black to burn from sun rays', 0.5625, 0.7142857142857143],\n",
       " ['so i just meditate at the home in pompeii', 0.875, 0.40225563909774437],\n",
       " ['about how i could build a new rome in one day', 0.875, 0.9097744360902256],\n",
       " ['everytime im in vegas they screaming like hes elvis',\n",
       "  1.0625,\n",
       "  0.0037593984962406013],\n",
       " ['but i just wanna design hotels and nail it', 0.75, 0.8233082706766918],\n",
       " ['shit is real got me feeling israelian', 0.625, 0.5413533834586466],\n",
       " ['like bar refaeli or gisele  no thats brazilian',\n",
       "  0.9375,\n",
       "  0.5639097744360902],\n",
       " ['went through deep depression when my momma passed',\n",
       "  0.75,\n",
       "  0.8458646616541353],\n",
       " ['suicide what kinda talk is that', 0.5625, 0.8045112781954887],\n",
       " ['but i been talking to god for so long', 0.625, 0.34210526315789475],\n",
       " ['that if you look at my life i guess hes talking back',\n",
       "  0.875,\n",
       "  0.4398496240601504],\n",
       " ['fucking with my clique', 0.375, 0.44360902255639095],\n",
       " ['what you doin in the club on a thursday', 0.625, 0.9097744360902256],\n",
       " ['she say she only here for her girl birthday', 0.75, 0.9097744360902256],\n",
       " ['they ordered champagne but still look thirsty', 0.75, 0.2518796992481203],\n",
       " ['rock forever 21 but just turned thirty', 0.625, 0.23684210526315788],\n",
       " ['i know i got a bad reputation', 0.625, 0.5639097744360902],\n",
       " ['walkingroundalwaysmad reputation', 0.625, 0.5639097744360902],\n",
       " ['leaveaprettygirlsad reputation', 0.625, 0.5639097744360902],\n",
       " ['start a fight club brad reputation', 0.5625, 0.5639097744360902],\n",
       " ['i turnt the nightclub out of the basement', 0.6875, 0.8308270676691729],\n",
       " ['ill turn the plane round your ass keep complainin',\n",
       "  0.75,\n",
       "  0.5526315789473685],\n",
       " ['how you gon be mad on vacation', 0.5625, 0.5639097744360902],\n",
       " ['dutty wining round all these jamaicans', 0.6875, 0.7669172932330827],\n",
       " ['uh this that prom shit', 0.3125, 0.8233082706766918]]"
      ]
     },
     "execution_count": 21,
     "metadata": {},
     "output_type": "execute_result"
    }
   ],
   "source": [
    "data_set[:80]"
   ]
  },
  {
   "cell_type": "code",
   "execution_count": 22,
   "metadata": {},
   "outputs": [
    {
     "data": {
      "text/plain": [
       "1547.75"
      ]
     },
     "execution_count": 22,
     "metadata": {},
     "output_type": "execute_result"
    }
   ],
   "source": [
    "len(data_set)/4"
   ]
  },
  {
   "cell_type": "markdown",
   "metadata": {},
   "source": [
    "### What is a verse:\n",
    "- Writing arranged with a metrical rhythm, typically having a rhyme <br>\n",
    "\n",
    "### why do we need verse in rap song?:\n",
    "- Verses are an important componenent of any song <br>\n",
    "- The duration is usually 16 bars, but the verse may last 8 bars, 12 bars, or 24 bars.<br>\n",
    "- As seen from the above patten, we will consider a verse of length 4<br>\n",
    "\n",
    "##### Since our dataset is of the length 6191, if we divide it by 4, we would get a decimal number (1547.74), so we will round it off to a whole number by substracting 3 bars and then diving it by 4"
   ]
  },
  {
   "cell_type": "code",
   "execution_count": 23,
   "metadata": {},
   "outputs": [
    {
     "data": {
      "text/plain": [
       "1547.0"
      ]
     },
     "execution_count": 23,
     "metadata": {},
     "output_type": "execute_result"
    }
   ],
   "source": [
    "new_length_data_set = len(data_set) -3\n",
    "new_length_data_set/4"
   ]
  },
  {
   "cell_type": "code",
   "execution_count": 24,
   "metadata": {},
   "outputs": [],
   "source": [
    "# step 9 : creating the X and y for the lstm model"
   ]
  },
  {
   "cell_type": "code",
   "execution_count": 25,
   "metadata": {},
   "outputs": [],
   "source": [
    "import numpy as np\n",
    "X = []\n",
    "y = []\n",
    "for data in range(0, new_length_data_set):\n",
    "    # this would create feature and labels as follows:\n",
    "    # for example: if features ==> line 1, line 2, then labels ==> line 3, line 4\n",
    "    # if features ==>  line 2, line 3, then labels ==> line4, line 5\n",
    "    \n",
    "    bar_1 = data_set[data][1:]\n",
    "    bar_2 = data_set[data + 1][1:]\n",
    "    bar_3 = data_set[data + 2][1:]\n",
    "    bar_4 = data_set[data + 3][1:]\n",
    "    #print(bar_1, bar_2, bar_3, bar_4)\n",
    "    feature = [bar_1[0], bar_1[1], bar_2[0], bar_2[1]]\n",
    "    label = [bar_3[0], bar_3[1], bar_4[0], bar_4[1]]\n",
    "    #print(feature)\n",
    "    #print(label)\n",
    "    feature = np.array(feature)\n",
    "    label = np.array(label)\n",
    "    #print(feature)\n",
    "    #print(label)   \n",
    "    feature = feature.reshape(2,2)\n",
    "    label = label.reshape(2,2)\n",
    "    #print(feature)\n",
    "    #print(label)  \n",
    "    X.append(feature)\n",
    "    y.append(label)\n",
    "X = np.array(X)\n",
    "y = np.array(y)"
   ]
  },
  {
   "cell_type": "code",
   "execution_count": null,
   "metadata": {},
   "outputs": [],
   "source": []
  },
  {
   "cell_type": "code",
   "execution_count": 26,
   "metadata": {},
   "outputs": [
    {
     "name": "stderr",
     "output_type": "stream",
     "text": [
      "Using TensorFlow backend.\n"
     ]
    }
   ],
   "source": [
    "# step 9 : creating the lstm model for training\n",
    "from keras.models import Sequential\n",
    "from keras.layers import LSTM\n",
    "from keras.layers.core import Dense"
   ]
  },
  {
   "cell_type": "code",
   "execution_count": 27,
   "metadata": {},
   "outputs": [
    {
     "name": "stdout",
     "output_type": "stream",
     "text": [
      "WARNING:tensorflow:From C:\\ProgramData\\Anaconda3\\lib\\site-packages\\tensorflow\\python\\framework\\op_def_library.py:263: colocate_with (from tensorflow.python.framework.ops) is deprecated and will be removed in a future version.\n",
      "Instructions for updating:\n",
      "Colocations handled automatically by placer.\n",
      "_________________________________________________________________\n",
      "Layer (type)                 Output Shape              Param #   \n",
      "=================================================================\n",
      "lstm_1 (LSTM)                (None, 2, 4)              112       \n",
      "_________________________________________________________________\n",
      "lstm_2 (LSTM)                (None, 2, 2)              56        \n",
      "=================================================================\n",
      "Total params: 168\n",
      "Trainable params: 168\n",
      "Non-trainable params: 0\n",
      "_________________________________________________________________\n"
     ]
    }
   ],
   "source": [
    "model = Sequential()\n",
    "model.add(LSTM(4, input_shape = (2,2), return_sequences = True)) #input_shape = (2,2) 2 timestpes, 2 features\n",
    "#model.add(LSTM(8, return_sequences = True))\n",
    "#model.add(LSTM(8, return_sequences = True))\n",
    "#model.add(LSTM(8, return_sequences = True))\n",
    "#model.add(LSTM(8, return_sequences = True))\n",
    "model.add(LSTM(2, return_sequences = True))\n",
    "model.summary()\n",
    "model.compile(optimizer = 'rmsprop', loss = 'mse') # the optimizer function rmsprop: optimizes the gradient descent and the the loss function: mse: \"mean_squared_error "
   ]
  },
  {
   "cell_type": "code",
   "execution_count": 28,
   "metadata": {},
   "outputs": [
    {
     "name": "stdout",
     "output_type": "stream",
     "text": [
      "WARNING:tensorflow:From C:\\ProgramData\\Anaconda3\\lib\\site-packages\\tensorflow\\python\\ops\\math_ops.py:3066: to_int32 (from tensorflow.python.ops.math_ops) is deprecated and will be removed in a future version.\n",
      "Instructions for updating:\n",
      "Use tf.cast instead.\n",
      "Epoch 1/10\n",
      "6188/6188 [==============================] - 15s 2ms/step - loss: 0.1359\n",
      "Epoch 2/10\n",
      "6188/6188 [==============================] - 11s 2ms/step - loss: 0.0529\n",
      "Epoch 3/10\n",
      "6188/6188 [==============================] - 11s 2ms/step - loss: 0.0525\n",
      "Epoch 4/10\n",
      "6188/6188 [==============================] - 12s 2ms/step - loss: 0.0524\n",
      "Epoch 5/10\n",
      "6188/6188 [==============================] - 12s 2ms/step - loss: 0.0522\n",
      "Epoch 6/10\n",
      "6188/6188 [==============================] - 11s 2ms/step - loss: 0.0521\n",
      "Epoch 7/10\n",
      "6188/6188 [==============================] - 12s 2ms/step - loss: 0.0519\n",
      "Epoch 8/10\n",
      "6188/6188 [==============================] - 11s 2ms/step - loss: 0.0518\n",
      "Epoch 9/10\n",
      "6188/6188 [==============================] - 11s 2ms/step - loss: 0.0518\n",
      "Epoch 10/10\n",
      "6188/6188 [==============================] - 11s 2ms/step - loss: 0.0517\n"
     ]
    },
    {
     "data": {
      "text/plain": [
       "<keras.callbacks.History at 0x1de0c2e1358>"
      ]
     },
     "execution_count": 28,
     "metadata": {},
     "output_type": "execute_result"
    }
   ],
   "source": [
    "# fitting the model\n",
    "model.fit(np.array(X), np.array(y), batch_size = 4, epochs = 10, verbose = 1)"
   ]
  },
  {
   "cell_type": "code",
   "execution_count": 39,
   "metadata": {},
   "outputs": [
    {
     "data": {
      "text/plain": [
       "array([[[0.76061106, 0.69235075],\n",
       "        [0.8492973 , 0.84908754]]], dtype=float32)"
      ]
     },
     "execution_count": 39,
     "metadata": {},
     "output_type": "execute_result"
    }
   ],
   "source": [
    "X = np.array([[10, 20], [40, 50]])\n",
    "X_train = X.reshape(1, 2, 2) # X.reshape(samples, timesteps, features)\\\n",
    "model.predict(X_train)"
   ]
  },
  {
   "cell_type": "code",
   "execution_count": 35,
   "metadata": {},
   "outputs": [
    {
     "data": {
      "image/png": "[encoded data removed]",
      "text/plain": [
       "<Figure size 432x288 with 1 Axes>"
      ]
     },
     "metadata": {
      "needs_background": "light"
     },
     "output_type": "display_data"
    }
   ],
   "source": [
    "# summarize history for loss\n",
    "import matplotlib.pyplot as plt\n",
    "plt.plot(hisotry.history['loss'])\n",
    "plt.title('Model loss summarization')\n",
    "plt.ylabel('loss')\n",
    "plt.xlabel('epoch')\n",
    "plt.legend(['train'], loc='upper right')\n",
    "plt.show()"
   ]
  },
  {
   "cell_type": "code",
   "execution_count": 76,
   "metadata": {},
   "outputs": [],
   "source": [
    "# step 10 : now we will generate new lyrics using markov chain\n",
    "\n",
    "\n",
    "def generate_lyrics():\n",
    "    bars_new_lyrics = []\n",
    "    last_words = []\n",
    "    lyriclength = len(bars)\n",
    "    count = 0\n",
    "    #markov_model = markov_text((\". \").join('songs.txt') + \".\")\n",
    "\n",
    "    while len(bars_new_lyrics) < lyriclength / 9 and count < lyriclength * 2:\n",
    "        # By default, the make_sentence method tries, a maximum of 10 times per invocation,\n",
    "        # to make a sentence that doesn't overlap too much with the original text.\n",
    "        # If it is successful, the method returns the sentence as a string.\n",
    "        # If not, it returns None. (https://github.com/jsvine/markovify)\n",
    "        bar = markov_text.make_sentence()\n",
    "        #print(bar)\n",
    "        # make sure the bar isn't 'None' and that the amount of\n",
    "        # syllables is under the max syllables\n",
    "        if type(bar) != type(None) and find_syllables_count(bar) < 1:\n",
    "\n",
    "            # function to get the last word of the bar\n",
    "            def get_last_word(bar):\n",
    "                last_word = bar.split(\" \")[-1]\n",
    "                # if the last word is punctuation, get the word before it\n",
    "                if last_word[-1] in \"!.?,\":\n",
    "                    last_word = last_word[:-1]\n",
    "                return last_word\n",
    "\n",
    "            last_word = get_last_word(bar)\n",
    "            # only use the bar if it is unique and the last_word\n",
    "            # has only been seen less than 3 times\n",
    "            if bar not in bars_new_lyrics and last_words.count(last_word) < 3:\n",
    "                bars_new_lyrics.append(bar)\n",
    "                last_words.append(last_word)\n",
    "                count += 1\n",
    "\n",
    "    return bars_new_lyrics"
   ]
  },
  {
   "cell_type": "code",
   "execution_count": 77,
   "metadata": {},
   "outputs": [],
   "source": [
    "bars_new_lyrics = generate_lyrics()"
   ]
  },
  {
   "cell_type": "code",
   "execution_count": 78,
   "metadata": {},
   "outputs": [
    {
     "data": {
      "text/plain": [
       "['motherfucker, are you into astrology',\n",
       " 'top 5 mcs: you gotta love it',\n",
       " 'your a princess and you went raw dog when you die hard',\n",
       " \"i'm pop the hood, ferrari\",\n",
       " 'tryna get the message']"
      ]
     },
     "execution_count": 78,
     "metadata": {},
     "output_type": "execute_result"
    }
   ],
   "source": [
    "# some of the newly generated using markov chain\n",
    "bars_new_lyrics[:5]"
   ]
  },
  {
   "cell_type": "code",
   "execution_count": 79,
   "metadata": {},
   "outputs": [
    {
     "name": "stdout",
     "output_type": "stream",
     "text": [
      "696\n"
     ]
    }
   ],
   "source": [
    "print(len(bars_new_lyrics))"
   ]
  },
  {
   "cell_type": "markdown",
   "metadata": {},
   "source": [
    "#### ----------------completed-----------------------------------------"
   ]
  },
  {
   "cell_type": "code",
   "execution_count": 80,
   "metadata": {},
   "outputs": [],
   "source": [
    "rhyming_list_final_new_lyrics = rhyming_list_all(bars_new_lyrics)"
   ]
  },
  {
   "cell_type": "code",
   "execution_count": 81,
   "metadata": {},
   "outputs": [
    {
     "data": {
      "text/plain": [
       "['', \"s'\", '10', '26', '9', '99', 'ba', 'da', 'ga', 'ha']"
      ]
     },
     "execution_count": 81,
     "metadata": {},
     "output_type": "execute_result"
    }
   ],
   "source": [
    "rhyming_list_final_new_lyrics[:10]"
   ]
  },
  {
   "cell_type": "code",
   "execution_count": 83,
   "metadata": {},
   "outputs": [
    {
     "name": "stdout",
     "output_type": "stream",
     "text": [
      "151\n"
     ]
    }
   ],
   "source": [
    "print(len(rhyming_list_final_new_lyrics))"
   ]
  },
  {
   "cell_type": "code",
   "execution_count": 103,
   "metadata": {},
   "outputs": [
    {
     "name": "stdout",
     "output_type": "stream",
     "text": [
      "6263\n"
     ]
    }
   ],
   "source": [
    "print(len(bars))"
   ]
  },
  {
   "cell_type": "code",
   "execution_count": 140,
   "metadata": {},
   "outputs": [],
   "source": [
    "import random\n",
    "def compose_rap(lines, rhyme_list, model):\n",
    "    rap_vectors = []\n",
    "    human_lyrics = bars\n",
    "\n",
    "    # choose a random line to start in from given lyrics\n",
    "    initial_index = random.choice(range(len(human_lyrics) - 1))\n",
    "    # create an initial_lines list consisting of 2 lines\n",
    "    initial_lines = human_lyrics[initial_index:initial_index + 8]\n",
    "    #print(initial_lines)\n",
    "    starting_input = []\n",
    "    for line in initial_lines:\n",
    "        # appends a [syllable, rhyme_index] pair to starting_input\n",
    "        #print(line)\n",
    "        starting_input.append([find_syllables_count(line), index_rhyming_word_to_float(rhyme_list,line)])\n",
    "    # predict generates output predictions for the given samples\n",
    "    # it's reshaped as a (1, 2, 2) so that the model can predict each\n",
    "    # 2x2 matrix of [syllable, rhyme_index] pairs\n",
    "    starting_vectors = model.predict(np.array([starting_input]).flatten().reshape(4, 2, 2))\n",
    "    rap_vectors.append(starting_vectors)\n",
    "    #print(rap_vectors)\n",
    "    for i in range(32):\n",
    "        rap_vectors.append(model.predict(np.array([rap_vectors[-1]]).flatten().reshape(4, 2, 2)))\n",
    "\n",
    "    return rap_vectors"
   ]
  },
  {
   "cell_type": "code",
   "execution_count": 141,
   "metadata": {},
   "outputs": [],
   "source": [
    "rap_generated_with_prediction = compose_rap(bars_new_lyrics, rhyming_list_final_new_lyrics, model)"
   ]
  },
  {
   "cell_type": "code",
   "execution_count": 142,
   "metadata": {},
   "outputs": [
    {
     "data": {
      "text/plain": [
       "[array([[[0.74679714, 0.55679417],\n",
       "         [0.7516534 , 0.5329634 ]],\n",
       " \n",
       "        [[0.7144714 , 0.5354165 ],\n",
       "         [0.72827846, 0.5217666 ]],\n",
       " \n",
       "        [[0.7520766 , 0.5651813 ],\n",
       "         [0.75773495, 0.5378867 ]],\n",
       " \n",
       "        [[0.6893206 , 0.5236148 ],\n",
       "         [0.73817784, 0.5272271 ]]], dtype=float32),\n",
       " array([[[0.7373452 , 0.5476445 ],\n",
       "         [0.7299926 , 0.5216037 ]],\n",
       " \n",
       "        [[0.7323134 , 0.5441451 ],\n",
       "         [0.72188646, 0.5188657 ]],\n",
       " \n",
       "        [[0.738231  , 0.54833525],\n",
       "         [0.73178566, 0.5222803 ]],\n",
       " \n",
       "        [[0.72686106, 0.54143935],\n",
       "         [0.72154576, 0.5189476 ]]], dtype=float32),\n",
       " array([[[0.7359506 , 0.54655784],\n",
       "         [0.7244995 , 0.5196739 ]],\n",
       " \n",
       "        [[0.7352486 , 0.5460115 ],\n",
       "         [0.7222534 , 0.5189361 ]],\n",
       " \n",
       "        [[0.736076  , 0.5466557 ],\n",
       "         [0.7249688 , 0.51983166]],\n",
       " \n",
       "        [[0.73452127, 0.5454456 ],\n",
       "         [0.7216489 , 0.5187408 ]]], dtype=float32),\n",
       " array([[[0.7357523 , 0.5464035 ],\n",
       "         [0.723181  , 0.51923805]],\n",
       " \n",
       "        [[0.7356524 , 0.54632574],\n",
       "         [0.722624  , 0.51905686]],\n",
       " \n",
       "        [[0.73577017, 0.5464175 ],\n",
       "         [0.72329485, 0.51927537]],\n",
       " \n",
       "        [[0.7355488 , 0.54624504],\n",
       "         [0.7224191 , 0.5189904 ]]], dtype=float32),\n",
       " array([[[0.7357242 , 0.54638153],\n",
       "         [0.72287595, 0.51913875]],\n",
       " \n",
       "        [[0.73570997, 0.5463705 ],\n",
       "         [0.72274506, 0.51909626]],\n",
       " \n",
       "        [[0.7357268 , 0.5463835 ],\n",
       "         [0.7229024 , 0.5191473 ]],\n",
       " \n",
       "        [[0.7356951 , 0.54635894],\n",
       "         [0.7226903 , 0.51907843]]], dtype=float32),\n",
       " array([[[0.7357201 , 0.54637843],\n",
       "         [0.722807  , 0.51911634]],\n",
       " \n",
       "        [[0.73571813, 0.546377  ],\n",
       "         [0.72277725, 0.5191067 ]],\n",
       " \n",
       "        [[0.7357204 , 0.5463788 ],\n",
       "         [0.722813  , 0.51911825]],\n",
       " \n",
       "        [[0.7357159 , 0.54637516],\n",
       "         [0.7227639 , 0.51910233]]], dtype=float32),\n",
       " array([[[0.73571956, 0.546378  ],\n",
       "         [0.7227917 , 0.5191113 ]],\n",
       " \n",
       "        [[0.73571926, 0.5463778 ],\n",
       "         [0.72278506, 0.5191092 ]],\n",
       " \n",
       "        [[0.73571956, 0.546378  ],\n",
       "         [0.72279304, 0.51911175]],\n",
       " \n",
       "        [[0.73571897, 0.54637754],\n",
       "         [0.7227819 , 0.5191082 ]]], dtype=float32),\n",
       " array([[[0.7357195 , 0.54637796],\n",
       "         [0.72278833, 0.51911026]],\n",
       " \n",
       "        [[0.7357194 , 0.54637796],\n",
       "         [0.72278684, 0.5191098 ]],\n",
       " \n",
       "        [[0.7357195 , 0.54637796],\n",
       "         [0.72278863, 0.5191103 ]],\n",
       " \n",
       "        [[0.7357193 , 0.5463778 ],\n",
       "         [0.72278607, 0.51910955]]], dtype=float32),\n",
       " array([[[0.7357195 , 0.54637796],\n",
       "         [0.7227876 , 0.51910996]],\n",
       " \n",
       "        [[0.7357194 , 0.54637796],\n",
       "         [0.72278726, 0.51910996]],\n",
       " \n",
       "        [[0.7357195 , 0.54637796],\n",
       "         [0.72278774, 0.51910996]],\n",
       " \n",
       "        [[0.7357194 , 0.54637796],\n",
       "         [0.722787  , 0.51910985]]], dtype=float32),\n",
       " array([[[0.7357195 , 0.54637796],\n",
       "         [0.7227874 , 0.51910996]],\n",
       " \n",
       "        [[0.7357194 , 0.54637796],\n",
       "         [0.7227874 , 0.51910996]],\n",
       " \n",
       "        [[0.7357195 , 0.54637796],\n",
       "         [0.7227874 , 0.51911   ]],\n",
       " \n",
       "        [[0.7357194 , 0.54637796],\n",
       "         [0.72278726, 0.51910996]]], dtype=float32),\n",
       " array([[[0.7357195 , 0.54637796],\n",
       "         [0.7227874 , 0.5191099 ]],\n",
       " \n",
       "        [[0.7357194 , 0.54637796],\n",
       "         [0.7227874 , 0.51910996]],\n",
       " \n",
       "        [[0.7357195 , 0.54637796],\n",
       "         [0.7227874 , 0.5191099 ]],\n",
       " \n",
       "        [[0.7357194 , 0.54637796],\n",
       "         [0.7227874 , 0.51910996]]], dtype=float32),\n",
       " array([[[0.7357195 , 0.54637796],\n",
       "         [0.7227874 , 0.5191099 ]],\n",
       " \n",
       "        [[0.7357194 , 0.54637796],\n",
       "         [0.7227874 , 0.51910996]],\n",
       " \n",
       "        [[0.7357195 , 0.54637796],\n",
       "         [0.7227874 , 0.5191099 ]],\n",
       " \n",
       "        [[0.7357194 , 0.54637796],\n",
       "         [0.7227874 , 0.51910996]]], dtype=float32),\n",
       " array([[[0.7357195 , 0.54637796],\n",
       "         [0.7227874 , 0.5191099 ]],\n",
       " \n",
       "        [[0.7357194 , 0.54637796],\n",
       "         [0.7227874 , 0.51910996]],\n",
       " \n",
       "        [[0.7357195 , 0.54637796],\n",
       "         [0.7227874 , 0.5191099 ]],\n",
       " \n",
       "        [[0.7357194 , 0.54637796],\n",
       "         [0.7227874 , 0.51910996]]], dtype=float32),\n",
       " array([[[0.7357195 , 0.54637796],\n",
       "         [0.7227874 , 0.5191099 ]],\n",
       " \n",
       "        [[0.7357194 , 0.54637796],\n",
       "         [0.7227874 , 0.51910996]],\n",
       " \n",
       "        [[0.7357195 , 0.54637796],\n",
       "         [0.7227874 , 0.5191099 ]],\n",
       " \n",
       "        [[0.7357194 , 0.54637796],\n",
       "         [0.7227874 , 0.51910996]]], dtype=float32),\n",
       " array([[[0.7357195 , 0.54637796],\n",
       "         [0.7227874 , 0.5191099 ]],\n",
       " \n",
       "        [[0.7357194 , 0.54637796],\n",
       "         [0.7227874 , 0.51910996]],\n",
       " \n",
       "        [[0.7357195 , 0.54637796],\n",
       "         [0.7227874 , 0.5191099 ]],\n",
       " \n",
       "        [[0.7357194 , 0.54637796],\n",
       "         [0.7227874 , 0.51910996]]], dtype=float32),\n",
       " array([[[0.7357195 , 0.54637796],\n",
       "         [0.7227874 , 0.5191099 ]],\n",
       " \n",
       "        [[0.7357194 , 0.54637796],\n",
       "         [0.7227874 , 0.51910996]],\n",
       " \n",
       "        [[0.7357195 , 0.54637796],\n",
       "         [0.7227874 , 0.5191099 ]],\n",
       " \n",
       "        [[0.7357194 , 0.54637796],\n",
       "         [0.7227874 , 0.51910996]]], dtype=float32),\n",
       " array([[[0.7357195 , 0.54637796],\n",
       "         [0.7227874 , 0.5191099 ]],\n",
       " \n",
       "        [[0.7357194 , 0.54637796],\n",
       "         [0.7227874 , 0.51910996]],\n",
       " \n",
       "        [[0.7357195 , 0.54637796],\n",
       "         [0.7227874 , 0.5191099 ]],\n",
       " \n",
       "        [[0.7357194 , 0.54637796],\n",
       "         [0.7227874 , 0.51910996]]], dtype=float32),\n",
       " array([[[0.7357195 , 0.54637796],\n",
       "         [0.7227874 , 0.5191099 ]],\n",
       " \n",
       "        [[0.7357194 , 0.54637796],\n",
       "         [0.7227874 , 0.51910996]],\n",
       " \n",
       "        [[0.7357195 , 0.54637796],\n",
       "         [0.7227874 , 0.5191099 ]],\n",
       " \n",
       "        [[0.7357194 , 0.54637796],\n",
       "         [0.7227874 , 0.51910996]]], dtype=float32),\n",
       " array([[[0.7357195 , 0.54637796],\n",
       "         [0.7227874 , 0.5191099 ]],\n",
       " \n",
       "        [[0.7357194 , 0.54637796],\n",
       "         [0.7227874 , 0.51910996]],\n",
       " \n",
       "        [[0.7357195 , 0.54637796],\n",
       "         [0.7227874 , 0.5191099 ]],\n",
       " \n",
       "        [[0.7357194 , 0.54637796],\n",
       "         [0.7227874 , 0.51910996]]], dtype=float32),\n",
       " array([[[0.7357195 , 0.54637796],\n",
       "         [0.7227874 , 0.5191099 ]],\n",
       " \n",
       "        [[0.7357194 , 0.54637796],\n",
       "         [0.7227874 , 0.51910996]],\n",
       " \n",
       "        [[0.7357195 , 0.54637796],\n",
       "         [0.7227874 , 0.5191099 ]],\n",
       " \n",
       "        [[0.7357194 , 0.54637796],\n",
       "         [0.7227874 , 0.51910996]]], dtype=float32),\n",
       " array([[[0.7357195 , 0.54637796],\n",
       "         [0.7227874 , 0.5191099 ]],\n",
       " \n",
       "        [[0.7357194 , 0.54637796],\n",
       "         [0.7227874 , 0.51910996]],\n",
       " \n",
       "        [[0.7357195 , 0.54637796],\n",
       "         [0.7227874 , 0.5191099 ]],\n",
       " \n",
       "        [[0.7357194 , 0.54637796],\n",
       "         [0.7227874 , 0.51910996]]], dtype=float32),\n",
       " array([[[0.7357195 , 0.54637796],\n",
       "         [0.7227874 , 0.5191099 ]],\n",
       " \n",
       "        [[0.7357194 , 0.54637796],\n",
       "         [0.7227874 , 0.51910996]],\n",
       " \n",
       "        [[0.7357195 , 0.54637796],\n",
       "         [0.7227874 , 0.5191099 ]],\n",
       " \n",
       "        [[0.7357194 , 0.54637796],\n",
       "         [0.7227874 , 0.51910996]]], dtype=float32),\n",
       " array([[[0.7357195 , 0.54637796],\n",
       "         [0.7227874 , 0.5191099 ]],\n",
       " \n",
       "        [[0.7357194 , 0.54637796],\n",
       "         [0.7227874 , 0.51910996]],\n",
       " \n",
       "        [[0.7357195 , 0.54637796],\n",
       "         [0.7227874 , 0.5191099 ]],\n",
       " \n",
       "        [[0.7357194 , 0.54637796],\n",
       "         [0.7227874 , 0.51910996]]], dtype=float32),\n",
       " array([[[0.7357195 , 0.54637796],\n",
       "         [0.7227874 , 0.5191099 ]],\n",
       " \n",
       "        [[0.7357194 , 0.54637796],\n",
       "         [0.7227874 , 0.51910996]],\n",
       " \n",
       "        [[0.7357195 , 0.54637796],\n",
       "         [0.7227874 , 0.5191099 ]],\n",
       " \n",
       "        [[0.7357194 , 0.54637796],\n",
       "         [0.7227874 , 0.51910996]]], dtype=float32),\n",
       " array([[[0.7357195 , 0.54637796],\n",
       "         [0.7227874 , 0.5191099 ]],\n",
       " \n",
       "        [[0.7357194 , 0.54637796],\n",
       "         [0.7227874 , 0.51910996]],\n",
       " \n",
       "        [[0.7357195 , 0.54637796],\n",
       "         [0.7227874 , 0.5191099 ]],\n",
       " \n",
       "        [[0.7357194 , 0.54637796],\n",
       "         [0.7227874 , 0.51910996]]], dtype=float32),\n",
       " array([[[0.7357195 , 0.54637796],\n",
       "         [0.7227874 , 0.5191099 ]],\n",
       " \n",
       "        [[0.7357194 , 0.54637796],\n",
       "         [0.7227874 , 0.51910996]],\n",
       " \n",
       "        [[0.7357195 , 0.54637796],\n",
       "         [0.7227874 , 0.5191099 ]],\n",
       " \n",
       "        [[0.7357194 , 0.54637796],\n",
       "         [0.7227874 , 0.51910996]]], dtype=float32),\n",
       " array([[[0.7357195 , 0.54637796],\n",
       "         [0.7227874 , 0.5191099 ]],\n",
       " \n",
       "        [[0.7357194 , 0.54637796],\n",
       "         [0.7227874 , 0.51910996]],\n",
       " \n",
       "        [[0.7357195 , 0.54637796],\n",
       "         [0.7227874 , 0.5191099 ]],\n",
       " \n",
       "        [[0.7357194 , 0.54637796],\n",
       "         [0.7227874 , 0.51910996]]], dtype=float32),\n",
       " array([[[0.7357195 , 0.54637796],\n",
       "         [0.7227874 , 0.5191099 ]],\n",
       " \n",
       "        [[0.7357194 , 0.54637796],\n",
       "         [0.7227874 , 0.51910996]],\n",
       " \n",
       "        [[0.7357195 , 0.54637796],\n",
       "         [0.7227874 , 0.5191099 ]],\n",
       " \n",
       "        [[0.7357194 , 0.54637796],\n",
       "         [0.7227874 , 0.51910996]]], dtype=float32),\n",
       " array([[[0.7357195 , 0.54637796],\n",
       "         [0.7227874 , 0.5191099 ]],\n",
       " \n",
       "        [[0.7357194 , 0.54637796],\n",
       "         [0.7227874 , 0.51910996]],\n",
       " \n",
       "        [[0.7357195 , 0.54637796],\n",
       "         [0.7227874 , 0.5191099 ]],\n",
       " \n",
       "        [[0.7357194 , 0.54637796],\n",
       "         [0.7227874 , 0.51910996]]], dtype=float32),\n",
       " array([[[0.7357195 , 0.54637796],\n",
       "         [0.7227874 , 0.5191099 ]],\n",
       " \n",
       "        [[0.7357194 , 0.54637796],\n",
       "         [0.7227874 , 0.51910996]],\n",
       " \n",
       "        [[0.7357195 , 0.54637796],\n",
       "         [0.7227874 , 0.5191099 ]],\n",
       " \n",
       "        [[0.7357194 , 0.54637796],\n",
       "         [0.7227874 , 0.51910996]]], dtype=float32),\n",
       " array([[[0.7357195 , 0.54637796],\n",
       "         [0.7227874 , 0.5191099 ]],\n",
       " \n",
       "        [[0.7357194 , 0.54637796],\n",
       "         [0.7227874 , 0.51910996]],\n",
       " \n",
       "        [[0.7357195 , 0.54637796],\n",
       "         [0.7227874 , 0.5191099 ]],\n",
       " \n",
       "        [[0.7357194 , 0.54637796],\n",
       "         [0.7227874 , 0.51910996]]], dtype=float32),\n",
       " array([[[0.7357195 , 0.54637796],\n",
       "         [0.7227874 , 0.5191099 ]],\n",
       " \n",
       "        [[0.7357194 , 0.54637796],\n",
       "         [0.7227874 , 0.51910996]],\n",
       " \n",
       "        [[0.7357195 , 0.54637796],\n",
       "         [0.7227874 , 0.5191099 ]],\n",
       " \n",
       "        [[0.7357194 , 0.54637796],\n",
       "         [0.7227874 , 0.51910996]]], dtype=float32),\n",
       " array([[[0.7357195 , 0.54637796],\n",
       "         [0.7227874 , 0.5191099 ]],\n",
       " \n",
       "        [[0.7357194 , 0.54637796],\n",
       "         [0.7227874 , 0.51910996]],\n",
       " \n",
       "        [[0.7357195 , 0.54637796],\n",
       "         [0.7227874 , 0.5191099 ]],\n",
       " \n",
       "        [[0.7357194 , 0.54637796],\n",
       "         [0.7227874 , 0.51910996]]], dtype=float32)]"
      ]
     },
     "execution_count": 142,
     "metadata": {},
     "output_type": "execute_result"
    }
   ],
   "source": [
    "rap_generated_with_prediction"
   ]
  },
  {
   "cell_type": "code",
   "execution_count": 143,
   "metadata": {},
   "outputs": [
    {
     "name": "stdout",
     "output_type": "stream",
     "text": [
      "\n",
      "\n",
      "\n",
      "About to write rap (this could take a moment)...\n",
      "\n",
      "\n",
      "\n",
      "you think it's a different type of respect for is wiz\n",
      "did you see the blood on the 18th birthday he found out it wasn't his?!\n",
      "now he at least get a kanye beat, you'll never get rusty\n",
      "or maybe they get money, money, money, money, money\n",
      "you don't know where the party is melted like dalí\n",
      "and i don't play pause i'm from a page of your body\n",
      "but all good things gotta come to kill the hypocrisy\n",
      "any rumor you ever fall off, it feel like o'shea\n",
      "i don't listen to the world come to? i'm from chicago\n",
      "action, i had my life like there's no tomorrow\n",
      "cause we just doing what the hell was i supposed to do?\n",
      "that's all i got, you still gotta live close to me though\n",
      "awesome, the christian in christian dior with a nas flow\n",
      "got tracks to go, tell me where they want to act moody!\n",
      "we in the world come to? i'm from a tribe called quest\n",
      "me and you ain't getting this type of dick from kanye west\n",
      "i heard that? when i was looking at your history\n",
      "somebody need to kick it, things became different\n",
      "uh, cause you be lucky to keep what's in my inbox\n",
      "like she ain't going nowhere but got love for you\n",
      "you said you left ya kids and they tell you truthfully\n",
      "motherfucker, are you into astrology\n",
      "flow so retarded with a baby without fuckin', yo\n",
      "she don't need your pussy, bitch, i'm on stage we all go\n",
      "do it with the polo fleece to the funds, baby\n",
      "and warren campbell on the corners in a sarcophagus\n",
      "i know you throw your diamonds when i get bleach on my t-shirt\n",
      "and wouldn't change by the change, or the bay or yay\n",
      "one last thing i need choices in my apart-a-ment\n",
      "and eventually answers to the house when it wasn't\n",
      "no one man should have a real estate agent\n",
      "even though they know yeezus is a job from me lonliness\n",
      "told me i could give you more ice than the sleepers\n",
      "reality is catching up with on some silly shit\n",
      "allāhu akbar and throw him on songs with jay-z\n",
      "asking me why i'm here and i don't need to know\n",
      "hit high school and she want diamonds, i took all year but\n",
      "most you rappers don't know where home is\n",
      "and grabbed it with with no cash in your plans or not\n",
      "she said i need to put the cd on your block and cops clock-us\n",
      "black dick all in the bed if it's a harder way\n",
      "but for that paper, look how long has she been gay?\n",
      "to our end, though i went and told her, “get away”\n",
      "i always use my best friends who had selfish intents\n",
      "it's kanye, but some of the man who beared the cross?\n",
      "i'm trying to worry about me, i'm just waiting on this\n",
      "look, little man, kids don't make me believe in us\n",
      "claiming money is the only felony\n",
      "you an actor, you should just go and grab the reporters\n",
      "your girl want me, i'm just tryna say the alphabet backwards\n",
      "why don't you come from out of our imagination, mtv cribs\n",
      "the good life my whole family whips; no volvos\n",
      "bad enough that i felt like a month ago\n",
      "now i'm finna take yall back to philly\n",
      "or that god put me in line, i already got parents\n",
      "i wasn't really spitting game i was going through customs\n",
      "and you fight, we don't care what people say\n",
      "if you really cared for her girl birthday\n",
      "merry christmas to all, and all i need more seats\n",
      "you a gold digger, you got green on your cell, but not no kia\n",
      "he was cute before, look at you through a glass?\n",
      "i'm way too much up in our family business\n",
      "i'm trippin', this drink got me feeling so upper class\n",
      "talkin my shit, that's how we get this difficult\n",
      "show you what we at at this time raise your glasses\n",
      "suck like ol girl got a flow that solar eclipses\n"
     ]
    },
    {
     "data": {
      "text/plain": [
       "[\"you think it's a different type of respect for is wiz\",\n",
       " \"did you see the blood on the 18th birthday he found out it wasn't his?!\",\n",
       " \"now he at least get a kanye beat, you'll never get rusty\",\n",
       " 'or maybe they get money, money, money, money, money',\n",
       " \"you don't know where the party is melted like dalí\",\n",
       " \"and i don't play pause i'm from a page of your body\",\n",
       " 'but all good things gotta come to kill the hypocrisy',\n",
       " \"any rumor you ever fall off, it feel like o'shea\",\n",
       " \"i don't listen to the world come to? i'm from chicago\",\n",
       " \"action, i had my life like there's no tomorrow\",\n",
       " 'cause we just doing what the hell was i supposed to do?',\n",
       " \"that's all i got, you still gotta live close to me though\",\n",
       " 'awesome, the christian in christian dior with a nas flow',\n",
       " 'got tracks to go, tell me where they want to act moody!',\n",
       " \"we in the world come to? i'm from a tribe called quest\",\n",
       " \"me and you ain't getting this type of dick from kanye west\",\n",
       " 'i heard that? when i was looking at your history',\n",
       " 'somebody need to kick it, things became different',\n",
       " \"uh, cause you be lucky to keep what's in my inbox\",\n",
       " \"like she ain't going nowhere but got love for you\",\n",
       " 'you said you left ya kids and they tell you truthfully',\n",
       " 'motherfucker, are you into astrology',\n",
       " \"flow so retarded with a baby without fuckin', yo\",\n",
       " \"she don't need your pussy, bitch, i'm on stage we all go\",\n",
       " 'do it with the polo fleece to the funds, baby',\n",
       " 'and warren campbell on the corners in a sarcophagus',\n",
       " 'i know you throw your diamonds when i get bleach on my t-shirt',\n",
       " \"and wouldn't change by the change, or the bay or yay\",\n",
       " 'one last thing i need choices in my apart-a-ment',\n",
       " \"and eventually answers to the house when it wasn't\",\n",
       " 'no one man should have a real estate agent',\n",
       " 'even though they know yeezus is a job from me lonliness',\n",
       " 'told me i could give you more ice than the sleepers',\n",
       " 'reality is catching up with on some silly shit',\n",
       " 'allāhu akbar and throw him on songs with jay-z',\n",
       " \"asking me why i'm here and i don't need to know\",\n",
       " 'hit high school and she want diamonds, i took all year but',\n",
       " \"most you rappers don't know where home is\",\n",
       " 'and grabbed it with with no cash in your plans or not',\n",
       " 'she said i need to put the cd on your block and cops clock-us',\n",
       " \"black dick all in the bed if it's a harder way\",\n",
       " 'but for that paper, look how long has she been gay?',\n",
       " 'to our end, though i went and told her, “get away”',\n",
       " 'i always use my best friends who had selfish intents',\n",
       " \"it's kanye, but some of the man who beared the cross?\",\n",
       " \"i'm trying to worry about me, i'm just waiting on this\",\n",
       " \"look, little man, kids don't make me believe in us\",\n",
       " 'claiming money is the only felony',\n",
       " 'you an actor, you should just go and grab the reporters',\n",
       " \"your girl want me, i'm just tryna say the alphabet backwards\",\n",
       " \"why don't you come from out of our imagination, mtv cribs\",\n",
       " 'the good life my whole family whips; no volvos',\n",
       " 'bad enough that i felt like a month ago',\n",
       " \"now i'm finna take yall back to philly\",\n",
       " 'or that god put me in line, i already got parents',\n",
       " \"i wasn't really spitting game i was going through customs\",\n",
       " \"and you fight, we don't care what people say\",\n",
       " 'if you really cared for her girl birthday',\n",
       " 'merry christmas to all, and all i need more seats',\n",
       " 'you a gold digger, you got green on your cell, but not no kia',\n",
       " 'he was cute before, look at you through a glass?',\n",
       " \"i'm way too much up in our family business\",\n",
       " \"i'm trippin', this drink got me feeling so upper class\",\n",
       " \"talkin my shit, that's how we get this difficult\",\n",
       " 'show you what we at at this time raise your glasses',\n",
       " 'suck like ol girl got a flow that solar eclipses']"
      ]
     },
     "execution_count": 143,
     "metadata": {},
     "output_type": "execute_result"
    }
   ],
   "source": [
    "vectors_into_song(rap_generated_with_prediction, bars_new_lyrics, rhyming_list_final_new_lyrics)"
   ]
  },
  {
   "cell_type": "code",
   "execution_count": 132,
   "metadata": {},
   "outputs": [],
   "source": [
    "def vectors_into_song(vectors, generated_lyrics, rhyme_list):\n",
    "    print (\"\\n\\n\")\n",
    "    print(\"About to write rap (this could take a moment)...\")\n",
    "    print (\"\\n\\n\")\n",
    "\n",
    "    # compare the last words to see if they are the same, if they are\n",
    "    # increment a penalty variable which grants penalty points for being\n",
    "    # uncreative\n",
    "    def last_word_compare(rap, line2):\n",
    "        penalty = 0\n",
    "        for line1 in rap:\n",
    "            word1 = line1.split(\" \")[-1]\n",
    "            word2 = line2.split(\" \")[-1]\n",
    "\n",
    "            # remove any punctuation from the words\n",
    "            while word1[-1] in \"?!,. \":\n",
    "                word1 = word1[:-1]\n",
    "\n",
    "            while word2[-1] in \"?!,. \":\n",
    "                word2 = word2[:-1]\n",
    "\n",
    "            if word1 == word2:\n",
    "                penalty += 0.2\n",
    "\n",
    "        return penalty\n",
    "\n",
    "    # vector_half is a single [syllable, rhyme_index] pair\n",
    "    # returns a score rating for a given line\n",
    "    def calculate_score(vector_half, syllables, rhyme, penalty):\n",
    "        desired_syllables = vector_half[0]\n",
    "        desired_rhyme = vector_half[1]\n",
    "        # desired_syllables is the number of syllables we want\n",
    "        desired_syllables = desired_syllables * 16\n",
    "        # desired rhyme is the index of the rhyme we want\n",
    "        desired_rhyme = desired_rhyme * len(rhyme_list)\n",
    "\n",
    "        # generate a score by subtracting from 1 the sum of the difference between\n",
    "        # predicted syllables and generated syllables and the difference between\n",
    "        # the predicted rhyme and generated rhyme and then subtract the penalty\n",
    "        score = 1.0 - (abs((float(desired_syllables) - float(syllables))) + abs(\n",
    "            (float(desired_rhyme) - float(rhyme)))) - penalty\n",
    "\n",
    "        return score\n",
    "\n",
    "    # generated a list of all the lines from generated_lyrics with their\n",
    "    # line, syllables, and rhyme float value\n",
    "    dataset = []\n",
    "    for line in generated_lyrics:\n",
    "    \n",
    "        line_list = [line, find_syllables_count(line), index_rhyming_word_to_float(rhyme_list,line)]\n",
    "        dataset.append(line_list)\n",
    "\n",
    "    rap = []\n",
    "\n",
    "    vector_halves = []\n",
    "    for vector in vectors:\n",
    "        # vectors are the 2x2 rap_vectors (predicted bars) generated by compose_rap()\n",
    "        # separate every vector into a half (essentially one bar) where each\n",
    "        # has a pair of [syllables, rhyme_index]\n",
    "        vector_halves.append(list(vector[0][0]))\n",
    "        vector_halves.append(list(vector[0][1]))\n",
    "\n",
    "    for vector in vector_halves:\n",
    "        # Each vector (predicted bars) is scored against every generated bar ('item' below)\n",
    "        # to find the generated bar that best matches (highest score) the vector predicted\n",
    "        # by the model. This bar is then added to the final rap and also removed from the\n",
    "        # generated lyrics (dataset) so that we don't get duplicate lines in the final rap.\n",
    "        scorelist = []\n",
    "        for item in dataset:\n",
    "            # item is one of the generated bars from the Markov model\n",
    "            line = item[0]\n",
    "\n",
    "            if len(rap) != 0:\n",
    "                penalty = last_word_compare(rap, line)\n",
    "            else:\n",
    "                penalty = 0\n",
    "            # calculate the score of the current line\n",
    "            total_score = calculate_score(vector, item[1], item[2], penalty)\n",
    "            score_entry = [line, total_score]\n",
    "            # add the score of the current line to a scorelist\n",
    "            scorelist.append(score_entry)\n",
    "\n",
    "        fixed_score_list = []\n",
    "        for score in scorelist:\n",
    "            fixed_score_list.append(float(score[1]))\n",
    "        # get the line with the max valued score from the fixed_score_list\n",
    "        max_score = max(fixed_score_list)\n",
    "        for item in scorelist:\n",
    "            if item[1] == max_score:\n",
    "                # append item[0] (the line) to the rap\n",
    "                rap.append(item[0])\n",
    "                print(str(item[0]))\n",
    "\n",
    "                # remove the line we added to the rap so\n",
    "                # it doesn't get chosen again\n",
    "                for i in dataset:\n",
    "                    if item[0] == i[0]:\n",
    "                        dataset.remove(i)\n",
    "                        break\n",
    "                break\n",
    "    return rap\n"
   ]
  },
  {
   "cell_type": "code",
   "execution_count": null,
   "metadata": {},
   "outputs": [],
   "source": [
    "rap = "
   ]
  },
  {
   "cell_type": "code",
   "execution_count": null,
   "metadata": {},
   "outputs": [],
   "source": []
  },
  {
   "cell_type": "code",
   "execution_count": null,
   "metadata": {},
   "outputs": [],
   "source": []
  },
  {
   "cell_type": "code",
   "execution_count": null,
   "metadata": {},
   "outputs": [],
   "source": [
    "rhyme_list_all_new_lyrics = [] # conatins the last 2 characters of the most common rhymes words of all the last words in the bars\n",
    "for bar in bars_new_lyrics[:]:\n",
    "    # taking the last word in each bar\n",
    "    last_word = bar.split(' ')[-1]\n",
    "    # finding the rhyming word for 'last_word'\n",
    "    rhyming_words = pronouncing.rhymes(last_word)\n",
    "    rhyming_words = [x.encode('utf-8') for x in rhyming_words]\n",
    "    #print(rhyming_words)\n",
    "    rhyming_words_ending = []\n",
    "    for rhyming_word in rhyming_words:\n",
    "        rhyming_words_ending.append(rhyming_word[-2:]) # this will pull the last 2 characters from each rhyming word\n",
    "    #print(rhyming_words_ending)\n",
    "    # now we see that which of the 2 characters in the rhyming_words_ending list occur the most\n",
    "    # we used a try catch that if the rhyming word is not found then we will take the last 2 characters of the original word\n",
    "    try:\n",
    "        rhyming_words_ending_most_common = max(set(rhyming_words_ending), key = rhyming_words_ending )\n",
    "    except Exception:\n",
    "        rhyming_words_ending_most_common = last_word[-2:]\n",
    "    #print(rhyming_words_ending_most_common)\n",
    "    rhyme_list_all_new_lyrics.append(rhyming_words_ending_most_common)"
   ]
  },
  {
   "cell_type": "code",
   "execution_count": null,
   "metadata": {},
   "outputs": [],
   "source": [
    "print(len(bars_new_lyrics)) # lenth of bars\n",
    "print(len(rhyme_list_all_new_lyrics)) # length of rhymelist_all\n",
    "print(rhyme_list_all_new_lyrics[:10]) # displaying the first 10 values in the 'rhyme_list_all_new_lyrics'"
   ]
  },
  {
   "cell_type": "code",
   "execution_count": null,
   "metadata": {},
   "outputs": [],
   "source": [
    "# now taking the set of the list to get only unique last 2 characters\n",
    "rhyme_list_all_new_lyrics = list(set(rhyme_list_all_new_lyrics))\n",
    "print(len(rhyme_list_all_new_lyrics))"
   ]
  },
  {
   "cell_type": "code",
   "execution_count": null,
   "metadata": {},
   "outputs": [],
   "source": [
    "reverse_list_new_lyrics = [x[::-1] for x in rhyme_list_all_new_lyrics] #  using slicing syntax to reverse the letters[start,stop,step],\n",
    "reverse_list_new_lyrics = sorted(reverse_list_new_lyrics) # sorting the characters\n",
    "# now we will reverse the string again : this is done so that the words with the similar sounds can be taken in order\n",
    "rhyming_list_final_new_lyrics =  [x[::-1] for x in reverse_list_new_lyrics]"
   ]
  },
  {
   "cell_type": "code",
   "execution_count": null,
   "metadata": {},
   "outputs": [],
   "source": [
    "# step 11 : composing rap using model\n",
    "import random\n",
    "starting_index = random.choice(range(len(bars_new_lyrics)-1)) # start with random index value in the new lyrics generated\n",
    "starting_lines = bars_new_lyrics[starting_index:starting_index+ 8] # taking the next 8 lines in the bar after the starting index\n",
    "starting_input = []\n",
    "\n",
    "print(starting_lines)# random lines selected\n"
   ]
  },
  {
   "cell_type": "code",
   "execution_count": null,
   "metadata": {},
   "outputs": [],
   "source": [
    "syallales_lines_new_lyrics = []\n",
    "float_rhyme_bar_list = []\n",
    "\n",
    "for bar in starting_lines: \n",
    "    #print(syllables.estimate(bar)/16)\n",
    "    syallales_lines_new_lyrics.append(syllables.estimate(bar)/16)\n",
    "\n",
    "#print(syallales_lines)\n",
    "\n",
    "for bar in starting_lines:\n",
    "    last_word_bar = bar.split(' ')[-1]\n",
    "    rhyming_words_bar_new_lyrics = pronouncing.rhymes(last_word_bar)\n",
    "    rhyming_words_bar_new_lyrics = [x.encode('utf-8') for x in rhyming_words_bar_new_lyrics]\n",
    "    #print(rhyming_words_bar)\n",
    "    rhyming_words_ending_bar = []\n",
    "    for rhyming_word in rhyming_words_bar:\n",
    "        rhyming_words_ending_bar.append(rhyming_words_bar_new_lyrics[-2:]) # this will pull the last 2 characters from each rhyming word\n",
    "    #print(rhyming_words_ending_bar)\n",
    "    # now we see that which of the 2 characters in the rhyming_words_ending list occur the most\n",
    "    # we used a try catch that if the rhyming word is not found then we will take the last 2 characters of the original word\n",
    "    try:\n",
    "        rhyming_words_ending_most_common_bar = max(set(rhyming_words_ending_bar), key = rhyming_words_ending_bar )\n",
    "    except Exception:\n",
    "        rhyming_words_ending_most_common_bar = last_word_bar[-2:]\n",
    "    #converts the index of the most common rhyme ending into a float\n",
    "    #print(rhyming_words_ending_most_common_bar)\n",
    "    #print('rhyming_list_final',rhyming_list_final)\n",
    "    try:\n",
    "        float_rhyme_bar = rhyming_list_final.index(rhyming_words_ending_most_common_bar) # gives the index of the our rhyming character in  the final list of all the rhyming 2 characters\n",
    "        #print(float_rhyme_bar)\n",
    "        float_rhyme_bar = float_rhyme_bar/float(len(rhyming_list_final))\n",
    "        #print(float_rhyme_bar)\n",
    "        float_rhyme_bar_list.append(float_rhyme_bar)# converts the value of the index in the range between 0 and 1\n",
    "    except Exception:\n",
    "        float_rhyme_bar_list.append(None)\n",
    "print(float_rhyme_bar_list)\n",
    "    "
   ]
  },
  {
   "cell_type": "code",
   "execution_count": null,
   "metadata": {},
   "outputs": [],
   "source": [
    "data_set_new_lyrics = []\n",
    "for i in range(len(starting_lines)):\n",
    "    data_set_new_lyrics.append([syallales_lines_new_lyrics[i], float_rhyme_bar_list[i]])"
   ]
  },
  {
   "cell_type": "code",
   "execution_count": null,
   "metadata": {},
   "outputs": [],
   "source": [
    "data_set_new_lyrics"
   ]
  },
  {
   "cell_type": "code",
   "execution_count": null,
   "metadata": {},
   "outputs": [],
   "source": [
    "# this gives us predicted vector output for the randomly selected 8 lines\n",
    "predicted_vectors = model.predict(np.array([data_set_new_lyrics]).flatten().reshape(4, 2, 2))\n",
    "print(predicted_vectors)"
   ]
  },
  {
   "cell_type": "code",
   "execution_count": null,
   "metadata": {},
   "outputs": [],
   "source": [
    "rap_vector = []\n",
    "rap_vector.append(predicted_vectors)"
   ]
  },
  {
   "cell_type": "code",
   "execution_count": null,
   "metadata": {},
   "outputs": [],
   "source": [
    "for i in range(100):\n",
    "    rap_vector.append(model.predict(np.array([rap_vector[-1]]).flatten().reshape(4, 2, 2)))\n",
    "#print(len(rap_vector))\n",
    "print(rap_vector)"
   ]
  },
  {
   "cell_type": "code",
   "execution_count": null,
   "metadata": {},
   "outputs": [],
   "source": [
    "# now we will try and conver these vector value with sentences"
   ]
  },
  {
   "cell_type": "code",
   "execution_count": null,
   "metadata": {},
   "outputs": [],
   "source": [
    "vectors_into_song(rap_vector, bars_new_lyrics, float_rhyme_bar_list)"
   ]
  },
  {
   "cell_type": "code",
   "execution_count": null,
   "metadata": {},
   "outputs": [],
   "source": []
  }
 ],
 "metadata": {
  "kernelspec": {
   "display_name": "Python 3",
   "language": "python",
   "name": "python3"
  },
  "language_info": {
   "codemirror_mode": {
    "name": "ipython",
    "version": 3
   },
   "file_extension": ".py",
   "mimetype": "text/x-python",
   "name": "python",
   "nbconvert_exporter": "python",
   "pygments_lexer": "ipython3",
   "version": "3.7.1"
  }
 },
 "nbformat": 4,
 "nbformat_minor": 2
}
