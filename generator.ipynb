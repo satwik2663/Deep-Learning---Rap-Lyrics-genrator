{
 "cells": [
  {
   "cell_type": "markdown",
   "metadata": {},
   "source": [
    "## RAP MUSIC GENERATION"
   ]
  },
  {
   "cell_type": "markdown",
   "metadata": {},
   "source": [
    "<u><b> Step 1 : Reading the rap song file </b> </u>"
   ]
  },
  {
   "cell_type": "code",
   "execution_count": 1,
   "metadata": {},
   "outputs": [],
   "source": [
    "# read the rap text file with all the raps\n",
    "\n",
    "rap_song_file = open(r'./All_Rap_lyrics.txt','r', encoding='utf-8').read()\n",
    "rap_song_file = rap_song_file.lower() # converting all the text to lower case"
   ]
  },
  {
   "cell_type": "markdown",
   "metadata": {},
   "source": [
    "<u><b>  Step 2 : Building bars from lyrics </b> </u>"
   ]
  },
  {
   "cell_type": "markdown",
   "metadata": {},
   "source": [
    "#### Terminologies:\n",
    "##### What is a bar in rap song:\n",
    "- Usually one line of lyrics is one count, and there are 4 counts in a bar.  \n",
    "- There are  16 bars in a verse in most rap songs.<br>\n",
    "\n",
    "##### An example of bar using a lyrics below:\n",
    "Lights slow motion, steppin' out the Phantom ===> 1 bar <br>\n",
    "All eyes on me, peekin' and glancin' ===> 2nd bar <br>\n",
    "Leanin' on the wall, with b-boys dancin' ===> 3rd bar <br>\n",
    "Ears, neck, and wrists lookin' like the king's ransom ==> 4 bars <br>\n",
    "\n",
    "###### Just to note  that the verse length may vary across lyrics but we have taken the verse length to equal to 4 bars"
   ]
  },
  {
   "cell_type": "code",
   "execution_count": 2,
   "metadata": {},
   "outputs": [],
   "source": [
    "# splitting out rap songs collection line by line\n",
    "\n",
    "bars = rap_song_file.split('\\n') "
   ]
  },
  {
   "cell_type": "markdown",
   "metadata": {},
   "source": [
    "<b> <u> Step 3 : Cleaning the bars </b> </u>\n",
    "- Converting characters to the lowercase\n",
    "- Removing empty string\n",
    "- Removing special characters\n",
    "- Removing characters inside [ ] as these are not relevant to the bars we are generating\n",
    "- Stripping the end charcters (if its a space)"
   ]
  },
  {
   "cell_type": "code",
   "execution_count": 3,
   "metadata": {},
   "outputs": [
    {
     "name": "stdout",
     "output_type": "stream",
     "text": [
      "Length of the bars :  22839\n"
     ]
    }
   ],
   "source": [
    "print('Length of the bars : ', len(bars))"
   ]
  },
  {
   "cell_type": "code",
   "execution_count": 4,
   "metadata": {},
   "outputs": [
    {
     "name": "stdout",
     "output_type": "stream",
     "text": [
      "There are characters inside [ ], these are of no significance. For example : \n",
      "\n",
      " [\"but when i hear the beat i'm tempted to make another attempt at it...\", \"i'm infinite\", '', \"'95, '96 ('96)\", 'and on and on and on (and on and on)', '', '', '', '[old school hip-hop beat tune plays in the background like a radio station]', '']\n"
     ]
    }
   ],
   "source": [
    "# removing the charcacters inside [] and converting the bars to lowercase\n",
    "\n",
    "import re\n",
    "print('There are characters inside [ ], these are of no significance. For example : \\n\\n' , bars[80:90])\n",
    "new_bars = []\n",
    "for bar in bars:\n",
    "    bar = re.sub(r'\\[.*?\\]', '', bar)\n",
    "    new_bars.append(bar.lower())\n",
    "bars = new_bars\n"
   ]
  },
  {
   "cell_type": "code",
   "execution_count": 5,
   "metadata": {},
   "outputs": [
    {
     "name": "stdout",
     "output_type": "stream",
     "text": [
      "[\"but when i hear the beat i'm tempted to make another attempt at it...\", \"i'm infinite\", '', \"'95, '96 ('96)\", 'and on and on and on (and on and on)', '', '', '', '', '']\n"
     ]
    }
   ],
   "source": [
    "# We need to remove the empty_strings in bar\n",
    "\n",
    "print(bars[80:90]) # we see that there are some empty strings in the file\n",
    "bars = list(filter(None, bars)) ## filter out the strings with None"
   ]
  },
  {
   "cell_type": "code",
   "execution_count": 6,
   "metadata": {},
   "outputs": [
    {
     "data": {
      "text/plain": [
       "['this is mc proof',\n",
       " 'and dj head',\n",
       " \"checkin' in on w.e.g.o.\",\n",
       " \"you know what i'm sayin'?\",\n",
       " 'ay yo we got the number one requested song, of the day coming up next.',\n",
       " \"it's a local thing wants retilin'\",\n",
       " 'it goes by the name of eminem',\n",
       " 'and it\\'s called \"it\\'s ok\"',\n",
       " ' check it out, ',\n",
       " ' hey kyu!']"
      ]
     },
     "execution_count": 6,
     "metadata": {},
     "output_type": "execute_result"
    }
   ],
   "source": [
    "bars[80:90] # empty string have been removed"
   ]
  },
  {
   "cell_type": "code",
   "execution_count": 7,
   "metadata": {},
   "outputs": [],
   "source": [
    "# Subsituting the special characters with empty space, stripping on the end of the strings\n",
    "\n",
    "import re\n",
    "new_bars = []\n",
    "for bar in bars:\n",
    "    bar = re.sub('[^A-Za-z\\s]+', '', bar)\n",
    "    new_bars.append(bar.strip())\n",
    "bars = new_bars"
   ]
  },
  {
   "cell_type": "code",
   "execution_count": 8,
   "metadata": {},
   "outputs": [
    {
     "data": {
      "text/plain": [
       "['this is mc proof',\n",
       " 'and dj head',\n",
       " 'checkin in on wego',\n",
       " 'you know what im sayin',\n",
       " 'ay yo we got the number one requested song of the day coming up next',\n",
       " 'its a local thing wants retilin',\n",
       " 'it goes by the name of eminem',\n",
       " 'and its called its ok',\n",
       " 'check it out',\n",
       " 'hey kyu']"
      ]
     },
     "execution_count": 8,
     "metadata": {},
     "output_type": "execute_result"
    }
   ],
   "source": [
    "bars[80:90]# special characters have been removed"
   ]
  },
  {
   "cell_type": "code",
   "execution_count": 9,
   "metadata": {},
   "outputs": [
    {
     "name": "stdout",
     "output_type": "stream",
     "text": [
      "Length of the bars :  17505\n"
     ]
    }
   ],
   "source": [
    "print('Length of the bars : ', len(bars))"
   ]
  },
  {
   "cell_type": "code",
   "execution_count": 10,
   "metadata": {},
   "outputs": [],
   "source": [
    "with open('./cleaned_Rap.txt.txt', 'w') as f:\n",
    "    for item in bars:\n",
    "        f.write(\"%s\\n\" % item)"
   ]
  },
  {
   "cell_type": "markdown",
   "metadata": {},
   "source": [
    "<b> <u> Step 4 : Visualizing the dataset </b> </u>"
   ]
  },
  {
   "cell_type": "code",
   "execution_count": 11,
   "metadata": {},
   "outputs": [],
   "source": [
    "# creating a word cloud of the most used words in a rhyme\n",
    "\n",
    "import matplotlib.pyplot as plt\n",
    "from wordcloud import WordCloud"
   ]
  },
  {
   "cell_type": "code",
   "execution_count": 12,
   "metadata": {},
   "outputs": [],
   "source": [
    "# combining all the bars into a single string to feed into the wordcloud generate function\n",
    "\n",
    "str_bars = ''\n",
    "str_bars = ' '.join(bars)\n",
    "wordcloud = WordCloud().generate(str_bars)"
   ]
  },
  {
   "cell_type": "code",
   "execution_count": 13,
   "metadata": {},
   "outputs": [
    {
     "data": {
      "image/png": "[encoded data removed]",
      "text/plain": [
       "<Figure size 1080x7200 with 1 Axes>"
      ]
     },
     "metadata": {
      "needs_background": "light"
     },
     "output_type": "display_data"
    }
   ],
   "source": [
    "# forming the word cloud of the most used words in all the raps across\n",
    "\n",
    "\n",
    "plt.figure(figsize=(15,100))\n",
    "plt.title('Word cloud of the most used words', fontsize=30)\n",
    "plt.imshow(wordcloud)\n",
    "plt.axis(\"off\") # added to not display the x and y axis\n",
    "plt.show()"
   ]
  },
  {
   "cell_type": "code",
   "execution_count": 14,
   "metadata": {},
   "outputs": [
    {
     "data": {
      "text/plain": [
       "Text(0, 0.5, 'Number of songs')"
      ]
     },
     "execution_count": 14,
     "metadata": {},
     "output_type": "execute_result"
    },
    {
     "data": {
      "image/png": "[encoded data removed]",
      "text/plain": [
       "<Figure size 1440x360 with 1 Axes>"
      ]
     },
     "metadata": {
      "needs_background": "light"
     },
     "output_type": "display_data"
    }
   ],
   "source": [
    "# visualizing artist and number of songs considered\n",
    "\n",
    "import pandas as pd\n",
    "df_artists = pd.read_excel(r'Rap_songs_artist.xlsx')\n",
    "\n",
    "plt.figure(figsize=(20,5))\n",
    "plt.title('Rap songs artist vs Number of songs', fontsize=30)\n",
    "plt.bar(df_artists['Artist'],df_artists['Songs'], color= 'y')\n",
    "plt.xlabel('Artist', fontsize=20)\n",
    "plt.ylabel('Number of songs', fontsize=20)"
   ]
  },
  {
   "cell_type": "code",
   "execution_count": 15,
   "metadata": {},
   "outputs": [],
   "source": [
    "# counting the number and also count of unique words in the corpus\n",
    "\n",
    "from nltk.tokenize import word_tokenize\n",
    "words_count = word_tokenize(str_bars)"
   ]
  },
  {
   "cell_type": "code",
   "execution_count": 16,
   "metadata": {},
   "outputs": [
    {
     "name": "stdout",
     "output_type": "stream",
     "text": [
      "All the words in the bars :  145597\n",
      "All the unique words in the bars :  10626\n",
      "The total number of bar :  17505\n"
     ]
    }
   ],
   "source": [
    "print('All the words in the bars : ' , len(words_count))\n",
    "print('All the unique words in the bars : ' , len(set(words_count)))\n",
    "print('The total number of bar : ', len(bars))"
   ]
  },
  {
   "cell_type": "markdown",
   "metadata": {},
   "source": [
    "<b> <u> Step 5 : Building the list of rhymes </b> </u>"
   ]
  },
  {
   "cell_type": "code",
   "execution_count": 17,
   "metadata": {},
   "outputs": [],
   "source": [
    "import pronouncing #using this library to find the list of rhyming words"
   ]
  },
  {
   "cell_type": "markdown",
   "metadata": {},
   "source": [
    "<b> Function : rhyming_list_all </b> <br>\n",
    "\n",
    "- Firstly we take out the last word from every bar <br>\n",
    "<br>\n",
    "- pronouncing.rhymes(last_word) :  It is used to give the set of rhyming words with the last word. \n",
    "<br> For example: pronouncing.rhymes('love') will give ['above', 'belove', 'deneuve', 'deneuve', 'dove', 'glove', 'gov', 'labov', 'labove', \"o'glove\", 'of', 'shove', 'thereof','vanhove'] <br>\n",
    "<br>\n",
    "- Then we consider the last 2 characters in every rhyming word and see that which 2 charcater are the most repeated. \n",
    "<br>\n",
    "- After this we assign these words rhyming_list_final in reveresed order (reversing with arrange the words with the same sound together) <br>\n",
    "<br>"
   ]
  },
  {
   "cell_type": "code",
   "execution_count": 18,
   "metadata": {},
   "outputs": [],
   "source": [
    "def rhyming_list_all(bars):\n",
    "    rhyme_list_all = []\n",
    "    rhyming_list_final = []\n",
    "    for bar in bars:\n",
    "        # taking the last word in each bar\n",
    "        last_word = re.sub(r\"\\W+\", '', bar.split(\" \")[-1]).lower()\n",
    "        # finding the rhyming word for 'last_word'\n",
    "        #print(last_word)\n",
    "        rhyming_words = pronouncing.rhymes(last_word)\n",
    "        #rhyming_words = [x.encode('UTF8') for x in rhyming_words]\n",
    "        #print(rhyming_words)\n",
    "        rhyming_words_ending = []\n",
    "        for rhyming_word in rhyming_words:\n",
    "            rhyming_words_ending.append(rhyming_word[-2:]) # this will pull the last 2 characters from each rhyming word\n",
    "        #print(rhyming_words_ending)\n",
    "        # now we see that which of the 2 characters in the rhyming_words_ending list occur the most\n",
    "        # we used a try catch that if the rhyming word is not found then we will take the last 2 characters of the original word\n",
    "        try:\n",
    "            rhyming_words_ending_most_common = max(set(rhyming_words_ending), key = rhyming_words_ending.count)\n",
    "        except Exception:\n",
    "            rhyming_words_ending_most_common = last_word[-2:]\n",
    "            #print(rhyming_words_ending_most_common)\n",
    "        rhyme_list_all.append(rhyming_words_ending_most_common)\n",
    "        #print(rhyme_list_all)\n",
    "    # now taking the set of the list to get only unique last 2 characters\n",
    "    #print('for loop ended')\n",
    "    rhyme_list_all = list(set(rhyme_list_all))\n",
    "    reverse_list = [x[::-1] for x in rhyme_list_all] #  using slicing syntax to reverse the letters[start,stop,step],\n",
    "    #print(reverse_list)\n",
    "    reverse_list = sorted(reverse_list)# sorting the characters\n",
    "    #print(reverse_list)\n",
    "    # now we will reverse the string again : this is done so that the words with the similar sounds can be taken in order\n",
    "    rhyming_list_final =  [x[::-1] for x in reverse_list]\n",
    "    return rhyming_list_final"
   ]
  },
  {
   "cell_type": "code",
   "execution_count": 19,
   "metadata": {},
   "outputs": [],
   "source": [
    "rhyming_list_final = rhyming_list_all(bars) # contain the list of all common rhyming words (last 2 characters) used in the lyrics across all bars"
   ]
  },
  {
   "cell_type": "code",
   "execution_count": 20,
   "metadata": {},
   "outputs": [
    {
     "name": "stdout",
     "output_type": "stream",
     "text": [
      "285\n",
      "['', \"s'\", 'a', 'aa', 'ba', 'ca', 'da', 'ea', 'ga', 'ha', 'ia', 'ja', 'ka', 'la', 'ma', 'na', 'pa', 'ra', 'sa', 'ta', 'ua', 'va', 'ya', 'za', 'ab', 'eb', 'ib', 'ob', 'rb', 'ub', 'ac', 'bc', 'fc', 'gc', 'ic', 'mc', 'nc', 'oc', 'ad', 'ed', 'id', 'ld', 'nd', 'od', 'rd', 'ud', 'vd', 'be', 'ce', 'de', 'ee', 'fe', 'ge', 'he', 'ie', 'ke', 'le', 'me', 'ne', 'oe', 'pe', 're', 'se', 'te', 'ue', 've', 'ye', 'ze', 'af', 'ef', 'ff', 'if', 'lf', 'of', 'tf', 'ag', 'bg', 'eg', 'gg', 'ig', 'ng', 'og', 'pg', 'rg', 'ug', 'wg', 'ah', 'ch', 'eh', 'gh', 'hh', 'nh', 'oh', 'ph', 'sh', 'th', 'uh', 'wh', 'ai', 'ci', 'gi', 'hi', 'ii', 'ki', 'li', 'mi', 'ni', 'oi', 'pi', 'ri', 'si', 'ti', 'zi', 'pj', 'tj', 'ak', 'ck', 'ek', 'ik', 'kk', 'lk', 'nk', 'ok', 'rk', 'sk', 'al', 'el', 'hl', 'il', 'll', 'ol', 'rl', 'tl', 'ul', 'wl', 'xl', 'am', 'bm', 'em', 'im', 'lm', 'mm', 'om', 'rm', 'sm', 'um', 'an', 'en', 'gn', 'in', 'mn', 'nn', 'on', 'rn', 'un', 'wn', 'yn', 'ao', 'co', 'do', 'eo', 'fo', 'go', 'io', 'jo', 'ko', 'lo', 'mo', 'no', 'oo', 'po', 'ro', 'to', 'vo', 'wo', 'yo', 'zo', 'ap', 'dp', 'ep', 'ip', 'lp', 'mp', 'op', 'pp', 'rp', 'sp', 'up', 'ar', 'cr', 'er', 'ir', 'jr', 'or', 'pr', 'rr', 'ur', \"'s\", 'as', 'bs', 'cs', 'ds', 'es', 'fs', 'gs', 'hs', 'is', 'js', 'ks', 'ls', 'ms', 'ns', 'os', 'ps', 'rs', 'ss', 'ts', 'us', 'vs', 'ws', 'ys', \"'t\", 'at', 'ct', 'et', 'ft', 'ht', 'it', 'lt', 'nt', 'ot', 'pt', 'rt', 'st', 'tt', 'ut', 'au', 'cu', 'ru', 'uu', 'av', 'iv', 'lv', 'ov', 'aw', 'ew', 'lw', 'ow', 'ww', 'ax', 'ex', 'ix', 'ox', 'yx', 'ay', 'by', 'cy', 'dy', 'ey', 'fy', 'gy', 'hy', 'ky', 'ly', 'my', 'ny', 'oy', 'py', 'ry', 'sy', 'ty', 'vy', 'yy', 'zy', 'az', 'ez', 'gz', 'iz', 'lz', 'oz', 'pz', 'tz', 'uz', 'yz', 'zz']\n"
     ]
    }
   ],
   "source": [
    "print(len(rhyming_list_final)) # lenth of the common rhyming words used in the lyrics across all bars\n",
    "print(rhyming_list_final)"
   ]
  },
  {
   "cell_type": "markdown",
   "metadata": {},
   "source": [
    "### What is a syllables:\n",
    "- A syllable is a single, unbroken sound of a spoken (or written) word. Syllables usually contain a vowel and accompanying consonants <br>  \n",
    "- EXAMPLE: Water has two syllables (wa / ter), Computer has three syllables (com / pu / ter)<br>\n",
    "\n",
    "### why do we need syllables in rap song?:\n",
    "- Counting syllables is an excellent skill <br>\n",
    "- Important part of the structure of your rhymes is syllable structure<br>\n",
    "- The syllables in each line will create a beat in your rap<br>\n",
    "- Generally, by drawing out a line with too many syllables, or making a line too short with too few syllables, you can disrupt the beat of your rap<br>\n",
    "- Avoid this by trying to balance rhyming lines to have the same number of beats<br>\n",
    "\n",
    "### To note: \n",
    "- We are considering the maximun number of syllables for out rap song to be 16 in a line"
   ]
  },
  {
   "cell_type": "markdown",
   "metadata": {},
   "source": [
    "<b> <u> Step 6 : We will count the syallables in a sentence  </b> </u>"
   ]
  },
  {
   "cell_type": "code",
   "execution_count": 21,
   "metadata": {},
   "outputs": [],
   "source": [
    "import syllables\n",
    "def find_syllables_count(bar):\n",
    "    return syllables.estimate(bar)/16 # average syllables count in a bar"
   ]
  },
  {
   "cell_type": "markdown",
   "metadata": {},
   "source": [
    "<b> <u>Step 7: we would convert the index of our rhyming 2 character into float value</b> </u>"
   ]
  },
  {
   "cell_type": "code",
   "execution_count": 22,
   "metadata": {},
   "outputs": [],
   "source": [
    "\n",
    "# we are doing the following steps to see that how close the rhyming words are each other\n",
    "# This will make the last words which are similar in rhyme to get closer scores\n",
    "\n",
    "def index_rhyming_word_to_float(rhyming_list_final, bar):\n",
    "    word = re.sub(r\"\\W+\", '', bar.split(\" \")[-1]).lower()\n",
    "    rhymeslist = pronouncing.rhymes(word)\n",
    "    #rhymeslist = [x.encode('UTF8') for x in rhymeslist]\n",
    "    rhymeslistends = []\n",
    "    for i in rhymeslist:\n",
    "        rhymeslistends.append(i[-2:])\n",
    "    try:\n",
    "        rhymescheme = max(set(rhymeslistends), key=rhymeslistends.count)\n",
    "    except Exception:\n",
    "        rhymescheme = word[-2:]\n",
    "    #print(len(rhymescheme))\n",
    "    try:\n",
    "        float_rhyme = rhyming_list_final.index(rhymescheme)\n",
    "        float_rhyme = float_rhyme / float(len(rhyming_list_final))\n",
    "        #print(word, float_rhyme)\n",
    "        return float_rhyme\n",
    "    except Exception:\n",
    "        #print(word, float_rhyme)\n",
    "        return None"
   ]
  },
  {
   "cell_type": "markdown",
   "metadata": {},
   "source": [
    "<b> <u>Step 8 : combining the list of bars, syllables and float_rhyme_bar_list to a list</b> </u>"
   ]
  },
  {
   "cell_type": "code",
   "execution_count": 23,
   "metadata": {},
   "outputs": [],
   "source": [
    "data_set = []\n",
    "values_data_set = []\n",
    "for bar in bars:\n",
    "    values_data_set = [bar, find_syllables_count(bar), index_rhyming_word_to_float(rhyming_list_final, bar)]\n",
    "    data_set.append(values_data_set)"
   ]
  },
  {
   "cell_type": "code",
   "execution_count": 24,
   "metadata": {},
   "outputs": [
    {
     "data": {
      "text/plain": [
       "17505"
      ]
     },
     "execution_count": 24,
     "metadata": {},
     "output_type": "execute_result"
    }
   ],
   "source": [
    "len(data_set)"
   ]
  },
  {
   "cell_type": "code",
   "execution_count": 25,
   "metadata": {},
   "outputs": [
    {
     "data": {
      "text/plain": [
       "4376.25"
      ]
     },
     "execution_count": 25,
     "metadata": {},
     "output_type": "execute_result"
    }
   ],
   "source": [
    "len(data_set)/4"
   ]
  },
  {
   "cell_type": "markdown",
   "metadata": {},
   "source": [
    "### What is a verse:\n",
    "- Writing arranged with a metrical rhythm, typically having a rhyme <br>\n",
    "\n",
    "### why do we need verse in rap song?:\n",
    "- Verses are an important componenent of any song <br>\n",
    "- The duration is usually 16 bars, but the verse may last 8 bars, 12 bars, or 24 bars.<br>\n",
    "- As seen from the above patten, we will consider a verse of length 4<br>\n",
    "\n",
    "##### Since our dataset is of the length 17505, if we divide it by 4, we would get a decimal number (4376.25), so we will round it off to a whole number by substracting 1 bars and then diving it by 4"
   ]
  },
  {
   "cell_type": "code",
   "execution_count": 26,
   "metadata": {},
   "outputs": [
    {
     "data": {
      "text/plain": [
       "4376.0"
      ]
     },
     "execution_count": 26,
     "metadata": {},
     "output_type": "execute_result"
    }
   ],
   "source": [
    "new_length_data_set = len(data_set) -1\n",
    "new_length_data_set/4"
   ]
  },
  {
   "cell_type": "markdown",
   "metadata": {},
   "source": [
    " <b> <u> Step 9 : creating the X and y for the lstm model </b> </u>"
   ]
  },
  {
   "cell_type": "code",
   "execution_count": 27,
   "metadata": {},
   "outputs": [],
   "source": [
    "import numpy as np\n",
    "X = []\n",
    "y = []\n",
    "i = 0\n",
    "for data in range(new_length_data_set - 8):\n",
    "    \n",
    "    # this would create feature and labels as follows:\n",
    "    # for example: if features ==> line 1, line 2, then labels ==> line 3, line 4\n",
    "    # if features ==>  line 2, line 3, then labels ==> line4, line 5\n",
    "    \n",
    "    bar_1 = data_set[data][1:]\n",
    "    bar_2 = data_set[data + 1][1:]\n",
    "    bar_3 = data_set[data + 2][1:]\n",
    "    bar_4 = data_set[data + 3][1:]\n",
    "    #bar_5 = data_set[data + 4][1:]\n",
    "    #bar_6 = data_set[data + 5][1:]\n",
    "    #bar_7 = data_set[data + 6][1:]\n",
    "    #bar_8 = data_set[data + 7][1:]        \n",
    "\n",
    "    #print(bar_1, bar_2, bar_3, bar_4)\n",
    "    #feature = [bar_1[0], bar_1[1], bar_2[0], bar_2[1], bar_3[0], bar_3[1], bar_4[0], bar_4[1]]\n",
    "    feature = [bar_1[0], bar_1[1], bar_2[0], bar_2[1]]\n",
    "    label = [bar_3[0], bar_3[1], bar_4[0], bar_4[1]]\n",
    "    #label = [bar_5[0], bar_5[1], bar_6[0], bar_6[1],bar_7[0], bar_7[1], bar_8[0], bar_8[1]]\n",
    "    #print(feature)\n",
    "    #print(label)\n",
    "    feature = np.array(feature)\n",
    "    label = np.array(label)\n",
    "    #print(feature)\n",
    "    #print(label)   \n",
    "    feature = feature.reshape(2,2)\n",
    "    label = label.reshape(2,2)\n",
    "    #print(feature)\n",
    "    #print(label)  \n",
    "    X.append(feature)\n",
    "    y.append(label)\n",
    "X = np.array(X)\n",
    "y = np.array(y)"
   ]
  },
  {
   "cell_type": "code",
   "execution_count": 28,
   "metadata": {},
   "outputs": [
    {
     "data": {
      "text/plain": [
       "array([[[0.5625    , 0.75438596],\n",
       "        [0.9375    , 0.75438596]],\n",
       "\n",
       "       [[0.9375    , 0.75438596],\n",
       "        [0.5       , 0.66666667]],\n",
       "\n",
       "       [[0.5       , 0.66666667],\n",
       "        [1.        , 0.18596491]],\n",
       "\n",
       "       [[1.        , 0.18596491],\n",
       "        [0.3125    , 0.28070175]],\n",
       "\n",
       "       [[0.3125    , 0.28070175],\n",
       "        [0.5       , 0.75438596]],\n",
       "\n",
       "       [[0.5       , 0.75438596],\n",
       "        [0.125     , 0.18596491]],\n",
       "\n",
       "       [[0.125     , 0.18596491],\n",
       "        [0.75      , 0.53333333]],\n",
       "\n",
       "       [[0.75      , 0.53333333],\n",
       "        [1.        , 0.53333333]],\n",
       "\n",
       "       [[1.        , 0.53333333],\n",
       "        [0.8125    , 0.53333333]],\n",
       "\n",
       "       [[0.8125    , 0.53333333],\n",
       "        [1.        , 0.54035088]],\n",
       "\n",
       "       [[1.        , 0.54035088],\n",
       "        [0.5625    , 0.73333333]],\n",
       "\n",
       "       [[0.5625    , 0.73333333],\n",
       "        [1.        , 0.73333333]],\n",
       "\n",
       "       [[1.        , 0.73333333],\n",
       "        [0.8125    , 0.75789474]],\n",
       "\n",
       "       [[0.8125    , 0.75789474],\n",
       "        [1.        , 0.75789474]],\n",
       "\n",
       "       [[1.        , 0.75789474],\n",
       "        [1.        , 0.64561404]],\n",
       "\n",
       "       [[1.        , 0.64561404],\n",
       "        [0.9375    , 0.19298246]],\n",
       "\n",
       "       [[0.9375    , 0.19298246],\n",
       "        [1.        , 0.53333333]],\n",
       "\n",
       "       [[1.        , 0.53333333],\n",
       "        [1.        , 0.53333333]],\n",
       "\n",
       "       [[1.        , 0.53333333],\n",
       "        [0.5625    , 0.53333333]],\n",
       "\n",
       "       [[0.5625    , 0.53333333],\n",
       "        [1.125     , 0.53333333]],\n",
       "\n",
       "       [[1.125     , 0.53333333],\n",
       "        [1.25      , 0.28070175]],\n",
       "\n",
       "       [[1.25      , 0.28070175],\n",
       "        [0.8125    , 0.14736842]],\n",
       "\n",
       "       [[0.8125    , 0.14736842],\n",
       "        [0.3125    , 0.22105263]],\n",
       "\n",
       "       [[0.3125    , 0.22105263],\n",
       "        [0.625     , 0.79649123]],\n",
       "\n",
       "       [[0.625     , 0.79649123],\n",
       "        [1.0625    , 0.69122807]],\n",
       "\n",
       "       [[1.0625    , 0.69122807],\n",
       "        [0.5       , 0.79649123]],\n",
       "\n",
       "       [[0.5       , 0.79649123],\n",
       "        [1.1875    , 0.79649123]],\n",
       "\n",
       "       [[1.1875    , 0.79649123],\n",
       "        [0.3125    , 0.22105263]],\n",
       "\n",
       "       [[0.3125    , 0.22105263],\n",
       "        [1.5       , 0.21754386]],\n",
       "\n",
       "       [[1.5       , 0.21754386],\n",
       "        [1.1875    , 0.16842105]],\n",
       "\n",
       "       [[1.1875    , 0.16842105],\n",
       "        [0.6875    , 0.69122807]],\n",
       "\n",
       "       [[0.6875    , 0.69122807],\n",
       "        [0.8125    , 0.69122807]],\n",
       "\n",
       "       [[0.8125    , 0.69122807],\n",
       "        [0.9375    , 0.43859649]],\n",
       "\n",
       "       [[0.9375    , 0.43859649],\n",
       "        [1.125     , 0.19649123]],\n",
       "\n",
       "       [[1.125     , 0.19649123],\n",
       "        [1.125     , 0.50877193]],\n",
       "\n",
       "       [[1.125     , 0.50877193],\n",
       "        [0.9375    , 0.54035088]],\n",
       "\n",
       "       [[0.9375    , 0.54035088],\n",
       "        [1.5625    , 0.67719298]],\n",
       "\n",
       "       [[1.5625    , 0.67719298],\n",
       "        [1.        , 0.00350877]],\n",
       "\n",
       "       [[1.        , 0.00350877],\n",
       "        [0.8125    , 0.69122807]],\n",
       "\n",
       "       [[0.8125    , 0.69122807],\n",
       "        [0.6875    , 0.69122807]],\n",
       "\n",
       "       [[0.6875    , 0.69122807],\n",
       "        [1.25      , 0.72280702]],\n",
       "\n",
       "       [[1.25      , 0.72280702],\n",
       "        [1.1875    , 0.92280702]],\n",
       "\n",
       "       [[1.1875    , 0.92280702],\n",
       "        [0.9375    , 0.22105263]],\n",
       "\n",
       "       [[0.9375    , 0.22105263],\n",
       "        [0.625     , 0.79649123]],\n",
       "\n",
       "       [[0.625     , 0.79649123],\n",
       "        [1.0625    , 0.69122807]],\n",
       "\n",
       "       [[1.0625    , 0.69122807],\n",
       "        [0.5       , 0.79649123]],\n",
       "\n",
       "       [[0.5       , 0.79649123],\n",
       "        [1.1875    , 0.79649123]],\n",
       "\n",
       "       [[1.1875    , 0.79649123],\n",
       "        [0.3125    , 0.22105263]],\n",
       "\n",
       "       [[0.3125    , 0.22105263],\n",
       "        [1.3125    , 0.16842105]],\n",
       "\n",
       "       [[1.3125    , 0.16842105],\n",
       "        [1.25      , 0.82807018]],\n",
       "\n",
       "       [[1.25      , 0.82807018],\n",
       "        [0.75      , 0.94736842]],\n",
       "\n",
       "       [[0.75      , 0.94736842],\n",
       "        [1.        , 0.70175439]],\n",
       "\n",
       "       [[1.        , 0.70175439],\n",
       "        [0.625     , 0.66666667]],\n",
       "\n",
       "       [[0.625     , 0.66666667],\n",
       "        [1.        , 0.66666667]],\n",
       "\n",
       "       [[1.        , 0.66666667],\n",
       "        [1.        , 0.43859649]],\n",
       "\n",
       "       [[1.        , 0.43859649],\n",
       "        [1.        , 0.19649123]],\n",
       "\n",
       "       [[1.        , 0.19649123],\n",
       "        [1.        , 0.43859649]],\n",
       "\n",
       "       [[1.        , 0.43859649],\n",
       "        [1.        , 0.89824561]],\n",
       "\n",
       "       [[1.        , 0.89824561],\n",
       "        [0.6875    , 0.20350877]],\n",
       "\n",
       "       [[0.6875    , 0.20350877],\n",
       "        [0.9375    , 0.28070175]],\n",
       "\n",
       "       [[0.9375    , 0.28070175],\n",
       "        [1.1875    , 0.47719298]],\n",
       "\n",
       "       [[1.1875    , 0.47719298],\n",
       "        [0.5625    , 0.1754386 ]],\n",
       "\n",
       "       [[0.5625    , 0.1754386 ],\n",
       "        [1.        , 0.79649123]],\n",
       "\n",
       "       [[1.        , 0.79649123],\n",
       "        [1.0625    , 0.79649123]],\n",
       "\n",
       "       [[1.0625    , 0.79649123],\n",
       "        [0.3125    , 0.22105263]],\n",
       "\n",
       "       [[0.3125    , 0.22105263],\n",
       "        [0.625     , 0.79649123]],\n",
       "\n",
       "       [[0.625     , 0.79649123],\n",
       "        [1.0625    , 0.69122807]],\n",
       "\n",
       "       [[1.0625    , 0.69122807],\n",
       "        [0.5       , 0.79649123]],\n",
       "\n",
       "       [[0.5       , 0.79649123],\n",
       "        [1.1875    , 0.79649123]],\n",
       "\n",
       "       [[1.1875    , 0.79649123],\n",
       "        [0.3125    , 0.22105263]],\n",
       "\n",
       "       [[0.3125    , 0.22105263],\n",
       "        [0.625     , 0.79649123]],\n",
       "\n",
       "       [[0.625     , 0.79649123],\n",
       "        [1.0625    , 0.69122807]],\n",
       "\n",
       "       [[1.0625    , 0.69122807],\n",
       "        [0.5       , 0.79649123]],\n",
       "\n",
       "       [[0.5       , 0.79649123],\n",
       "        [1.1875    , 0.79649123]],\n",
       "\n",
       "       [[1.1875    , 0.79649123],\n",
       "        [0.3125    , 0.22105263]],\n",
       "\n",
       "       [[0.3125    , 0.22105263],\n",
       "        [0.0625    , 0.        ]],\n",
       "\n",
       "       [[0.0625    , 0.        ],\n",
       "        [0.625     , 0.5122807 ]],\n",
       "\n",
       "       [[0.625     , 0.5122807 ],\n",
       "        [0.9375    , 0.41052632]],\n",
       "\n",
       "       [[0.9375    , 0.41052632],\n",
       "        [0.3125    , 0.52280702]],\n",
       "\n",
       "       [[0.3125    , 0.52280702],\n",
       "        [0.1875    , 0.25614035]],\n",
       "\n",
       "       [[0.1875    , 0.25614035],\n",
       "        [0.125     , 0.13684211]],\n",
       "\n",
       "       [[0.125     , 0.13684211],\n",
       "        [0.375     , 0.56842105]],\n",
       "\n",
       "       [[0.375     , 0.56842105],\n",
       "        [0.3125    , 0.52280702]],\n",
       "\n",
       "       [[0.3125    , 0.52280702],\n",
       "        [1.25      , 0.13684211]],\n",
       "\n",
       "       [[1.25      , 0.13684211],\n",
       "        [0.5625    , 0.52280702]],\n",
       "\n",
       "       [[0.5625    , 0.52280702],\n",
       "        [0.625     , 0.48421053]],\n",
       "\n",
       "       [[0.625     , 0.48421053],\n",
       "        [0.375     , 0.89122807]],\n",
       "\n",
       "       [[0.375     , 0.89122807],\n",
       "        [0.1875    , 0.8245614 ]],\n",
       "\n",
       "       [[0.1875    , 0.8245614 ],\n",
       "        [0.125     , 0.85964912]],\n",
       "\n",
       "       [[0.125     , 0.85964912],\n",
       "        [0.875     , 0.89122807]],\n",
       "\n",
       "       [[0.875     , 0.89122807],\n",
       "        [0.9375    , 0.22105263]],\n",
       "\n",
       "       [[0.9375    , 0.22105263],\n",
       "        [0.875     , 0.62807018]],\n",
       "\n",
       "       [[0.875     , 0.62807018],\n",
       "        [1.        , 0.66666667]],\n",
       "\n",
       "       [[1.        , 0.66666667],\n",
       "        [0.875     , 0.89122807]],\n",
       "\n",
       "       [[0.875     , 0.89122807],\n",
       "        [0.9375    , 0.22105263]],\n",
       "\n",
       "       [[0.9375    , 0.22105263],\n",
       "        [0.875     , 0.62807018]],\n",
       "\n",
       "       [[0.875     , 0.62807018],\n",
       "        [1.        , 0.66666667]],\n",
       "\n",
       "       [[1.        , 0.66666667],\n",
       "        [1.0625    , 0.13684211]],\n",
       "\n",
       "       [[1.0625    , 0.13684211],\n",
       "        [1.        , 0.13684211]],\n",
       "\n",
       "       [[1.        , 0.13684211],\n",
       "        [0.4375    , 0.13684211]]])"
      ]
     },
     "execution_count": 28,
     "metadata": {},
     "output_type": "execute_result"
    }
   ],
   "source": [
    "X[:100]"
   ]
  },
  {
   "cell_type": "code",
   "execution_count": 29,
   "metadata": {},
   "outputs": [],
   "source": [
    "# test train split\n",
    "\n",
    "#X_train = X[:13130]\n",
    "#y_train = y[:13130] \n",
    "#X_test = X[13130:]\n",
    "#y_test = y[13130:]"
   ]
  },
  {
   "cell_type": "markdown",
   "metadata": {},
   "source": [
    " <b> <u> Step 10 : LSTM Model </b> </u>"
   ]
  },
  {
   "cell_type": "code",
   "execution_count": 30,
   "metadata": {},
   "outputs": [
    {
     "name": "stderr",
     "output_type": "stream",
     "text": [
      "Using TensorFlow backend.\n"
     ]
    }
   ],
   "source": [
    "# step 9 : creating the lstm model for training\n",
    "from keras.models import Sequential\n",
    "from keras.layers import LSTM\n",
    "from keras.layers.core import Dense\n",
    "from tensorflow.python.keras.callbacks import TensorBoard"
   ]
  },
  {
   "cell_type": "markdown",
   "metadata": {},
   "source": [
    "#### LSTM parameters:\n",
    "- input_shape = (2,2) ==>  Any size for a batch, time steps is 2 and number of input units is 2\n",
    "- input shape is of the form (batch_size, 2, 2)\n",
    "- units ==> number of output units in the LSTM\n",
    "- return_sequence is True ==> Output is a 3D array (batch_size, time_steps, units)"
   ]
  },
  {
   "cell_type": "code",
   "execution_count": 31,
   "metadata": {},
   "outputs": [],
   "source": [
    "from keras import backend\n",
    " \n",
    "def rmse(y_true, y_pred):\n",
    "    return backend.sqrt(backend.mean(backend.square(y_pred - y_true), axis=-1))"
   ]
  },
  {
   "cell_type": "code",
   "execution_count": 42,
   "metadata": {},
   "outputs": [
    {
     "name": "stdout",
     "output_type": "stream",
     "text": [
      "_________________________________________________________________\n",
      "Layer (type)                 Output Shape              Param #   \n",
      "=================================================================\n",
      "lstm_1 (LSTM)                (None, 2, 4)              112       \n",
      "_________________________________________________________________\n",
      "lstm_2 (LSTM)                (None, 2, 16)             1344      \n",
      "_________________________________________________________________\n",
      "lstm_3 (LSTM)                (None, 2, 16)             2112      \n",
      "_________________________________________________________________\n",
      "lstm_4 (LSTM)                (None, 2, 16)             2112      \n",
      "_________________________________________________________________\n",
      "lstm_5 (LSTM)                (None, 2, 2)              152       \n",
      "=================================================================\n",
      "Total params: 5,832\n",
      "Trainable params: 5,832\n",
      "Non-trainable params: 0\n",
      "_________________________________________________________________\n"
     ]
    }
   ],
   "source": [
    "import keras\n",
    "import os\n",
    "import tensorflow\n",
    "import datetime\n",
    "model = Sequential()\n",
    "model.add(LSTM(4, input_shape = (2,2), return_sequences = True)) \n",
    "model.add(LSTM(16, return_sequences = True))\n",
    "model.add(LSTM(16, return_sequences = True))\n",
    "model.add(LSTM(16, return_sequences = True))\n",
    "model.add(LSTM(2, return_sequences = True))\n",
    "model.summary()\n",
    "sgd = keras.optimizers.SGD(lr=0.001)\n",
    "\n",
    "model.compile(optimizer = sgd , loss = 'mse', metrics=[rmse]) # the optimizer function rmsprop: optimizes the gradient descent and the the loss function: mse: \"mean_squared_error "
   ]
  },
  {
   "cell_type": "code",
   "execution_count": 44,
   "metadata": {
    "scrolled": true
   },
   "outputs": [
    {
     "name": "stdout",
     "output_type": "stream",
     "text": [
      "Train on 13122 samples, validate on 4374 samples\n",
      "Epoch 1/300\n",
      "13122/13122 [==============================] - 7s 571us/step - loss: 0.1482 - rmse: 0.3508 - val_loss: 0.1377 - val_rmse: 0.3409\n",
      "Epoch 2/300\n",
      "13122/13122 [==============================] - 4s 281us/step - loss: 0.1462 - rmse: 0.3483 - val_loss: 0.1357 - val_rmse: 0.3382\n",
      "Epoch 3/300\n",
      "13122/13122 [==============================] - 4s 324us/step - loss: 0.1442 - rmse: 0.3458 - val_loss: 0.1338 - val_rmse: 0.3356\n",
      "Epoch 4/300\n",
      "13122/13122 [==============================] - 4s 311us/step - loss: 0.1423 - rmse: 0.3434 - val_loss: 0.1319 - val_rmse: 0.3331\n",
      "Epoch 5/300\n",
      "13122/13122 [==============================] - 4s 282us/step - loss: 0.1405 - rmse: 0.3411 - val_loss: 0.1301 - val_rmse: 0.3307\n",
      "Epoch 6/300\n",
      "13122/13122 [==============================] - 4s 286us/step - loss: 0.1387 - rmse: 0.3388 - val_loss: 0.1283 - val_rmse: 0.3283\n",
      "Epoch 7/300\n",
      "13122/13122 [==============================] - 4s 289us/step - loss: 0.1370 - rmse: 0.3366 - val_loss: 0.1266 - val_rmse: 0.3260\n",
      "Epoch 8/300\n",
      "13122/13122 [==============================] - 4s 276us/step - loss: 0.1353 - rmse: 0.3345 - val_loss: 0.1250 - val_rmse: 0.3238\n",
      "Epoch 9/300\n",
      "13122/13122 [==============================] - 4s 294us/step - loss: 0.1337 - rmse: 0.3324 - val_loss: 0.1234 - val_rmse: 0.3216\n",
      "Epoch 10/300\n",
      "13122/13122 [==============================] - 4s 289us/step - loss: 0.1322 - rmse: 0.3304 - val_loss: 0.1219 - val_rmse: 0.3195\n",
      "Epoch 11/300\n",
      "13122/13122 [==============================] - 4s 299us/step - loss: 0.1306 - rmse: 0.3284 - val_loss: 0.1204 - val_rmse: 0.3174\n",
      "Epoch 12/300\n",
      "13122/13122 [==============================] - 4s 279us/step - loss: 0.1292 - rmse: 0.3265 - val_loss: 0.1189 - val_rmse: 0.3154\n",
      "Epoch 13/300\n",
      "13122/13122 [==============================] - 4s 322us/step - loss: 0.1278 - rmse: 0.3247 - val_loss: 0.1175 - val_rmse: 0.3135\n",
      "Epoch 14/300\n",
      "13122/13122 [==============================] - 4s 318us/step - loss: 0.1264 - rmse: 0.3229 - val_loss: 0.1162 - val_rmse: 0.3116\n",
      "Epoch 15/300\n",
      "13122/13122 [==============================] - 4s 341us/step - loss: 0.1251 - rmse: 0.3211 - val_loss: 0.1149 - val_rmse: 0.3097\n",
      "Epoch 16/300\n",
      "13122/13122 [==============================] - 4s 302us/step - loss: 0.1238 - rmse: 0.3194 - val_loss: 0.1136 - val_rmse: 0.3079\n",
      "Epoch 17/300\n",
      "13122/13122 [==============================] - 4s 285us/step - loss: 0.1225 - rmse: 0.3177 - val_loss: 0.1124 - val_rmse: 0.3062\n",
      "Epoch 18/300\n",
      "13122/13122 [==============================] - 4s 291us/step - loss: 0.1213 - rmse: 0.3161 - val_loss: 0.1111 - val_rmse: 0.3045\n",
      "Epoch 19/300\n",
      "13122/13122 [==============================] - 4s 308us/step - loss: 0.1201 - rmse: 0.3146 - val_loss: 0.1100 - val_rmse: 0.3028\n",
      "Epoch 20/300\n",
      "13122/13122 [==============================] - 4s 306us/step - loss: 0.1190 - rmse: 0.3130 - val_loss: 0.1089 - val_rmse: 0.3012\n",
      "Epoch 21/300\n",
      "13122/13122 [==============================] - 4s 280us/step - loss: 0.1179 - rmse: 0.3116 - val_loss: 0.1078 - val_rmse: 0.2996\n",
      "Epoch 22/300\n",
      "13122/13122 [==============================] - 4s 277us/step - loss: 0.1168 - rmse: 0.3101 - val_loss: 0.1067 - val_rmse: 0.2981\n",
      "Epoch 23/300\n",
      "13122/13122 [==============================] - 4s 282us/step - loss: 0.1157 - rmse: 0.3087 - val_loss: 0.1057 - val_rmse: 0.2966\n",
      "Epoch 24/300\n",
      "13122/13122 [==============================] - 4s 291us/step - loss: 0.1147 - rmse: 0.3074 - val_loss: 0.1047 - val_rmse: 0.2952\n",
      "Epoch 25/300\n",
      "13122/13122 [==============================] - 4s 283us/step - loss: 0.1138 - rmse: 0.3061 - val_loss: 0.1037 - val_rmse: 0.2938\n",
      "Epoch 26/300\n",
      "13122/13122 [==============================] - 4s 279us/step - loss: 0.1128 - rmse: 0.3048 - val_loss: 0.1027 - val_rmse: 0.2924\n",
      "Epoch 27/300\n",
      "13122/13122 [==============================] - 4s 283us/step - loss: 0.1119 - rmse: 0.3035 - val_loss: 0.1018 - val_rmse: 0.2911\n",
      "Epoch 28/300\n",
      "13122/13122 [==============================] - 4s 293us/step - loss: 0.1110 - rmse: 0.3023 - val_loss: 0.1009 - val_rmse: 0.2898\n",
      "Epoch 29/300\n",
      "13122/13122 [==============================] - 4s 297us/step - loss: 0.1101 - rmse: 0.3012 - val_loss: 0.1001 - val_rmse: 0.2886\n",
      "Epoch 30/300\n",
      "13122/13122 [==============================] - 4s 301us/step - loss: 0.1093 - rmse: 0.3000 - val_loss: 0.0992 - val_rmse: 0.2874\n",
      "Epoch 31/300\n",
      "13122/13122 [==============================] - 4s 303us/step - loss: 0.1085 - rmse: 0.2989 - val_loss: 0.0984 - val_rmse: 0.2862\n",
      "Epoch 32/300\n",
      "13122/13122 [==============================] - 4s 311us/step - loss: 0.1077 - rmse: 0.2978 - val_loss: 0.0977 - val_rmse: 0.2850\n",
      "Epoch 33/300\n",
      "13122/13122 [==============================] - 4s 297us/step - loss: 0.1069 - rmse: 0.2968 - val_loss: 0.0969 - val_rmse: 0.2839\n",
      "Epoch 34/300\n",
      "13122/13122 [==============================] - 4s 306us/step - loss: 0.1062 - rmse: 0.2958 - val_loss: 0.0962 - val_rmse: 0.2828\n",
      "Epoch 35/300\n",
      "13122/13122 [==============================] - 4s 332us/step - loss: 0.1054 - rmse: 0.2948 - val_loss: 0.0954 - val_rmse: 0.2818\n",
      "Epoch 36/300\n",
      "13122/13122 [==============================] - 5s 345us/step - loss: 0.1047 - rmse: 0.2938 - val_loss: 0.0948 - val_rmse: 0.2808\n",
      "Epoch 37/300\n",
      "13122/13122 [==============================] - 4s 292us/step - loss: 0.1041 - rmse: 0.2929 - val_loss: 0.0941 - val_rmse: 0.2798\n",
      "Epoch 38/300\n",
      "13122/13122 [==============================] - 4s 299us/step - loss: 0.1034 - rmse: 0.2920 - val_loss: 0.0934 - val_rmse: 0.2788\n",
      "Epoch 39/300\n",
      "13122/13122 [==============================] - 4s 292us/step - loss: 0.1028 - rmse: 0.2911 - val_loss: 0.0928 - val_rmse: 0.2779\n",
      "Epoch 40/300\n",
      "13122/13122 [==============================] - 4s 304us/step - loss: 0.1021 - rmse: 0.2903 - val_loss: 0.0922 - val_rmse: 0.2770\n",
      "Epoch 41/300\n",
      "13122/13122 [==============================] - 4s 291us/step - loss: 0.1015 - rmse: 0.2894 - val_loss: 0.0916 - val_rmse: 0.2761\n",
      "Epoch 42/300\n",
      "13122/13122 [==============================] - 4s 292us/step - loss: 0.1010 - rmse: 0.2886 - val_loss: 0.0910 - val_rmse: 0.2752\n",
      "Epoch 43/300\n",
      "13122/13122 [==============================] - 4s 291us/step - loss: 0.1004 - rmse: 0.2879 - val_loss: 0.0905 - val_rmse: 0.2744\n",
      "Epoch 44/300\n",
      "13122/13122 [==============================] - 4s 304us/step - loss: 0.0998 - rmse: 0.2871 - val_loss: 0.0899 - val_rmse: 0.2736\n",
      "Epoch 45/300\n",
      "13122/13122 [==============================] - 4s 293us/step - loss: 0.0993 - rmse: 0.2864 - val_loss: 0.0894 - val_rmse: 0.2728\n",
      "Epoch 46/300\n",
      "13122/13122 [==============================] - 4s 293us/step - loss: 0.0988 - rmse: 0.2857 - val_loss: 0.0889 - val_rmse: 0.2721\n",
      "Epoch 47/300\n",
      "13122/13122 [==============================] - 4s 296us/step - loss: 0.0983 - rmse: 0.2850 - val_loss: 0.0884 - val_rmse: 0.2713\n",
      "Epoch 48/300\n",
      "13122/13122 [==============================] - 4s 307us/step - loss: 0.0978 - rmse: 0.2843 - val_loss: 0.0879 - val_rmse: 0.2706\n",
      "Epoch 49/300\n",
      "13122/13122 [==============================] - 4s 291us/step - loss: 0.0973 - rmse: 0.2836 - val_loss: 0.0874 - val_rmse: 0.2699\n",
      "Epoch 50/300\n",
      "13122/13122 [==============================] - 4s 291us/step - loss: 0.0969 - rmse: 0.2830 - val_loss: 0.0870 - val_rmse: 0.2693\n",
      "Epoch 51/300\n",
      "13122/13122 [==============================] - 4s 306us/step - loss: 0.0965 - rmse: 0.2824 - val_loss: 0.0866 - val_rmse: 0.2686\n",
      "Epoch 52/300\n",
      "13122/13122 [==============================] - 4s 304us/step - loss: 0.0960 - rmse: 0.2818 - val_loss: 0.0861 - val_rmse: 0.2680\n",
      "Epoch 53/300\n",
      "13122/13122 [==============================] - 4s 292us/step - loss: 0.0956 - rmse: 0.2812 - val_loss: 0.0857 - val_rmse: 0.2674\n",
      "Epoch 54/300\n",
      "13122/13122 [==============================] - 4s 300us/step - loss: 0.0952 - rmse: 0.2807 - val_loss: 0.0853 - val_rmse: 0.2668\n",
      "Epoch 55/300\n",
      "13122/13122 [==============================] - 4s 293us/step - loss: 0.0948 - rmse: 0.2801 - val_loss: 0.0849 - val_rmse: 0.2662\n",
      "Epoch 56/300\n",
      "13122/13122 [==============================] - 4s 309us/step - loss: 0.0944 - rmse: 0.2796 - val_loss: 0.0846 - val_rmse: 0.2656\n",
      "Epoch 57/300\n",
      "13122/13122 [==============================] - 4s 304us/step - loss: 0.0941 - rmse: 0.2791 - val_loss: 0.0842 - val_rmse: 0.2651\n",
      "Epoch 58/300\n"
     ]
    },
    {
     "name": "stdout",
     "output_type": "stream",
     "text": [
      "13122/13122 [==============================] - 4s 293us/step - loss: 0.0937 - rmse: 0.2786 - val_loss: 0.0838 - val_rmse: 0.2646\n",
      "Epoch 59/300\n",
      "13122/13122 [==============================] - 4s 308us/step - loss: 0.0934 - rmse: 0.2781 - val_loss: 0.0835 - val_rmse: 0.2641\n",
      "Epoch 60/300\n",
      "13122/13122 [==============================] - 6s 442us/step - loss: 0.0930 - rmse: 0.2776 - val_loss: 0.0832 - val_rmse: 0.2636\n",
      "Epoch 61/300\n",
      "13122/13122 [==============================] - 4s 303us/step - loss: 0.0927 - rmse: 0.2772 - val_loss: 0.0829 - val_rmse: 0.2631\n",
      "Epoch 62/300\n",
      "13122/13122 [==============================] - 4s 329us/step - loss: 0.0924 - rmse: 0.2767 - val_loss: 0.0825 - val_rmse: 0.2626\n",
      "Epoch 63/300\n",
      "13122/13122 [==============================] - 4s 327us/step - loss: 0.0921 - rmse: 0.2763 - val_loss: 0.0822 - val_rmse: 0.2622\n",
      "Epoch 64/300\n",
      "13122/13122 [==============================] - 4s 305us/step - loss: 0.0918 - rmse: 0.2759 - val_loss: 0.0819 - val_rmse: 0.2617\n",
      "Epoch 65/300\n",
      "13122/13122 [==============================] - 4s 295us/step - loss: 0.0915 - rmse: 0.2755 - val_loss: 0.0817 - val_rmse: 0.2613\n",
      "Epoch 66/300\n",
      "13122/13122 [==============================] - 4s 292us/step - loss: 0.0912 - rmse: 0.2751 - val_loss: 0.0814 - val_rmse: 0.2609\n",
      "Epoch 67/300\n",
      "13122/13122 [==============================] - 4s 293us/step - loss: 0.0910 - rmse: 0.2747 - val_loss: 0.0811 - val_rmse: 0.2605\n",
      "Epoch 68/300\n",
      "13122/13122 [==============================] - 4s 303us/step - loss: 0.0907 - rmse: 0.2744 - val_loss: 0.0809 - val_rmse: 0.2601\n",
      "Epoch 69/300\n",
      "13122/13122 [==============================] - 4s 293us/step - loss: 0.0905 - rmse: 0.2740 - val_loss: 0.0806 - val_rmse: 0.2598\n",
      "Epoch 70/300\n",
      "13122/13122 [==============================] - 4s 297us/step - loss: 0.0902 - rmse: 0.2737 - val_loss: 0.0804 - val_rmse: 0.2594\n",
      "Epoch 71/300\n",
      "13122/13122 [==============================] - 4s 293us/step - loss: 0.0900 - rmse: 0.2733 - val_loss: 0.0801 - val_rmse: 0.2590\n",
      "Epoch 72/300\n",
      "13122/13122 [==============================] - 4s 304us/step - loss: 0.0897 - rmse: 0.2730 - val_loss: 0.0799 - val_rmse: 0.2587\n",
      "Epoch 73/300\n",
      "13122/13122 [==============================] - 4s 292us/step - loss: 0.0895 - rmse: 0.2727 - val_loss: 0.0797 - val_rmse: 0.2584\n",
      "Epoch 74/300\n",
      "13122/13122 [==============================] - 4s 291us/step - loss: 0.0893 - rmse: 0.2724 - val_loss: 0.0795 - val_rmse: 0.2581\n",
      "Epoch 75/300\n",
      "13122/13122 [==============================] - 4s 292us/step - loss: 0.0891 - rmse: 0.2721 - val_loss: 0.0793 - val_rmse: 0.2577\n",
      "Epoch 76/300\n",
      "13122/13122 [==============================] - 4s 309us/step - loss: 0.0889 - rmse: 0.2718 - val_loss: 0.0790 - val_rmse: 0.2574\n",
      "Epoch 77/300\n",
      "13122/13122 [==============================] - 4s 312us/step - loss: 0.0887 - rmse: 0.2715 - val_loss: 0.0788 - val_rmse: 0.2571\n",
      "Epoch 78/300\n",
      "13122/13122 [==============================] - 4s 314us/step - loss: 0.0885 - rmse: 0.2712 - val_loss: 0.0787 - val_rmse: 0.2569\n",
      "Epoch 79/300\n",
      "13122/13122 [==============================] - 4s 304us/step - loss: 0.0883 - rmse: 0.2710 - val_loss: 0.0785 - val_rmse: 0.2566\n",
      "Epoch 80/300\n",
      "13122/13122 [==============================] - 4s 312us/step - loss: 0.0881 - rmse: 0.2707 - val_loss: 0.0783 - val_rmse: 0.2563\n",
      "Epoch 81/300\n",
      "13122/13122 [==============================] - 4s 295us/step - loss: 0.0879 - rmse: 0.2704 - val_loss: 0.0781 - val_rmse: 0.2560\n",
      "Epoch 82/300\n",
      "13122/13122 [==============================] - 4s 324us/step - loss: 0.0877 - rmse: 0.2702 - val_loss: 0.0779 - val_rmse: 0.2558\n",
      "Epoch 83/300\n",
      "13122/13122 [==============================] - 4s 314us/step - loss: 0.0876 - rmse: 0.2700 - val_loss: 0.0778 - val_rmse: 0.2555\n",
      "Epoch 84/300\n",
      "13122/13122 [==============================] - 4s 305us/step - loss: 0.0874 - rmse: 0.2697 - val_loss: 0.0776 - val_rmse: 0.2553\n",
      "Epoch 85/300\n",
      "13122/13122 [==============================] - 4s 296us/step - loss: 0.0873 - rmse: 0.2695 - val_loss: 0.0774 - val_rmse: 0.2551\n",
      "Epoch 86/300\n",
      "13122/13122 [==============================] - 4s 292us/step - loss: 0.0871 - rmse: 0.2693 - val_loss: 0.0773 - val_rmse: 0.2548\n",
      "Epoch 87/300\n",
      "13122/13122 [==============================] - 4s 311us/step - loss: 0.0869 - rmse: 0.2691 - val_loss: 0.0771 - val_rmse: 0.2546\n",
      "Epoch 88/300\n",
      "13122/13122 [==============================] - 4s 321us/step - loss: 0.0868 - rmse: 0.2689 - val_loss: 0.0770 - val_rmse: 0.2544\n",
      "Epoch 89/300\n",
      "13122/13122 [==============================] - 4s 304us/step - loss: 0.0867 - rmse: 0.2687 - val_loss: 0.0769 - val_rmse: 0.2542\n",
      "Epoch 90/300\n",
      "13122/13122 [==============================] - 4s 305us/step - loss: 0.0865 - rmse: 0.2685 - val_loss: 0.0767 - val_rmse: 0.2540\n",
      "Epoch 91/300\n",
      "13122/13122 [==============================] - 4s 292us/step - loss: 0.0864 - rmse: 0.2683 - val_loss: 0.0766 - val_rmse: 0.2538\n",
      "Epoch 92/300\n",
      "13122/13122 [==============================] - 4s 304us/step - loss: 0.0862 - rmse: 0.2681 - val_loss: 0.0765 - val_rmse: 0.2536\n",
      "Epoch 93/300\n",
      "13122/13122 [==============================] - 4s 296us/step - loss: 0.0861 - rmse: 0.2679 - val_loss: 0.0763 - val_rmse: 0.2534\n",
      "Epoch 94/300\n",
      "13122/13122 [==============================] - 4s 300us/step - loss: 0.0860 - rmse: 0.2677 - val_loss: 0.0762 - val_rmse: 0.2532\n",
      "Epoch 95/300\n",
      "13122/13122 [==============================] - 4s 295us/step - loss: 0.0859 - rmse: 0.2675 - val_loss: 0.0761 - val_rmse: 0.2530\n",
      "Epoch 96/300\n",
      "13122/13122 [==============================] - 4s 307us/step - loss: 0.0857 - rmse: 0.2674 - val_loss: 0.0760 - val_rmse: 0.2528\n",
      "Epoch 97/300\n",
      "13122/13122 [==============================] - 4s 296us/step - loss: 0.0856 - rmse: 0.2672 - val_loss: 0.0758 - val_rmse: 0.2527\n",
      "Epoch 98/300\n",
      "13122/13122 [==============================] - 4s 297us/step - loss: 0.0855 - rmse: 0.2671 - val_loss: 0.0757 - val_rmse: 0.2525\n",
      "Epoch 99/300\n",
      "13122/13122 [==============================] - 4s 295us/step - loss: 0.0854 - rmse: 0.2669 - val_loss: 0.0756 - val_rmse: 0.2523\n",
      "Epoch 100/300\n",
      "13122/13122 [==============================] - 4s 311us/step - loss: 0.0853 - rmse: 0.2667 - val_loss: 0.0755 - val_rmse: 0.2522\n",
      "Epoch 101/300\n",
      "13122/13122 [==============================] - 5s 347us/step - loss: 0.0852 - rmse: 0.2666 - val_loss: 0.0754 - val_rmse: 0.2520\n",
      "Epoch 102/300\n",
      "13122/13122 [==============================] - 5s 346us/step - loss: 0.0851 - rmse: 0.2664 - val_loss: 0.0753 - val_rmse: 0.2519\n",
      "Epoch 103/300\n",
      "13122/13122 [==============================] - 4s 337us/step - loss: 0.0850 - rmse: 0.2663 - val_loss: 0.0752 - val_rmse: 0.2517\n",
      "Epoch 104/300\n",
      "13122/13122 [==============================] - 5s 357us/step - loss: 0.0849 - rmse: 0.2662 - val_loss: 0.0751 - val_rmse: 0.2516\n",
      "Epoch 105/300\n",
      "13122/13122 [==============================] - 5s 349us/step - loss: 0.0848 - rmse: 0.2660 - val_loss: 0.0750 - val_rmse: 0.2514\n",
      "Epoch 106/300\n",
      "13122/13122 [==============================] - 4s 320us/step - loss: 0.0847 - rmse: 0.2659 - val_loss: 0.0749 - val_rmse: 0.2513\n",
      "Epoch 107/300\n",
      "13122/13122 [==============================] - 4s 316us/step - loss: 0.0846 - rmse: 0.2658 - val_loss: 0.0748 - val_rmse: 0.2512\n",
      "Epoch 108/300\n",
      "13122/13122 [==============================] - 4s 294us/step - loss: 0.0845 - rmse: 0.2656 - val_loss: 0.0747 - val_rmse: 0.2510\n",
      "Epoch 109/300\n",
      "13122/13122 [==============================] - 4s 294us/step - loss: 0.0844 - rmse: 0.2655 - val_loss: 0.0747 - val_rmse: 0.2509\n",
      "Epoch 110/300\n",
      "13122/13122 [==============================] - 4s 307us/step - loss: 0.0843 - rmse: 0.2654 - val_loss: 0.0746 - val_rmse: 0.2508\n",
      "Epoch 111/300\n",
      "13122/13122 [==============================] - 4s 306us/step - loss: 0.0842 - rmse: 0.2653 - val_loss: 0.0745 - val_rmse: 0.2507\n",
      "Epoch 112/300\n",
      "13122/13122 [==============================] - 4s 295us/step - loss: 0.0842 - rmse: 0.2652 - val_loss: 0.0744 - val_rmse: 0.2505\n",
      "Epoch 113/300\n",
      "13122/13122 [==============================] - 4s 294us/step - loss: 0.0841 - rmse: 0.2651 - val_loss: 0.0743 - val_rmse: 0.2504\n",
      "Epoch 114/300\n",
      "13122/13122 [==============================] - 4s 292us/step - loss: 0.0840 - rmse: 0.2649 - val_loss: 0.0742 - val_rmse: 0.2503\n",
      "Epoch 115/300\n"
     ]
    },
    {
     "name": "stdout",
     "output_type": "stream",
     "text": [
      "13122/13122 [==============================] - 4s 310us/step - loss: 0.0839 - rmse: 0.2648 - val_loss: 0.0742 - val_rmse: 0.2502\n",
      "Epoch 116/300\n",
      "13122/13122 [==============================] - 4s 320us/step - loss: 0.0838 - rmse: 0.2647 - val_loss: 0.0741 - val_rmse: 0.2501\n",
      "Epoch 117/300\n",
      "13122/13122 [==============================] - 4s 304us/step - loss: 0.0838 - rmse: 0.2646 - val_loss: 0.0740 - val_rmse: 0.2500\n",
      "Epoch 118/300\n",
      "13122/13122 [==============================] - 4s 292us/step - loss: 0.0837 - rmse: 0.2645 - val_loss: 0.0739 - val_rmse: 0.2499\n",
      "Epoch 119/300\n",
      "13122/13122 [==============================] - 4s 303us/step - loss: 0.0836 - rmse: 0.2644 - val_loss: 0.0739 - val_rmse: 0.2498\n",
      "Epoch 120/300\n",
      "13122/13122 [==============================] - 4s 297us/step - loss: 0.0836 - rmse: 0.2643 - val_loss: 0.0738 - val_rmse: 0.2497\n",
      "Epoch 121/300\n",
      "13122/13122 [==============================] - 4s 295us/step - loss: 0.0835 - rmse: 0.2642 - val_loss: 0.0737 - val_rmse: 0.2496\n",
      "Epoch 122/300\n",
      "13122/13122 [==============================] - 4s 301us/step - loss: 0.0834 - rmse: 0.2641 - val_loss: 0.0737 - val_rmse: 0.2495\n",
      "Epoch 123/300\n",
      "13122/13122 [==============================] - 4s 300us/step - loss: 0.0833 - rmse: 0.2640 - val_loss: 0.0736 - val_rmse: 0.2494\n",
      "Epoch 124/300\n",
      "13122/13122 [==============================] - 4s 303us/step - loss: 0.0833 - rmse: 0.2639 - val_loss: 0.0735 - val_rmse: 0.2493\n",
      "Epoch 125/300\n",
      "13122/13122 [==============================] - 4s 297us/step - loss: 0.0832 - rmse: 0.2639 - val_loss: 0.0735 - val_rmse: 0.2492\n",
      "Epoch 126/300\n",
      "13122/13122 [==============================] - 4s 296us/step - loss: 0.0831 - rmse: 0.2638 - val_loss: 0.0734 - val_rmse: 0.2491\n",
      "Epoch 127/300\n",
      "13122/13122 [==============================] - 4s 298us/step - loss: 0.0831 - rmse: 0.2637 - val_loss: 0.0733 - val_rmse: 0.2490\n",
      "Epoch 128/300\n",
      "13122/13122 [==============================] - 4s 305us/step - loss: 0.0830 - rmse: 0.2636 - val_loss: 0.0733 - val_rmse: 0.2489\n",
      "Epoch 129/300\n",
      "13122/13122 [==============================] - 4s 295us/step - loss: 0.0830 - rmse: 0.2635 - val_loss: 0.0732 - val_rmse: 0.2488\n",
      "Epoch 130/300\n",
      "13122/13122 [==============================] - 4s 301us/step - loss: 0.0829 - rmse: 0.2634 - val_loss: 0.0732 - val_rmse: 0.2487\n",
      "Epoch 131/300\n",
      "13122/13122 [==============================] - 4s 294us/step - loss: 0.0828 - rmse: 0.2633 - val_loss: 0.0731 - val_rmse: 0.2486\n",
      "Epoch 132/300\n",
      "13122/13122 [==============================] - 4s 306us/step - loss: 0.0828 - rmse: 0.2633 - val_loss: 0.0730 - val_rmse: 0.2485\n",
      "Epoch 133/300\n",
      "13122/13122 [==============================] - 4s 294us/step - loss: 0.0827 - rmse: 0.2632 - val_loss: 0.0730 - val_rmse: 0.2485\n",
      "Epoch 134/300\n",
      "13122/13122 [==============================] - 4s 293us/step - loss: 0.0827 - rmse: 0.2631 - val_loss: 0.0729 - val_rmse: 0.2484\n",
      "Epoch 135/300\n",
      "13122/13122 [==============================] - 4s 314us/step - loss: 0.0826 - rmse: 0.2630 - val_loss: 0.0729 - val_rmse: 0.2483\n",
      "Epoch 136/300\n",
      "13122/13122 [==============================] - 4s 311us/step - loss: 0.0825 - rmse: 0.2629 - val_loss: 0.0728 - val_rmse: 0.2482\n",
      "Epoch 137/300\n",
      "13122/13122 [==============================] - 4s 299us/step - loss: 0.0825 - rmse: 0.2629 - val_loss: 0.0728 - val_rmse: 0.2481\n",
      "Epoch 138/300\n",
      "13122/13122 [==============================] - 4s 307us/step - loss: 0.0824 - rmse: 0.2628 - val_loss: 0.0727 - val_rmse: 0.2480\n",
      "Epoch 139/300\n",
      "13122/13122 [==============================] - 4s 333us/step - loss: 0.0824 - rmse: 0.2627 - val_loss: 0.0726 - val_rmse: 0.2480\n",
      "Epoch 140/300\n",
      "13122/13122 [==============================] - 5s 359us/step - loss: 0.0823 - rmse: 0.2626 - val_loss: 0.0726 - val_rmse: 0.2479\n",
      "Epoch 141/300\n",
      "13122/13122 [==============================] - 5s 345us/step - loss: 0.0823 - rmse: 0.2625 - val_loss: 0.0725 - val_rmse: 0.2478\n",
      "Epoch 142/300\n",
      "13122/13122 [==============================] - 4s 312us/step - loss: 0.0822 - rmse: 0.2625 - val_loss: 0.0725 - val_rmse: 0.2477\n",
      "Epoch 143/300\n",
      "13122/13122 [==============================] - 4s 331us/step - loss: 0.0822 - rmse: 0.2624 - val_loss: 0.0724 - val_rmse: 0.2476\n",
      "Epoch 144/300\n",
      "13122/13122 [==============================] - 4s 315us/step - loss: 0.0821 - rmse: 0.2623 - val_loss: 0.0724 - val_rmse: 0.2476\n",
      "Epoch 145/300\n",
      "13122/13122 [==============================] - 4s 319us/step - loss: 0.0821 - rmse: 0.2623 - val_loss: 0.0723 - val_rmse: 0.2475\n",
      "Epoch 146/300\n",
      "13122/13122 [==============================] - 4s 293us/step - loss: 0.0820 - rmse: 0.2622 - val_loss: 0.0723 - val_rmse: 0.2474\n",
      "Epoch 147/300\n",
      "13122/13122 [==============================] - 4s 306us/step - loss: 0.0820 - rmse: 0.2621 - val_loss: 0.0722 - val_rmse: 0.2473\n",
      "Epoch 148/300\n",
      "13122/13122 [==============================] - 4s 317us/step - loss: 0.0819 - rmse: 0.2620 - val_loss: 0.0722 - val_rmse: 0.2473\n",
      "Epoch 149/300\n",
      "13122/13122 [==============================] - 4s 313us/step - loss: 0.0819 - rmse: 0.2620 - val_loss: 0.0721 - val_rmse: 0.2472\n",
      "Epoch 150/300\n",
      "13122/13122 [==============================] - 4s 337us/step - loss: 0.0818 - rmse: 0.2619 - val_loss: 0.0721 - val_rmse: 0.2471\n",
      "Epoch 151/300\n",
      "13122/13122 [==============================] - 5s 370us/step - loss: 0.0818 - rmse: 0.2618 - val_loss: 0.0720 - val_rmse: 0.2471\n",
      "Epoch 152/300\n",
      "13122/13122 [==============================] - 5s 370us/step - loss: 0.0817 - rmse: 0.2618 - val_loss: 0.0720 - val_rmse: 0.2470\n",
      "Epoch 153/300\n",
      "13122/13122 [==============================] - 5s 348us/step - loss: 0.0817 - rmse: 0.2617 - val_loss: 0.0720 - val_rmse: 0.2469\n",
      "Epoch 154/300\n",
      "13122/13122 [==============================] - 5s 357us/step - loss: 0.0816 - rmse: 0.2616 - val_loss: 0.0719 - val_rmse: 0.2468\n",
      "Epoch 155/300\n",
      "13122/13122 [==============================] - 4s 334us/step - loss: 0.0816 - rmse: 0.2616 - val_loss: 0.0719 - val_rmse: 0.2468\n",
      "Epoch 156/300\n",
      "13122/13122 [==============================] - 5s 372us/step - loss: 0.0815 - rmse: 0.2615 - val_loss: 0.0718 - val_rmse: 0.2467\n",
      "Epoch 157/300\n",
      "13122/13122 [==============================] - 4s 340us/step - loss: 0.0815 - rmse: 0.2614 - val_loss: 0.0718 - val_rmse: 0.2466\n",
      "Epoch 158/300\n",
      "13122/13122 [==============================] - 5s 354us/step - loss: 0.0814 - rmse: 0.2614 - val_loss: 0.0717 - val_rmse: 0.2466\n",
      "Epoch 159/300\n",
      "13122/13122 [==============================] - 4s 318us/step - loss: 0.0814 - rmse: 0.2613 - val_loss: 0.0717 - val_rmse: 0.2465\n",
      "Epoch 160/300\n",
      "13122/13122 [==============================] - 5s 351us/step - loss: 0.0814 - rmse: 0.2613 - val_loss: 0.0716 - val_rmse: 0.2464\n",
      "Epoch 161/300\n",
      "13122/13122 [==============================] - 5s 359us/step - loss: 0.0813 - rmse: 0.2612 - val_loss: 0.0716 - val_rmse: 0.2464\n",
      "Epoch 162/300\n",
      "13122/13122 [==============================] - 5s 364us/step - loss: 0.0813 - rmse: 0.2611 - val_loss: 0.0716 - val_rmse: 0.2463\n",
      "Epoch 163/300\n",
      "13122/13122 [==============================] - 5s 346us/step - loss: 0.0812 - rmse: 0.2611 - val_loss: 0.0715 - val_rmse: 0.2462\n",
      "Epoch 164/300\n",
      "13122/13122 [==============================] - 4s 336us/step - loss: 0.0812 - rmse: 0.2610 - val_loss: 0.0715 - val_rmse: 0.2462\n",
      "Epoch 165/300\n",
      "13122/13122 [==============================] - 5s 352us/step - loss: 0.0811 - rmse: 0.2609 - val_loss: 0.0714 - val_rmse: 0.2461\n",
      "Epoch 166/300\n",
      "13122/13122 [==============================] - 5s 354us/step - loss: 0.0811 - rmse: 0.2609 - val_loss: 0.0714 - val_rmse: 0.2460\n",
      "Epoch 167/300\n",
      "13122/13122 [==============================] - 4s 338us/step - loss: 0.0810 - rmse: 0.2608 - val_loss: 0.0713 - val_rmse: 0.2460\n",
      "Epoch 168/300\n",
      "13122/13122 [==============================] - 5s 352us/step - loss: 0.0810 - rmse: 0.2608 - val_loss: 0.0713 - val_rmse: 0.2459\n",
      "Epoch 169/300\n",
      "13122/13122 [==============================] - 5s 368us/step - loss: 0.0810 - rmse: 0.2607 - val_loss: 0.0713 - val_rmse: 0.2458\n",
      "Epoch 170/300\n",
      "13122/13122 [==============================] - 5s 379us/step - loss: 0.0809 - rmse: 0.2606 - val_loss: 0.0712 - val_rmse: 0.2458\n",
      "Epoch 171/300\n",
      "13122/13122 [==============================] - 5s 378us/step - loss: 0.0809 - rmse: 0.2606 - val_loss: 0.0712 - val_rmse: 0.2457\n",
      "Epoch 172/300\n"
     ]
    },
    {
     "name": "stdout",
     "output_type": "stream",
     "text": [
      "13122/13122 [==============================] - 5s 370us/step - loss: 0.0808 - rmse: 0.2605 - val_loss: 0.0711 - val_rmse: 0.2456\n",
      "Epoch 173/300\n",
      "13122/13122 [==============================] - 5s 360us/step - loss: 0.0808 - rmse: 0.2605 - val_loss: 0.0711 - val_rmse: 0.2456\n",
      "Epoch 174/300\n",
      "13122/13122 [==============================] - 4s 321us/step - loss: 0.0808 - rmse: 0.2604 - val_loss: 0.0711 - val_rmse: 0.2455\n",
      "Epoch 175/300\n",
      "13122/13122 [==============================] - 4s 334us/step - loss: 0.0807 - rmse: 0.2603 - val_loss: 0.0710 - val_rmse: 0.2455 0.0\n",
      "Epoch 176/300\n",
      "13122/13122 [==============================] - 5s 362us/step - loss: 0.0807 - rmse: 0.2603 - val_loss: 0.0710 - val_rmse: 0.2454\n",
      "Epoch 177/300\n",
      "13122/13122 [==============================] - 4s 322us/step - loss: 0.0806 - rmse: 0.2602 - val_loss: 0.0709 - val_rmse: 0.2453\n",
      "Epoch 178/300\n",
      "13122/13122 [==============================] - 4s 313us/step - loss: 0.0806 - rmse: 0.2602 - val_loss: 0.0709 - val_rmse: 0.2453\n",
      "Epoch 179/300\n",
      "13122/13122 [==============================] - 5s 344us/step - loss: 0.0806 - rmse: 0.2601 - val_loss: 0.0709 - val_rmse: 0.2452\n",
      "Epoch 180/300\n",
      "13122/13122 [==============================] - 4s 327us/step - loss: 0.0805 - rmse: 0.2601 - val_loss: 0.0708 - val_rmse: 0.2452\n",
      "Epoch 181/300\n",
      "13122/13122 [==============================] - 4s 317us/step - loss: 0.0805 - rmse: 0.2600 - val_loss: 0.0708 - val_rmse: 0.2451\n",
      "Epoch 182/300\n",
      "13122/13122 [==============================] - 4s 320us/step - loss: 0.0804 - rmse: 0.2599 - val_loss: 0.0707 - val_rmse: 0.2450\n",
      "Epoch 183/300\n",
      "13122/13122 [==============================] - 4s 323us/step - loss: 0.0804 - rmse: 0.2599 - val_loss: 0.0707 - val_rmse: 0.2450\n",
      "Epoch 184/300\n",
      "13122/13122 [==============================] - 4s 318us/step - loss: 0.0804 - rmse: 0.2598 - val_loss: 0.0707 - val_rmse: 0.2449\n",
      "Epoch 185/300\n",
      "13122/13122 [==============================] - 4s 338us/step - loss: 0.0803 - rmse: 0.2598 - val_loss: 0.0706 - val_rmse: 0.2449\n",
      "Epoch 186/300\n",
      "13122/13122 [==============================] - 4s 316us/step - loss: 0.0803 - rmse: 0.2597 - val_loss: 0.0706 - val_rmse: 0.2448\n",
      "Epoch 187/300\n",
      "13122/13122 [==============================] - 4s 323us/step - loss: 0.0802 - rmse: 0.2597 - val_loss: 0.0706 - val_rmse: 0.2447\n",
      "Epoch 188/300\n",
      "13122/13122 [==============================] - 5s 366us/step - loss: 0.0802 - rmse: 0.2596 - val_loss: 0.0705 - val_rmse: 0.2447\n",
      "Epoch 189/300\n",
      "13122/13122 [==============================] - 4s 324us/step - loss: 0.0802 - rmse: 0.2595 - val_loss: 0.0705 - val_rmse: 0.2446\n",
      "Epoch 190/300\n",
      "13122/13122 [==============================] - 4s 338us/step - loss: 0.0801 - rmse: 0.2595 - val_loss: 0.0704 - val_rmse: 0.2446\n",
      "Epoch 191/300\n",
      "13122/13122 [==============================] - 4s 308us/step - loss: 0.0801 - rmse: 0.2594 - val_loss: 0.0704 - val_rmse: 0.2445\n",
      "Epoch 192/300\n",
      "13122/13122 [==============================] - 4s 302us/step - loss: 0.0801 - rmse: 0.2594 - val_loss: 0.0704 - val_rmse: 0.2444\n",
      "Epoch 193/300\n",
      "13122/13122 [==============================] - 4s 295us/step - loss: 0.0800 - rmse: 0.2593 - val_loss: 0.0703 - val_rmse: 0.2444\n",
      "Epoch 194/300\n",
      "13122/13122 [==============================] - 4s 328us/step - loss: 0.0800 - rmse: 0.2593 - val_loss: 0.0703 - val_rmse: 0.2443\n",
      "Epoch 195/300\n",
      "13122/13122 [==============================] - 5s 356us/step - loss: 0.0799 - rmse: 0.2592 - val_loss: 0.0703 - val_rmse: 0.2443\n",
      "Epoch 196/300\n",
      "13122/13122 [==============================] - 4s 337us/step - loss: 0.0799 - rmse: 0.2592 - val_loss: 0.0702 - val_rmse: 0.2442\n",
      "Epoch 197/300\n",
      "13122/13122 [==============================] - 6s 433us/step - loss: 0.0799 - rmse: 0.2591 - val_loss: 0.0702 - val_rmse: 0.2441\n",
      "Epoch 198/300\n",
      "13122/13122 [==============================] - 4s 308us/step - loss: 0.0798 - rmse: 0.2591 - val_loss: 0.0702 - val_rmse: 0.2441\n",
      "Epoch 199/300\n",
      "13122/13122 [==============================] - 4s 303us/step - loss: 0.0798 - rmse: 0.2590 - val_loss: 0.0701 - val_rmse: 0.2440\n",
      "Epoch 200/300\n",
      "13122/13122 [==============================] - 4s 320us/step - loss: 0.0798 - rmse: 0.2589 - val_loss: 0.0701 - val_rmse: 0.2440\n",
      "Epoch 201/300\n",
      "13122/13122 [==============================] - 5s 413us/step - loss: 0.0797 - rmse: 0.2589 - val_loss: 0.0700 - val_rmse: 0.2439\n",
      "Epoch 202/300\n",
      "13122/13122 [==============================] - 5s 350us/step - loss: 0.0797 - rmse: 0.2588 - val_loss: 0.0700 - val_rmse: 0.2439\n",
      "Epoch 203/300\n",
      "13122/13122 [==============================] - 4s 293us/step - loss: 0.0796 - rmse: 0.2588 - val_loss: 0.0700 - val_rmse: 0.2438\n",
      "Epoch 204/300\n",
      "13122/13122 [==============================] - 4s 303us/step - loss: 0.0796 - rmse: 0.2587 - val_loss: 0.0699 - val_rmse: 0.2437\n",
      "Epoch 205/300\n",
      "13122/13122 [==============================] - 4s 294us/step - loss: 0.0796 - rmse: 0.2587 - val_loss: 0.0699 - val_rmse: 0.2437\n",
      "Epoch 206/300\n",
      "13122/13122 [==============================] - 4s 296us/step - loss: 0.0795 - rmse: 0.2586 - val_loss: 0.0699 - val_rmse: 0.2436\n",
      "Epoch 207/300\n",
      "13122/13122 [==============================] - 4s 294us/step - loss: 0.0795 - rmse: 0.2586 - val_loss: 0.0698 - val_rmse: 0.2436\n",
      "Epoch 208/300\n",
      "13122/13122 [==============================] - 4s 299us/step - loss: 0.0795 - rmse: 0.2585 - val_loss: 0.0698 - val_rmse: 0.2435\n",
      "Epoch 209/300\n",
      "13122/13122 [==============================] - 4s 300us/step - loss: 0.0794 - rmse: 0.2585 - val_loss: 0.0698 - val_rmse: 0.2435\n",
      "Epoch 210/300\n",
      "13122/13122 [==============================] - 4s 291us/step - loss: 0.0794 - rmse: 0.2584 - val_loss: 0.0697 - val_rmse: 0.2434\n",
      "Epoch 211/300\n",
      "13122/13122 [==============================] - 4s 299us/step - loss: 0.0794 - rmse: 0.2584 - val_loss: 0.0697 - val_rmse: 0.2434\n",
      "Epoch 212/300\n",
      "13122/13122 [==============================] - 4s 296us/step - loss: 0.0793 - rmse: 0.2583 - val_loss: 0.0697 - val_rmse: 0.2433\n",
      "Epoch 213/300\n",
      "13122/13122 [==============================] - 4s 302us/step - loss: 0.0793 - rmse: 0.2583 - val_loss: 0.0696 - val_rmse: 0.2432\n",
      "Epoch 214/300\n",
      "13122/13122 [==============================] - 4s 319us/step - loss: 0.0793 - rmse: 0.2582 - val_loss: 0.0696 - val_rmse: 0.2432\n",
      "Epoch 215/300\n",
      "13122/13122 [==============================] - 4s 301us/step - loss: 0.0792 - rmse: 0.2582 - val_loss: 0.0696 - val_rmse: 0.2431\n",
      "Epoch 216/300\n",
      "13122/13122 [==============================] - 4s 293us/step - loss: 0.0792 - rmse: 0.2581 - val_loss: 0.0695 - val_rmse: 0.2431\n",
      "Epoch 217/300\n",
      "13122/13122 [==============================] - 4s 303us/step - loss: 0.0791 - rmse: 0.2581 - val_loss: 0.0695 - val_rmse: 0.2430\n",
      "Epoch 218/300\n",
      "13122/13122 [==============================] - 4s 300us/step - loss: 0.0791 - rmse: 0.2580 - val_loss: 0.0694 - val_rmse: 0.2430\n",
      "Epoch 219/300\n",
      "13122/13122 [==============================] - 5s 354us/step - loss: 0.0791 - rmse: 0.2580 - val_loss: 0.0694 - val_rmse: 0.2429\n",
      "Epoch 220/300\n",
      "13122/13122 [==============================] - 5s 378us/step - loss: 0.0790 - rmse: 0.2579 - val_loss: 0.0694 - val_rmse: 0.2429\n",
      "Epoch 221/300\n",
      "13122/13122 [==============================] - 5s 379us/step - loss: 0.0790 - rmse: 0.2579 - val_loss: 0.0693 - val_rmse: 0.2428\n",
      "Epoch 222/300\n",
      "13122/13122 [==============================] - 5s 351us/step - loss: 0.0790 - rmse: 0.2578 - val_loss: 0.0693 - val_rmse: 0.2428\n",
      "Epoch 223/300\n",
      "13122/13122 [==============================] - 5s 349us/step - loss: 0.0789 - rmse: 0.2578 - val_loss: 0.0693 - val_rmse: 0.2427\n",
      "Epoch 224/300\n",
      "13122/13122 [==============================] - 5s 401us/step - loss: 0.0789 - rmse: 0.2577 - val_loss: 0.0692 - val_rmse: 0.2426\n",
      "Epoch 225/300\n",
      "13122/13122 [==============================] - 5s 391us/step - loss: 0.0789 - rmse: 0.2577 - val_loss: 0.0692 - val_rmse: 0.2426\n",
      "Epoch 226/300\n",
      "13122/13122 [==============================] - 6s 439us/step - loss: 0.0788 - rmse: 0.2576 - val_loss: 0.0692 - val_rmse: 0.2425\n",
      "Epoch 227/300\n",
      "13122/13122 [==============================] - 5s 409us/step - loss: 0.0788 - rmse: 0.2576 - val_loss: 0.0691 - val_rmse: 0.2425\n",
      "Epoch 228/300\n",
      "13122/13122 [==============================] - 5s 386us/step - loss: 0.0788 - rmse: 0.2575 - val_loss: 0.0691 - val_rmse: 0.2424\n",
      "Epoch 229/300\n"
     ]
    },
    {
     "name": "stdout",
     "output_type": "stream",
     "text": [
      "13122/13122 [==============================] - 5s 377us/step - loss: 0.0787 - rmse: 0.2575 - val_loss: 0.0691 - val_rmse: 0.2424\n",
      "Epoch 230/300\n",
      "13122/13122 [==============================] - 5s 363us/step - loss: 0.0787 - rmse: 0.2574 - val_loss: 0.0690 - val_rmse: 0.2423\n",
      "Epoch 231/300\n",
      "13122/13122 [==============================] - 4s 317us/step - loss: 0.0787 - rmse: 0.2574 - val_loss: 0.0690 - val_rmse: 0.2423\n",
      "Epoch 232/300\n",
      "13122/13122 [==============================] - 4s 303us/step - loss: 0.0786 - rmse: 0.2573 - val_loss: 0.0690 - val_rmse: 0.2422\n",
      "Epoch 233/300\n",
      "13122/13122 [==============================] - 4s 316us/step - loss: 0.0786 - rmse: 0.2573 - val_loss: 0.0689 - val_rmse: 0.2422\n",
      "Epoch 234/300\n",
      "13122/13122 [==============================] - 5s 364us/step - loss: 0.0786 - rmse: 0.2572 - val_loss: 0.0689 - val_rmse: 0.2421\n",
      "Epoch 235/300\n",
      "13122/13122 [==============================] - 4s 331us/step - loss: 0.0785 - rmse: 0.2572 - val_loss: 0.0689 - val_rmse: 0.2421\n",
      "Epoch 236/300\n",
      "13122/13122 [==============================] - 4s 337us/step - loss: 0.0785 - rmse: 0.2571 - val_loss: 0.0688 - val_rmse: 0.2420\n",
      "Epoch 237/300\n",
      "13122/13122 [==============================] - 5s 353us/step - loss: 0.0785 - rmse: 0.2571 - val_loss: 0.0688 - val_rmse: 0.2419\n",
      "Epoch 238/300\n",
      "13122/13122 [==============================] - 4s 318us/step - loss: 0.0784 - rmse: 0.2570 - val_loss: 0.0688 - val_rmse: 0.2419\n",
      "Epoch 239/300\n",
      "13122/13122 [==============================] - 5s 346us/step - loss: 0.0784 - rmse: 0.2570 - val_loss: 0.0688 - val_rmse: 0.2418\n",
      "Epoch 240/300\n",
      "13122/13122 [==============================] - 4s 309us/step - loss: 0.0784 - rmse: 0.2569 - val_loss: 0.0687 - val_rmse: 0.2418\n",
      "Epoch 241/300\n",
      "13122/13122 [==============================] - 5s 417us/step - loss: 0.0783 - rmse: 0.2569 - val_loss: 0.0687 - val_rmse: 0.2417\n",
      "Epoch 242/300\n",
      "13122/13122 [==============================] - 5s 393us/step - loss: 0.0783 - rmse: 0.2568 - val_loss: 0.0687 - val_rmse: 0.2417\n",
      "Epoch 243/300\n",
      "13122/13122 [==============================] - 4s 320us/step - loss: 0.0783 - rmse: 0.2568 - val_loss: 0.0686 - val_rmse: 0.2416\n",
      "Epoch 244/300\n",
      "13122/13122 [==============================] - 4s 311us/step - loss: 0.0782 - rmse: 0.2567 - val_loss: 0.0686 - val_rmse: 0.2416\n",
      "Epoch 245/300\n",
      "13122/13122 [==============================] - 4s 313us/step - loss: 0.0782 - rmse: 0.2567 - val_loss: 0.0686 - val_rmse: 0.2415\n",
      "Epoch 246/300\n",
      "13122/13122 [==============================] - 4s 316us/step - loss: 0.0782 - rmse: 0.2566 - val_loss: 0.0685 - val_rmse: 0.2415\n",
      "Epoch 247/300\n",
      "13122/13122 [==============================] - 4s 305us/step - loss: 0.0781 - rmse: 0.2566 - val_loss: 0.0685 - val_rmse: 0.2414\n",
      "Epoch 248/300\n",
      "13122/13122 [==============================] - 4s 336us/step - loss: 0.0781 - rmse: 0.2565 - val_loss: 0.0685 - val_rmse: 0.2414\n",
      "Epoch 249/300\n",
      "13122/13122 [==============================] - 4s 335us/step - loss: 0.0781 - rmse: 0.2565 - val_loss: 0.0684 - val_rmse: 0.2413\n",
      "Epoch 250/300\n",
      "13122/13122 [==============================] - 4s 336us/step - loss: 0.0780 - rmse: 0.2564 - val_loss: 0.0684 - val_rmse: 0.2413\n",
      "Epoch 251/300\n",
      "13122/13122 [==============================] - 5s 414us/step - loss: 0.0780 - rmse: 0.2564 - val_loss: 0.0684 - val_rmse: 0.2412\n",
      "Epoch 252/300\n",
      "13122/13122 [==============================] - 5s 381us/step - loss: 0.0780 - rmse: 0.2563 - val_loss: 0.0683 - val_rmse: 0.2412\n",
      "Epoch 253/300\n",
      "13122/13122 [==============================] - 5s 355us/step - loss: 0.0780 - rmse: 0.2563 - val_loss: 0.0683 - val_rmse: 0.2411\n",
      "Epoch 254/300\n",
      "13122/13122 [==============================] - 5s 393us/step - loss: 0.0779 - rmse: 0.2562 - val_loss: 0.0683 - val_rmse: 0.2411\n",
      "Epoch 255/300\n",
      "13122/13122 [==============================] - 5s 361us/step - loss: 0.0779 - rmse: 0.2562 - val_loss: 0.0682 - val_rmse: 0.2410\n",
      "Epoch 256/300\n",
      "13122/13122 [==============================] - 5s 345us/step - loss: 0.0779 - rmse: 0.2562 - val_loss: 0.0682 - val_rmse: 0.2410\n",
      "Epoch 257/300\n",
      "13122/13122 [==============================] - 4s 298us/step - loss: 0.0778 - rmse: 0.2561 - val_loss: 0.0682 - val_rmse: 0.2409\n",
      "Epoch 258/300\n",
      "13122/13122 [==============================] - 4s 326us/step - loss: 0.0778 - rmse: 0.2561 - val_loss: 0.0681 - val_rmse: 0.2409\n",
      "Epoch 259/300\n",
      "13122/13122 [==============================] - 4s 338us/step - loss: 0.0778 - rmse: 0.2560 - val_loss: 0.0681 - val_rmse: 0.2408\n",
      "Epoch 260/300\n",
      "13122/13122 [==============================] - 5s 388us/step - loss: 0.0777 - rmse: 0.2560 - val_loss: 0.0681 - val_rmse: 0.2408\n",
      "Epoch 261/300\n",
      "13122/13122 [==============================] - 5s 355us/step - loss: 0.0777 - rmse: 0.2559 - val_loss: 0.0681 - val_rmse: 0.2407\n",
      "Epoch 262/300\n",
      "13122/13122 [==============================] - 5s 362us/step - loss: 0.0777 - rmse: 0.2559 - val_loss: 0.0680 - val_rmse: 0.2407\n",
      "Epoch 263/300\n",
      "13122/13122 [==============================] - 4s 318us/step - loss: 0.0776 - rmse: 0.2558 - val_loss: 0.0680 - val_rmse: 0.2406\n",
      "Epoch 264/300\n",
      "13122/13122 [==============================] - 4s 320us/step - loss: 0.0776 - rmse: 0.2558 - val_loss: 0.0680 - val_rmse: 0.2406\n",
      "Epoch 265/300\n",
      "13122/13122 [==============================] - 5s 344us/step - loss: 0.0776 - rmse: 0.2557 - val_loss: 0.0679 - val_rmse: 0.2405\n",
      "Epoch 266/300\n",
      "13122/13122 [==============================] - 5s 372us/step - loss: 0.0775 - rmse: 0.2557 - val_loss: 0.0679 - val_rmse: 0.2405\n",
      "Epoch 267/300\n",
      "13122/13122 [==============================] - 5s 350us/step - loss: 0.0775 - rmse: 0.2556 - val_loss: 0.0679 - val_rmse: 0.2404\n",
      "Epoch 268/300\n",
      "13122/13122 [==============================] - 5s 353us/step - loss: 0.0775 - rmse: 0.2556 - val_loss: 0.0678 - val_rmse: 0.2404\n",
      "Epoch 269/300\n",
      "13122/13122 [==============================] - 5s 366us/step - loss: 0.0774 - rmse: 0.2556 - val_loss: 0.0678 - val_rmse: 0.2403\n",
      "Epoch 270/300\n",
      "13122/13122 [==============================] - 4s 338us/step - loss: 0.0774 - rmse: 0.2555 - val_loss: 0.0678 - val_rmse: 0.2403\n",
      "Epoch 271/300\n",
      "13122/13122 [==============================] - 4s 335us/step - loss: 0.0774 - rmse: 0.2555 - val_loss: 0.0677 - val_rmse: 0.2402\n",
      "Epoch 272/300\n",
      "13122/13122 [==============================] - 5s 376us/step - loss: 0.0774 - rmse: 0.2554 - val_loss: 0.0677 - val_rmse: 0.2402\n",
      "Epoch 273/300\n",
      "13122/13122 [==============================] - 5s 348us/step - loss: 0.0773 - rmse: 0.2554 - val_loss: 0.0677 - val_rmse: 0.2401\n",
      "Epoch 274/300\n",
      "13122/13122 [==============================] - 5s 375us/step - loss: 0.0773 - rmse: 0.2553 - val_loss: 0.0677 - val_rmse: 0.2401\n",
      "Epoch 275/300\n",
      "13122/13122 [==============================] - 5s 380us/step - loss: 0.0773 - rmse: 0.2553 - val_loss: 0.0676 - val_rmse: 0.2400\n",
      "Epoch 276/300\n",
      "13122/13122 [==============================] - 4s 342us/step - loss: 0.0772 - rmse: 0.2552 - val_loss: 0.0676 - val_rmse: 0.2400\n",
      "Epoch 277/300\n",
      "13122/13122 [==============================] - 5s 349us/step - loss: 0.0772 - rmse: 0.2552 - val_loss: 0.0676 - val_rmse: 0.2399\n",
      "Epoch 278/300\n",
      "13122/13122 [==============================] - 4s 336us/step - loss: 0.0772 - rmse: 0.2551 - val_loss: 0.0675 - val_rmse: 0.2399\n",
      "Epoch 279/300\n",
      "13122/13122 [==============================] - 5s 346us/step - loss: 0.0771 - rmse: 0.2551 - val_loss: 0.0675 - val_rmse: 0.2398\n",
      "Epoch 280/300\n",
      "13122/13122 [==============================] - 5s 345us/step - loss: 0.0771 - rmse: 0.2551 - val_loss: 0.0675 - val_rmse: 0.2398\n",
      "Epoch 281/300\n",
      "13122/13122 [==============================] - 5s 344us/step - loss: 0.0771 - rmse: 0.2550 - val_loss: 0.0674 - val_rmse: 0.2397\n",
      "Epoch 282/300\n",
      "13122/13122 [==============================] - 5s 364us/step - loss: 0.0771 - rmse: 0.2550 - val_loss: 0.0674 - val_rmse: 0.2397\n",
      "Epoch 283/300\n",
      "13122/13122 [==============================] - 5s 346us/step - loss: 0.0770 - rmse: 0.2549 - val_loss: 0.0674 - val_rmse: 0.2396\n",
      "Epoch 284/300\n",
      "13122/13122 [==============================] - 4s 341us/step - loss: 0.0770 - rmse: 0.2549 - val_loss: 0.0674 - val_rmse: 0.2396\n",
      "Epoch 285/300\n",
      "13122/13122 [==============================] - 5s 366us/step - loss: 0.0770 - rmse: 0.2548 - val_loss: 0.0673 - val_rmse: 0.2395\n",
      "Epoch 286/300\n"
     ]
    },
    {
     "name": "stdout",
     "output_type": "stream",
     "text": [
      "13122/13122 [==============================] - 5s 380us/step - loss: 0.0769 - rmse: 0.2548 - val_loss: 0.0673 - val_rmse: 0.2395\n",
      "Epoch 287/300\n",
      "13122/13122 [==============================] - 5s 362us/step - loss: 0.0769 - rmse: 0.2547 - val_loss: 0.0673 - val_rmse: 0.2394\n",
      "Epoch 288/300\n",
      "13122/13122 [==============================] - 5s 352us/step - loss: 0.0769 - rmse: 0.2547 - val_loss: 0.0672 - val_rmse: 0.2394\n",
      "Epoch 289/300\n",
      "13122/13122 [==============================] - 5s 381us/step - loss: 0.0768 - rmse: 0.2547 - val_loss: 0.0672 - val_rmse: 0.2393\n",
      "Epoch 290/300\n",
      "13122/13122 [==============================] - 5s 352us/step - loss: 0.0768 - rmse: 0.2546 - val_loss: 0.0672 - val_rmse: 0.2393\n",
      "Epoch 291/300\n",
      "13122/13122 [==============================] - 5s 377us/step - loss: 0.0768 - rmse: 0.2546 - val_loss: 0.0672 - val_rmse: 0.2392\n",
      "Epoch 292/300\n",
      "13122/13122 [==============================] - 5s 382us/step - loss: 0.0768 - rmse: 0.2545 - val_loss: 0.0671 - val_rmse: 0.2392\n",
      "Epoch 293/300\n",
      "13122/13122 [==============================] - 5s 370us/step - loss: 0.0767 - rmse: 0.2545 - val_loss: 0.0671 - val_rmse: 0.2391\n",
      "Epoch 294/300\n",
      "13122/13122 [==============================] - 5s 367us/step - loss: 0.0767 - rmse: 0.2544 - val_loss: 0.0671 - val_rmse: 0.2391\n",
      "Epoch 295/300\n",
      "13122/13122 [==============================] - 4s 311us/step - loss: 0.0767 - rmse: 0.2544 - val_loss: 0.0670 - val_rmse: 0.2390\n",
      "Epoch 296/300\n",
      "13122/13122 [==============================] - 4s 316us/step - loss: 0.0766 - rmse: 0.2543 - val_loss: 0.0670 - val_rmse: 0.2390\n",
      "Epoch 297/300\n",
      "13122/13122 [==============================] - 4s 314us/step - loss: 0.0766 - rmse: 0.2543 - val_loss: 0.0670 - val_rmse: 0.2390\n",
      "Epoch 298/300\n",
      "13122/13122 [==============================] - 4s 321us/step - loss: 0.0766 - rmse: 0.2543 - val_loss: 0.0670 - val_rmse: 0.2389\n",
      "Epoch 299/300\n",
      "13122/13122 [==============================] - 5s 380us/step - loss: 0.0766 - rmse: 0.2542 - val_loss: 0.0669 - val_rmse: 0.2389\n",
      "Epoch 300/300\n",
      "13122/13122 [==============================] - 5s 349us/step - loss: 0.0765 - rmse: 0.2542 - val_loss: 0.0669 - val_rmse: 0.2388\n"
     ]
    }
   ],
   "source": [
    "# fitting the model\n",
    "history_train_with_train_25 = model.fit(np.array(X), np.array(y),epochs = 300,verbose = 1, validation_split=0.25,callbacks=[tensorflow.keras.callbacks.TensorBoard('logs')])"
   ]
  },
  {
   "cell_type": "code",
   "execution_count": 43,
   "metadata": {},
   "outputs": [
    {
     "name": "stdout",
     "output_type": "stream",
     "text": [
      "The tensorboard.notebook extension is already loaded. To reload it, use:\n",
      "  %reload_ext tensorboard.notebook\n"
     ]
    },
    {
     "data": {
      "text/plain": [
       "Reusing TensorBoard on port 6006 (pid 39412), started -1 day, 23:46:10 ago. (Use '!kill 39412' to kill it.)"
      ]
     },
     "metadata": {},
     "output_type": "display_data"
    },
    {
     "data": {
      "text/html": [
       "\n",
       "        <iframe\n",
       "            width=\"100%\"\n",
       "            height=\"600\"\n",
       "            src=\"http://localhost:6006\"\n",
       "            frameborder=\"0\"\n",
       "            allowfullscreen\n",
       "        ></iframe>\n",
       "        "
      ],
      "text/plain": [
       "<IPython.lib.display.IFrame at 0x29e45ecb048>"
      ]
     },
     "metadata": {},
     "output_type": "display_data"
    }
   ],
   "source": [
    "# Load TENSORBOARD\n",
    "%load_ext tensorboard.notebook\n",
    "# Start TENSORBOARD\n",
    "%tensorboard --logdir logs\n",
    "%reload_ext tensorboard.notebook\n"
   ]
  },
  {
   "cell_type": "code",
   "execution_count": null,
   "metadata": {},
   "outputs": [],
   "source": [
    "# summarize history for loss\n",
    "import matplotlib.pyplot as plt\n",
    "\n",
    "plt.plot(history_train_with_train_25.history['loss'][:],linewidth=3)\n",
    "plt.plot(history_train_with_train_25.history['val_loss'][:],linewidth=3)\n",
    "\n",
    "plt.title('model train vs validation loss')\n",
    "plt.ylabel('LOSS')\n",
    "plt.xlabel('EPOCH')\n",
    "plt.legend(['train', 'validation'], loc='upper right')\n",
    "plt.show()\n",
    "\n",
    "plt.plot(history_train_with_train_25.history['rmse'],linewidth=3)\n",
    "plt.plot(history_train_with_train_25.history['val_rmse'],linewidth=3)\n",
    "plt.ylabel('RMSE')\n",
    "plt.xlabel('EPOCH')\n",
    "plt.legend(['train', 'validation'], loc='upper right')\n",
    "plt.show()\n",
    "plt.show()"
   ]
  },
  {
   "cell_type": "code",
   "execution_count": null,
   "metadata": {},
   "outputs": [],
   "source": [
    "from IPython.display import SVG\n",
    "from keras.utils import model_to_dot\n",
    "\n",
    "SVG(model_to_dot(model).create(prog='dot', format='svg'))"
   ]
  },
  {
   "cell_type": "code",
   "execution_count": null,
   "metadata": {},
   "outputs": [],
   "source": []
  },
  {
   "cell_type": "markdown",
   "metadata": {},
   "source": [
    "<b> <u> Step 11 : Creating new senetences using Markov chain </b> </u>"
   ]
  },
  {
   "cell_type": "code",
   "execution_count": null,
   "metadata": {},
   "outputs": [],
   "source": [
    "# step 10 : now we will generate new lyrics using markov chain by creating a markov_text object, which would be used to make sentences later\n",
    "import markovify\n",
    "markov_text = markovify.NewlineText(rap_song_file)"
   ]
  },
  {
   "cell_type": "code",
   "execution_count": null,
   "metadata": {},
   "outputs": [],
   "source": [
    "def generate_lyrics():\n",
    "    bars_new_lyrics = []\n",
    "    last_words = []\n",
    "    lyriclength = len(bars)\n",
    "    count = 0\n",
    "    #markov_model = markov_text((\". \").join('songs.txt') + \".\")\n",
    "\n",
    "    while len(bars_new_lyrics) < lyriclength / 9 and count < lyriclength * 2:\n",
    "        # By default, the make_sentence method tries, a maximum of 10 times per invocation,\n",
    "        # to make a sentence that doesn't overlap too much with the original text.\n",
    "        # If it is successful, the method returns the sentence as a string.\n",
    "        # If not, it returns None. (https://github.com/jsvine/markovify)\n",
    "        bar = markov_text.make_sentence()\n",
    "        #print(bar)\n",
    "        # make sure the bar isn't 'None' and that the amount of\n",
    "        # syllables is under the max syllables\n",
    "        if type(bar) != type(None) and find_syllables_count(bar) < 1:\n",
    "\n",
    "            # function to get the last word of the bar\n",
    "            def get_last_word(bar):\n",
    "                last_word = bar.split(\" \")[-1]\n",
    "                # if the last word is punctuation, get the word before it\n",
    "                if last_word[-1] in \"!.?,\":\n",
    "                    last_word = last_word[:-1]\n",
    "                return last_word\n",
    "\n",
    "            last_word = get_last_word(bar)\n",
    "            # only use the bar if it is unique and the last_word\n",
    "            # has only been seen less than 3 times\n",
    "            if bar not in bars_new_lyrics and last_words.count(last_word) < 3:\n",
    "                bars_new_lyrics.append(bar)\n",
    "                last_words.append(last_word)\n",
    "                count += 1\n",
    "\n",
    "    return bars_new_lyrics"
   ]
  },
  {
   "cell_type": "code",
   "execution_count": null,
   "metadata": {},
   "outputs": [],
   "source": [
    "bars_new_lyrics = generate_lyrics()"
   ]
  },
  {
   "cell_type": "code",
   "execution_count": null,
   "metadata": {},
   "outputs": [],
   "source": [
    "\n",
    "new_bars = []\n",
    "for bar in bars_new_lyrics:\n",
    "    bar = re.sub('[^A-Za-z\\s]+', '', bar)\n",
    "    new_bars.append(bar.strip())\n",
    "bars_new_lyrics = new_bars"
   ]
  },
  {
   "cell_type": "code",
   "execution_count": null,
   "metadata": {},
   "outputs": [],
   "source": [
    "print(len(bars_new_lyrics))"
   ]
  },
  {
   "cell_type": "markdown",
   "metadata": {},
   "source": [
    "#### ----------------completed-----------------------------------------"
   ]
  },
  {
   "cell_type": "code",
   "execution_count": null,
   "metadata": {},
   "outputs": [],
   "source": [
    "rhyming_list_final_new_lyrics = rhyming_list_all(bars_new_lyrics)"
   ]
  },
  {
   "cell_type": "code",
   "execution_count": null,
   "metadata": {},
   "outputs": [],
   "source": [
    "rhyming_list_final_new_lyrics[:10]"
   ]
  },
  {
   "cell_type": "code",
   "execution_count": null,
   "metadata": {},
   "outputs": [],
   "source": [
    "print(len(rhyming_list_final_new_lyrics))"
   ]
  },
  {
   "cell_type": "code",
   "execution_count": null,
   "metadata": {},
   "outputs": [],
   "source": [
    "import random\n",
    "def compose_rap(lines, rhyming_list_final_new_lyrics, model):\n",
    "    rap_vectors = []\n",
    "    human_lyrics = bars\n",
    "    \n",
    "    # choose a random line to start in from given lyrics\n",
    "    initial_index = random.choice(range(len(human_lyrics) - 1))\n",
    "    # create an initial_lines list consisting of 2 lines\n",
    "    initial_lines = human_lyrics[initial_index:initial_index + 2]\n",
    "    print(initial_lines)\n",
    "    #print(initial_lines)\n",
    "    starting_input = []\n",
    "    for line in initial_lines:\n",
    "        # appends a [syllable, rhyme_index] pair to starting_input\n",
    "        #print(line)\n",
    "        starting_input.append([find_syllables_count(line), index_rhyming_word_to_float(rhyming_list_final_new_lyrics,line)])\n",
    "    # predict generates output predictions for the given samples\n",
    "    # it's reshaped as a (1, 2, 2) so that the model can predict each\n",
    "    # 2x2 matrix of [syllable, rhyme_index] pairs\n",
    "    print(starting_input)\n",
    "    starting_vectors = model.predict(np.array([starting_input]).flatten().reshape(1, 2, 2))\n",
    "    #starting_vectors = model.predict(np.array([starting_input]).flatten().reshape(2, 2, 4))\n",
    "    rap_vectors.append(starting_vectors)\n",
    "    #print(starting_vectors)\n",
    "    for i in range(20):\n",
    "        rap_vectors.append(model.predict(np.array([rap_vectors[-1]]).flatten().reshape(1, 2, 2)))\n",
    "        #rap_vectors.append(model.predict(np.array([rap_vectors[-1]]).flatten().reshape(2, 2, 4)))\n",
    "    return rap_vectors"
   ]
  },
  {
   "cell_type": "code",
   "execution_count": null,
   "metadata": {},
   "outputs": [],
   "source": [
    "rap_generated_with_prediction = compose_rap(bars_new_lyrics, rhyming_list_final_new_lyrics, model)"
   ]
  },
  {
   "cell_type": "code",
   "execution_count": null,
   "metadata": {},
   "outputs": [],
   "source": [
    "dataset_new_lyrics = []\n",
    "for line in bars_new_lyrics:\n",
    "    line_list = [line, find_syllables_count(line), index_rhyming_word_to_float(rhyming_list_final_new_lyrics,line)]\n",
    "    dataset_new_lyrics.append(line_list)"
   ]
  },
  {
   "cell_type": "code",
   "execution_count": null,
   "metadata": {},
   "outputs": [],
   "source": [
    "# compare the last words to see if they are the same, if they are\n",
    "# increment a penalty variable which grants penalty points for being\n",
    "# uncreative\n",
    "def last_word_compare(rap, line2):\n",
    "    penalty = 0\n",
    "    for line1 in rap:\n",
    "        word1 = line1.split(\" \")[-1]\n",
    "        word2 = line2.split(\" \")[-1]\n",
    "\n",
    "        # remove any punctuation from the words\n",
    "        while word1[-1] in \"?!,. \":\n",
    "            word1 = word1[:-1]\n",
    "\n",
    "        while word2[-1] in \"?!,. \":\n",
    "            word2 = word2[:-1]\n",
    "\n",
    "        if word1 == word2:\n",
    "            penalty += 0.2\n",
    "\n",
    "    return penalty\n",
    "\n",
    "# vector_half is a single [syllable, rhyme_index] pair\n",
    "# returns a score rating for a given line\n",
    "def calculate_score(vector_half, syllables, rhyme, penalty):\n",
    "    desired_syllables = vector_half[0]\n",
    "    desired_rhyme = vector_half[1]\n",
    "    # desired_syllables is the number of syllables we want\n",
    "    desired_syllables = desired_syllables * maxsyllables\n",
    "    # desired rhyme is the index of the rhyme we want\n",
    "    desired_rhyme = desired_rhyme * len(rhyming_list_final_new_lyrics)\n",
    "\n",
    "    # generate a score by subtracting from 1 the sum of the difference between\n",
    "    # predicted syllables and generated syllables and the difference between\n",
    "    # the predicted rhyme and generated rhyme and then subtract the penalty\n",
    "    score = 1.0 - (abs((float(desired_syllables) - float(syllables))) + abs(\n",
    "        (float(desired_rhyme) - float(rhyme)))) - penalty\n",
    "\n",
    "    return score\n"
   ]
  },
  {
   "cell_type": "code",
   "execution_count": null,
   "metadata": {},
   "outputs": [],
   "source": [
    "def song_generation(rap_generated_with_prediction, bars_new_lyrics, rhyming_list_final_new_lyrics):\n",
    "    print (\"\\n\\n\")\n",
    "    print(\"RAP GENERATED\")\n",
    "    print (\"\\n\\n\")\n",
    "\n",
    "    # generated a list of all the lines from generated_lyrics with their\n",
    "    # line, syllables, and rhyme float value\n",
    "    rap = []\n",
    "    rap_bars = []\n",
    "    for raps in rap_generated_with_prediction:\n",
    "        # vectors are the 2x2 rap_vectors (predicted bars) generated by compose_rap()\n",
    "        # separate every vector into a half (essentially one bar) where each\n",
    "        # has a pair of [syllables, rhyme_index]\n",
    "        rap_bars.append(list(raps[0][0]))\n",
    "        rap_bars.append(list(raps[0][1]))\n",
    "    print(rap_bars) # predictions are subdivided into an array of [syllable and rhyming index pair]\n",
    "    for rap_bar in rap_bars:\n",
    "        # Each vector (predicted bars) is scored against every generated bar ('item' below)\n",
    "        # to find the generated bar that best matches (highest score) the vector predicted\n",
    "        # by the model. This bar is then added to the final rap and also removed from the\n",
    "        # generated lyrics (dataset) so that we don't get duplicate lines in the final rap.\n",
    "        scorelist = []\n",
    "        for item in dataset_new_lyrics:\n",
    "            # item is one of the generated bars from the Markov model\n",
    "            line = item[0]\n",
    "            print('len(rap)', rap)\n",
    "            if len(rap) != 0:\n",
    "                penalty = last_word_compare(rap, line)\n",
    "            else:\n",
    "                penalty = 0\n",
    "            # calculate the score of the current line\n",
    "            total_score = calculate_score(rap_bar, item[1], item[2], penalty)\n",
    "            score_entry = [line, total_score]\n",
    "            # add the score of the current line to a scorelist\n",
    "            scorelist.append(score_entry)\n",
    "\n",
    "        fixed_score_list = []\n",
    "        for score in scorelist:\n",
    "            fixed_score_list.append(float(score[1]))\n",
    "        # get the line with the max valued score from the fixed_score_list\n",
    "        max_score = max(fixed_score_list)\n",
    "        for item in scorelist:\n",
    "            if item[1] == max_score:\n",
    "                # append item[0] (the line) to the rap\n",
    "                rap.append(item[0])\n",
    "                print(str(item[0]))\n",
    "\n",
    "                # remove the line we added to the rap so\n",
    "                # it doesn't get chosen again\n",
    "                for i in dataset_new_lyrics:\n",
    "                    if item[0] == i[0]:\n",
    "                        dataset_new_lyrics.remove(i)\n",
    "                        break\n",
    "                break\n",
    "    return rap\n"
   ]
  },
  {
   "cell_type": "code",
   "execution_count": null,
   "metadata": {},
   "outputs": [],
   "source": [
    "song_generation(rap_generated_with_prediction, bars_new_lyrics, rhyming_list_final_new_lyrics)"
   ]
  },
  {
   "cell_type": "code",
   "execution_count": null,
   "metadata": {},
   "outputs": [],
   "source": []
  },
  {
   "cell_type": "code",
   "execution_count": null,
   "metadata": {},
   "outputs": [],
   "source": []
  },
  {
   "cell_type": "code",
   "execution_count": null,
   "metadata": {},
   "outputs": [],
   "source": []
  },
  {
   "cell_type": "code",
   "execution_count": null,
   "metadata": {},
   "outputs": [],
   "source": []
  },
  {
   "cell_type": "code",
   "execution_count": null,
   "metadata": {},
   "outputs": [],
   "source": []
  },
  {
   "cell_type": "code",
   "execution_count": null,
   "metadata": {},
   "outputs": [],
   "source": []
  },
  {
   "cell_type": "code",
   "execution_count": null,
   "metadata": {},
   "outputs": [],
   "source": []
  }
 ],
 "metadata": {
  "kernelspec": {
   "display_name": "Python 3",
   "language": "python",
   "name": "python3"
  },
  "language_info": {
   "codemirror_mode": {
    "name": "ipython",
    "version": 3
   },
   "file_extension": ".py",
   "mimetype": "text/x-python",
   "name": "python",
   "nbconvert_exporter": "python",
   "pygments_lexer": "ipython3",
   "version": "3.7.1"
  }
 },
 "nbformat": 4,
 "nbformat_minor": 2
}
