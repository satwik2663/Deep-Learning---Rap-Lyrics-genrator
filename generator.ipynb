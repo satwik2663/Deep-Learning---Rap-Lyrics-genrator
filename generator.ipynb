{
 "cells": [
  {
   "cell_type": "markdown",
   "metadata": {},
   "source": [
    "## RAP MUSIC GENERATION"
   ]
  },
  {
   "cell_type": "markdown",
   "metadata": {},
   "source": [
    "<u><b> Step 1 : Reading the rap song file </b> </u>"
   ]
  },
  {
   "cell_type": "code",
   "execution_count": 49,
   "metadata": {},
   "outputs": [],
   "source": [
    "# read the rap text file with all the raps\n",
    "\n",
    "rap_song_file = open(r'./All_Rap_lyrics.txt','r', encoding='utf-8').read()\n",
    "rap_song_file = rap_song_file.lower() # converting all the text to lower case"
   ]
  },
  {
   "cell_type": "markdown",
   "metadata": {},
   "source": [
    "<u><b>  Step 2 : Building bars from lyrics </b> </u>"
   ]
  },
  {
   "cell_type": "markdown",
   "metadata": {},
   "source": [
    "#### Terminologies:\n",
    "##### What is a bar in rap song:\n",
    "- Usually one line of lyrics is one count, and there are 4 counts in a bar.  \n",
    "- There are  16 bars in a verse in most rap songs.<br>\n",
    "\n",
    "##### An example of bar using a lyrics below:\n",
    "Lights slow motion, steppin' out the Phantom ===> 1 bar <br>\n",
    "All eyes on me, peekin' and glancin' ===> 2nd bar <br>\n",
    "Leanin' on the wall, with b-boys dancin' ===> 3rd bar <br>\n",
    "Ears, neck, and wrists lookin' like the king's ransom ==> 4 bars <br>\n",
    "\n",
    "###### Verse:\n",
    "The combination of multiple bars is called Verse"
   ]
  },
  {
   "cell_type": "code",
   "execution_count": 50,
   "metadata": {},
   "outputs": [],
   "source": [
    "# Since we need to read the lyrics bar by bar, then we will be splitting out rap songs collection line by line\n",
    "\n",
    "bars = rap_song_file.split('\\n') "
   ]
  },
  {
   "cell_type": "markdown",
   "metadata": {},
   "source": [
    "<b> <u> Step 3 : Cleaning the bars </b> </u> <br>\n",
    "Cleaning the bars requires carrying out the following process:\n",
    "\n",
    "- Converting characters to the lowercase characters\n",
    "- Removing empty string i.e bar which are empty\n",
    "- Removing special characters from the bars to contain only alphabets and spaces\n",
    "- Removing characters inside [ ] as these are not relevant to the bars we are generating as they contain information regarding the lyrics when being sung. for example [head] ,[proof], [old school hip-hop beat tune plays in the background like a radio station]\n",
    "- Stripping the end charcters (if its a space), this will make the end word not to end with space\n",
    "- Removing the lines which has less than 3 words"
   ]
  },
  {
   "cell_type": "code",
   "execution_count": 51,
   "metadata": {},
   "outputs": [
    {
     "name": "stdout",
     "output_type": "stream",
     "text": [
      "Length of the bars :  28983\n"
     ]
    }
   ],
   "source": [
    "print('Length of the bars : ', len(bars))"
   ]
  },
  {
   "cell_type": "code",
   "execution_count": 52,
   "metadata": {},
   "outputs": [
    {
     "name": "stdout",
     "output_type": "stream",
     "text": [
      "There are characters inside [ ], these are of no significance. For example : \n",
      "\n",
      " ['', '', '', '[old school hip-hop beat tune plays in the background like a radio station]', '']\n"
     ]
    }
   ],
   "source": [
    "# removing the charcacters inside [] and converting the bars to lowercase\n",
    "\n",
    "import re\n",
    "print('There are characters inside [ ], these are of no significance. For example : \\n\\n' , bars[85:90])\n",
    "new_bars = []\n",
    "for bar in bars:\n",
    "    bar = re.sub(r'\\[.*?\\]', '', bar)\n",
    "    bar = re.sub(r'\\(.*?\\)', '', bar)\n",
    "    new_bars.append(bar.lower())\n",
    "bars = new_bars\n"
   ]
  },
  {
   "cell_type": "code",
   "execution_count": 53,
   "metadata": {},
   "outputs": [
    {
     "name": "stdout",
     "output_type": "stream",
     "text": [
      "[\"but when i hear the beat i'm tempted to make another attempt at it...\", \"i'm infinite\", '', \"'95, '96 \", 'and on and on and on ', '', '', '', '', '']\n"
     ]
    }
   ],
   "source": [
    "# We need to remove the empty_strings in bar\n",
    "\n",
    "print(bars[80:90]) # we see that there are some empty strings in the file\n",
    "bars = list(filter(None, bars)) ## filter out the strings with None"
   ]
  },
  {
   "cell_type": "code",
   "execution_count": 54,
   "metadata": {},
   "outputs": [
    {
     "data": {
      "text/plain": [
       "['it goes by the name of eminem',\n",
       " 'and it\\'s called \"it\\'s ok\"',\n",
       " ' check it out, ',\n",
       " ' hey kyu!',\n",
       " \"it's a broke day but everything is ok \"]"
      ]
     },
     "execution_count": 54,
     "metadata": {},
     "output_type": "execute_result"
    }
   ],
   "source": [
    "bars[85:90] # empty string have been removed"
   ]
  },
  {
   "cell_type": "code",
   "execution_count": 55,
   "metadata": {},
   "outputs": [],
   "source": [
    "# Subsituting the special characters with empty space, stripping on the end of the strings\n",
    "\n",
    "import re\n",
    "new_bars = []\n",
    "for bar in bars:\n",
    "    bar = re.sub('[^A-Za-z\\s]+', '', bar)\n",
    "    new_bars.append(bar.strip())\n",
    "bars = new_bars"
   ]
  },
  {
   "cell_type": "code",
   "execution_count": 56,
   "metadata": {},
   "outputs": [
    {
     "data": {
      "text/plain": [
       "['it goes by the name of eminem',\n",
       " 'and its called its ok',\n",
       " 'check it out',\n",
       " 'hey kyu',\n",
       " 'its a broke day but everything is ok']"
      ]
     },
     "execution_count": 56,
     "metadata": {},
     "output_type": "execute_result"
    }
   ],
   "source": [
    "bars[85:90]# special characters have been removed"
   ]
  },
  {
   "cell_type": "code",
   "execution_count": 57,
   "metadata": {},
   "outputs": [],
   "source": [
    "# remove lines with less than 2 words\n",
    "\n",
    "b = []\n",
    "for pos, bar in enumerate(bars):\n",
    "    count_words_bar = len(re.findall(r'\\w+', bar)) \n",
    "    if count_words_bar < 4:\n",
    "        del bars[pos]\n",
    "    else:\n",
    "        b.append(bar)\n",
    "        continue\n",
    "bars = b"
   ]
  },
  {
   "cell_type": "code",
   "execution_count": 58,
   "metadata": {},
   "outputs": [],
   "source": [
    "with open('./cleaned_Rap.txt', 'w') as f:\n",
    "    for item in bars:\n",
    "        f.write(\"%s\\n\" % item)"
   ]
  },
  {
   "cell_type": "code",
   "execution_count": 59,
   "metadata": {},
   "outputs": [
    {
     "name": "stdout",
     "output_type": "stream",
     "text": [
      "Length of the bars :  20007\n"
     ]
    }
   ],
   "source": [
    "print('Length of the bars : ', len(bars))"
   ]
  },
  {
   "cell_type": "markdown",
   "metadata": {},
   "source": [
    "<b> <u> Step 4 : Visualizing the dataset </b> </u>"
   ]
  },
  {
   "cell_type": "code",
   "execution_count": 60,
   "metadata": {},
   "outputs": [],
   "source": [
    "# creating a word cloud of the most used words in a lyrics\n",
    "\n",
    "import matplotlib.pyplot as plt\n",
    "from wordcloud import WordCloud"
   ]
  },
  {
   "cell_type": "code",
   "execution_count": 61,
   "metadata": {},
   "outputs": [],
   "source": [
    "# combining all the bars into a single string to feed into the wordcloud generate function\n",
    "\n",
    "str_bars = ''\n",
    "str_bars = ' '.join(bars)\n",
    "wordcloud = WordCloud().generate(str_bars)"
   ]
  },
  {
   "cell_type": "code",
   "execution_count": 62,
   "metadata": {},
   "outputs": [
    {
     "data": {
      "image/png": "[encoded data removed]",
      "text/plain": [
       "<Figure size 1080x7200 with 1 Axes>"
      ]
     },
     "metadata": {
      "needs_background": "light"
     },
     "output_type": "display_data"
    }
   ],
   "source": [
    "# forming the word cloud of the most used words in all the raps across\n",
    "\n",
    "plt.figure(figsize=(15,100))\n",
    "plt.title('Word cloud of the most used words', fontsize=30)\n",
    "plt.imshow(wordcloud)\n",
    "plt.axis(\"off\") # added to not display the x and y axis\n",
    "plt.show()"
   ]
  },
  {
   "cell_type": "code",
   "execution_count": 63,
   "metadata": {},
   "outputs": [
    {
     "data": {
      "text/plain": [
       "Text(0, 0.5, 'Number of songs')"
      ]
     },
     "execution_count": 63,
     "metadata": {},
     "output_type": "execute_result"
    },
    {
     "data": {
      "image/png": "[encoded data removed]",
      "text/plain": [
       "<Figure size 1440x360 with 1 Axes>"
      ]
     },
     "metadata": {
      "needs_background": "light"
     },
     "output_type": "display_data"
    }
   ],
   "source": [
    "# visualizing artist and number of songs considered\n",
    "\n",
    "import pandas as pd\n",
    "df_artists = pd.read_excel(r'Rap_songs_artist.xlsx')\n",
    "\n",
    "plt.figure(figsize=(20,5))\n",
    "plt.title('Rap songs artist vs Number of songs', fontsize=30)\n",
    "plt.bar(df_artists['Artist'],df_artists['Songs'], color= 'y')\n",
    "plt.xlabel('Artist', fontsize=20)\n",
    "plt.ylabel('Number of songs', fontsize=20)"
   ]
  },
  {
   "cell_type": "code",
   "execution_count": 64,
   "metadata": {},
   "outputs": [],
   "source": [
    "# counting the number and also count of unique words in the corpus\n",
    "\n",
    "from nltk.tokenize import word_tokenize\n",
    "words_count = word_tokenize(str_bars)"
   ]
  },
  {
   "cell_type": "code",
   "execution_count": 65,
   "metadata": {},
   "outputs": [
    {
     "name": "stdout",
     "output_type": "stream",
     "text": [
      "All the words in the bars :  169885\n",
      "All the unique words in the bars :  11540\n",
      "The total number of bar :  20007\n"
     ]
    }
   ],
   "source": [
    "print('All the words in the bars : ' , len(words_count))\n",
    "print('All the unique words in the bars : ' , len(set(words_count)))\n",
    "print('The total number of bar : ', len(bars))"
   ]
  },
  {
   "cell_type": "markdown",
   "metadata": {},
   "source": [
    "<b> <u> Step 5 : Building the list of rhymes </b> </u>"
   ]
  },
  {
   "cell_type": "code",
   "execution_count": 66,
   "metadata": {},
   "outputs": [],
   "source": [
    "import pronouncing #using this library to find the list of rhyming words"
   ]
  },
  {
   "cell_type": "markdown",
   "metadata": {},
   "source": [
    "<b> Function : rhyming_list_all </b> <br>\n",
    "\n",
    "- Since we are considering the rap with the rhyme scheme to rhyme the last word of a bar, firstly we take out the last word from every bar <br>\n",
    "For example: for the last word rhyme lets consider these 2 bar:\n",
    "            'to get your brain relaxing the zanyacting maniac in action',\n",
    "            'a brainiac in fact son you mainly lack attraction'\n",
    "<br>\n",
    "- Then we are using a function pronouncing.rhymes(last_word). The function is used to find the the set of rhyming words with the last word.\n",
    "<br> \n",
    "For example: pronouncing.rhymes('action') will give us the below output:\n",
    "          ['abstraction', 'attraction', 'classaction', 'contraction', 'diffraction','dissatisfaction',                     'distraction', 'exaction', 'extraction', 'faction', 'fraction', 'inaction', 'infraction',                                       'interaction', 'interaction', 'liquefaction', 'reaction', 'retraction', 'satisfaction', 'satisfaction',                         'subtraction', 'telaction', 'traction', 'transaction']\n",
    "<br>\n",
    "- Then we consider the last 2 characters in every rhyming word which are as a result of pronouncing.rhymes(). As seen from the above example most of the words in the english dictionary rhyme when the last syllable in the word rhyme. The last syllable is mostly the set of last 2 or 3 charcters in the word. <br>\n",
    "<br>\n",
    "- We will create a dictionary of these 2 chracters and their corresponding count.\n",
    "<br>\n",
    "For example: The dictionary of the last 2 charcaters for the word 'action' is: {'on': 24}  <br>\n",
    "<br>\n",
    "- Then we will consider the most repeated 2 charcaters from the dictionary  <br>\n",
    "<br>\n",
    "- This will repeat for all the set of bar and find the last 2 characters and append it in the list"
   ]
  },
  {
   "cell_type": "code",
   "execution_count": 67,
   "metadata": {},
   "outputs": [],
   "source": [
    "def rhyming_list_all(bars):\n",
    "    rhyme_list_all = []\n",
    "    rhyming_list_final = []\n",
    "    for bar in bars:\n",
    "        # taking the last word in each bar\n",
    "        last_word = re.sub(r\"\\W+\", '', bar.split(\" \")[-1]).lower()\n",
    "        # finding the rhyming word for 'last_word'\n",
    "        #print(last_word)\n",
    "        rhyming_words = pronouncing.rhymes(last_word)\n",
    "        #rhyming_words = [x.encode('UTF8') for x in rhyming_words]\n",
    "        #print(rhyming_words)\n",
    "        rhyming_words_ending = []\n",
    "        for rhyming_word in rhyming_words:\n",
    "            rhyming_words_ending.append(rhyming_word[-2:]) # this will pull the last 2 characters from each rhyming word\n",
    "        #print(rhyming_words_ending)\n",
    "        # now we see that which of the 2 characters in the rhyming_words_ending list occur the most\n",
    "        # we used a try catch that if the rhyming word is not found then we will take the last 2 characters of the original word\n",
    "        try:\n",
    "            rhyming_words_ending_most_common = max(set(rhyming_words_ending), key = rhyming_words_ending.count)\n",
    "        except Exception:\n",
    "            rhyming_words_ending_most_common = last_word[-2:]\n",
    "            #print(rhyming_words_ending_most_common)\n",
    "        rhyme_list_all.append(rhyming_words_ending_most_common)\n",
    "        #print(rhyme_list_all)\n",
    "    # now taking the set of the list to get only unique last 2 characters\n",
    "    #print('for loop ended')\n",
    "    rhyme_list_all = list(set(rhyme_list_all))\n",
    "    reverse_list = [x[::-1] for x in rhyme_list_all] #  using slicing syntax to reverse the letters[start,stop,step],\n",
    "    #print(reverse_list)\n",
    "    reverse_list = sorted(reverse_list)# sorting the characters\n",
    "    #print(reverse_list)\n",
    "    # now we will reverse the string again : this is done so that the words with the similar sounds can be taken in order\n",
    "    rhyming_list_final =  [x[::-1] for x in reverse_list]\n",
    "    return rhyming_list_final"
   ]
  },
  {
   "cell_type": "code",
   "execution_count": 68,
   "metadata": {},
   "outputs": [],
   "source": [
    "rhyming_list_final = rhyming_list_all(bars) # contain the list of all common rhyming words (last 2 characters) used in the lyrics across all bars"
   ]
  },
  {
   "cell_type": "code",
   "execution_count": 69,
   "metadata": {},
   "outputs": [
    {
     "name": "stdout",
     "output_type": "stream",
     "text": [
      "286\n",
      "[\"s'\", 'a', 'ba', 'ca', 'da', 'ea', 'ga', 'ha', 'ia', 'ja', 'ka', 'la', 'ma', 'na', 'pa', 'ra', 'sa', 'ta', 'ua', 'va', 'ya', 'za', 'ab', 'eb', 'ib', 'ob', 'rb', 'ub', 'ac', 'bc', 'fc', 'gc', 'ic', 'mc', 'nc', 'oc', 'ad', 'ed', 'id', 'ld', 'nd', 'od', 'rd', 'ud', 'vd', 'be', 'ce', 'de', 'ee', 'fe', 'ge', 'he', 'ie', 'ke', 'le', 'me', 'ne', 'oe', 'pe', 're', 'se', 'te', 'ue', 've', 'ye', 'ze', 'af', 'ef', 'ff', 'if', 'lf', 'of', 'rf', 'tf', 'ag', 'bg', 'eg', 'gg', 'ig', 'ng', 'og', 'pg', 'rg', 'ug', 'wg', 'ah', 'ch', 'eh', 'gh', 'hh', 'ih', 'oh', 'ph', 'sh', 'th', 'uh', 'ai', 'ci', 'di', 'fi', 'gi', 'hi', 'ii', 'ki', 'li', 'mi', 'ni', 'oi', 'pi', 'ri', 'si', 'ti', 'zi', 'pj', 'tj', 'ak', 'ck', 'ek', 'ik', 'lk', 'nk', 'ok', 'rk', 'sk', 'al', 'el', 'hl', 'il', 'll', 'ol', 'rl', 'tl', 'ul', 'wl', 'xl', 'am', 'bm', 'em', 'hm', 'im', 'lm', 'mm', 'om', 'rm', 'sm', 'um', 'an', 'en', 'gn', 'in', 'mn', 'nn', 'on', 'rn', 'un', 'wn', 'yn', 'ao', 'bo', 'co', 'do', 'eo', 'fo', 'go', 'io', 'jo', 'ko', 'lo', 'mo', 'no', 'oo', 'po', 'ro', 'to', 'vo', 'wo', 'yo', 'zo', 'ap', 'dp', 'ep', 'ip', 'lp', 'mp', 'op', 'pp', 'rp', 'sp', 'up', 'ar', 'cr', 'dr', 'er', 'ir', 'jr', 'or', 'pr', 'rr', 'ur', \"'s\", 'as', 'bs', 'cs', 'ds', 'es', 'fs', 'gs', 'hs', 'is', 'js', 'ks', 'ls', 'ms', 'ns', 'os', 'ps', 'rs', 'ss', 'ts', 'us', 'vs', 'ws', 'ys', 'at', 'ct', 'et', 'ft', 'ht', 'it', 'lt', 'nt', 'ot', 'pt', 'rt', 'st', 'tt', 'ut', 'au', 'cu', 'ru', 'uu', 'av', 'iv', 'lv', 'ov', 'aw', 'ew', 'lw', 'ow', 'ww', 'ax', 'ex', 'ix', 'ox', 'ay', 'by', 'cy', 'dy', 'ey', 'fy', 'gy', 'hy', 'ky', 'ly', 'my', 'ny', 'oy', 'py', 'ry', 'sy', 'ty', 'vy', 'xy', 'yy', 'zy', 'az', 'ez', 'gz', 'iz', 'lz', 'oz', 'pz', 'tz', 'uz', 'yz', 'zz']\n"
     ]
    }
   ],
   "source": [
    "print(len(rhyming_list_final)) # lenth of the common rhyming words used in the lyrics across all bars\n",
    "print(rhyming_list_final)"
   ]
  },
  {
   "cell_type": "markdown",
   "metadata": {},
   "source": [
    "<b> <u> Step 6 : We will count the syallables in a sentence  </b> </u>"
   ]
  },
  {
   "cell_type": "markdown",
   "metadata": {},
   "source": [
    "### What is a syllables:\n",
    "- A syllable is a single, unbroken sound of a spoken (or written) word. Syllables usually contain a vowel and accompanying consonants <br>  \n",
    "- EXAMPLE: Water has two syllables (wa / ter), Computer has three syllables (com / pu / ter)<br>\n",
    "\n",
    "### why do we need syllables in rap song?:\n",
    "- Counting syllables is an excellent skill <br>\n",
    "- Important part of the structure of your rhymes is syllable structure<br>\n",
    "- The syllables in each line will create a beat in your rap<br>\n",
    "- Generally, by drawing out a line with too many syllables, or making a line too short with too few syllables, you can disrupt the beat of your rap<br>\n",
    "- Avoid this by trying to balance rhyming lines to have the same number of beats<br>\n",
    "\n",
    "### To note: \n",
    "- We are considering the maximun number of syllables for out rap song to be the average number of syllables across each bar in bars\n",
    "\n",
    "                    <b> Average syllables = [sum of syllables across each bar] / [total number of bar] </b>"
   ]
  },
  {
   "cell_type": "code",
   "execution_count": 70,
   "metadata": {},
   "outputs": [],
   "source": [
    "import syllables\n",
    "syllable_list_bar = []\n",
    "def find_syllables_count(bar):\n",
    "    syllable_list_bar.append(syllables.estimate(bar))\n",
    "    estimate = syllables.estimate(bar)/12 # average syllables count in a bar\n",
    "    estimate = round(estimate,3)\n",
    "    return estimate"
   ]
  },
  {
   "cell_type": "markdown",
   "metadata": {},
   "source": [
    "<b> <u>Step 7: we would convert the index of our rhyming 2 character into float value</b> </u>"
   ]
  },
  {
   "cell_type": "markdown",
   "metadata": {},
   "source": [
    "- Now our aim is to give a score to list of the last 2 unique charactes list we formed earlier. This is done in order to give closer score to the words which end with the same syllable sound.\n",
    "\n",
    "- To calculate the value for the index position, we are using the formula:\n",
    "                [Index position of the 2 charcaters in the list] / [Total length of the list]\n"
   ]
  },
  {
   "cell_type": "code",
   "execution_count": 71,
   "metadata": {},
   "outputs": [],
   "source": [
    "\n",
    "# we are doing the following steps to see that how close the rhyming words are each other\n",
    "# This will make the last words which are similar in rhyme to get closer scores\n",
    "\n",
    "def index_rhyming_word_to_float(rhyming_list_final, bar):\n",
    "    word = re.sub(r\"\\W+\", '', bar.split(\" \")[-1]).lower()\n",
    "    rhymeslist = pronouncing.rhymes(word)\n",
    "    #rhymeslist = [x.encode('UTF8') for x in rhymeslist]\n",
    "    rhymeslistends = []\n",
    "    for i in rhymeslist:\n",
    "        rhymeslistends.append(i[-2:])\n",
    "    try:\n",
    "        rhymescheme = max(set(rhymeslistends), key=rhymeslistends.count)\n",
    "    except Exception:\n",
    "        rhymescheme = word[-2:]\n",
    "    #print(len(rhymescheme))\n",
    "    try:\n",
    "        float_rhyme = rhyming_list_final.index(rhymescheme)\n",
    "        float_rhyme = float_rhyme / float(len(rhyming_list_final))\n",
    "        float_rhyme = round(float_rhyme,3)\n",
    "        #print(word, float_rhyme)\n",
    "        return float_rhyme\n",
    "    except Exception:\n",
    "        #print(word, float_rhyme)\n",
    "        return None"
   ]
  },
  {
   "cell_type": "markdown",
   "metadata": {},
   "source": [
    "<b> <u>Step 8 : combining the list of bars, syllables and float_rhyme_bar_list to a list</b> </u>"
   ]
  },
  {
   "cell_type": "markdown",
   "metadata": {},
   "source": [
    "- The step is carried out to assign every bar with 2 values:\n",
    "                            1. average syllable count\n",
    "                            2. Float value of the index position\n",
    "- For example:  \n",
    "                ['to get your brain relaxing the zanyacting maniac in action',0.8, 0.5294117647058824],\n",
    "                ['a brainiac in fact son you mainly lack attraction', 0.65,0.5294117647058824]"
   ]
  },
  {
   "cell_type": "code",
   "execution_count": 72,
   "metadata": {},
   "outputs": [
    {
     "name": "stdout",
     "output_type": "stream",
     "text": [
      "0\n"
     ]
    },
    {
     "ename": "ZeroDivisionError",
     "evalue": "division by zero",
     "output_type": "error",
     "traceback": [
      "\u001b[1;31m---------------------------------------------------------------------------\u001b[0m",
      "\u001b[1;31mZeroDivisionError\u001b[0m                         Traceback (most recent call last)",
      "\u001b[1;32m<ipython-input-72-93e750b3ca18>\u001b[0m in \u001b[0;36m<module>\u001b[1;34m\u001b[0m\n\u001b[0;32m      1\u001b[0m \u001b[0mprint\u001b[0m\u001b[1;33m(\u001b[0m\u001b[0mlen\u001b[0m\u001b[1;33m(\u001b[0m\u001b[0msyllable_list_bar\u001b[0m\u001b[1;33m)\u001b[0m\u001b[1;33m)\u001b[0m\u001b[1;33m\u001b[0m\u001b[1;33m\u001b[0m\u001b[0m\n\u001b[1;32m----> 2\u001b[1;33m \u001b[0maverage\u001b[0m \u001b[1;33m=\u001b[0m \u001b[0msum\u001b[0m\u001b[1;33m(\u001b[0m\u001b[0msyllable_list_bar\u001b[0m\u001b[1;33m)\u001b[0m\u001b[1;33m/\u001b[0m\u001b[1;33m(\u001b[0m\u001b[0mlen\u001b[0m\u001b[1;33m(\u001b[0m\u001b[0msyllable_list_bar\u001b[0m\u001b[1;33m)\u001b[0m\u001b[1;33m)\u001b[0m\u001b[1;33m\u001b[0m\u001b[1;33m\u001b[0m\u001b[0m\n\u001b[0m\u001b[0;32m      3\u001b[0m \u001b[0mprint\u001b[0m\u001b[1;33m(\u001b[0m\u001b[1;34m'Average syllables per bar'\u001b[0m\u001b[1;33m,\u001b[0m \u001b[0maverage\u001b[0m\u001b[1;33m)\u001b[0m\u001b[1;33m\u001b[0m\u001b[1;33m\u001b[0m\u001b[0m\n",
      "\u001b[1;31mZeroDivisionError\u001b[0m: division by zero"
     ]
    }
   ],
   "source": [
    "print(len(syllable_list_bar))\n",
    "average = sum(syllable_list_bar)/(len(syllable_list_bar))\n",
    "print('Average syllables per bar', average)"
   ]
  },
  {
   "cell_type": "code",
   "execution_count": 73,
   "metadata": {},
   "outputs": [],
   "source": [
    "data_set = []\n",
    "values_data_set = []\n",
    "for bar in bars:\n",
    "    values_data_set = [bar, find_syllables_count(bar), index_rhyming_word_to_float(rhyming_list_final, bar)]\n",
    "    data_set.append(values_data_set)"
   ]
  },
  {
   "cell_type": "markdown",
   "metadata": {},
   "source": [
    "### What is a verse:\n",
    "- Writing arranged with a metrical rhythm, typically having a rhyme <br>\n",
    "\n",
    "### why do we need verse in rap song?:\n",
    "- Verses are an important componenent of any song <br>\n",
    "- The duration is usually 16 bars, but the verse may last 8 bars, 12 bars, or 24 bars.<br>\n",
    "- As seen from the above patten, we will consider a verse of length 4<br>\n"
   ]
  },
  {
   "cell_type": "markdown",
   "metadata": {},
   "source": [
    " <b> <u> Step 9 : creating the X and y for the lstm model </b> </u>"
   ]
  },
  {
   "cell_type": "markdown",
   "metadata": {},
   "source": [
    "- The following step is executed to create the dataset with features and labels\n",
    "- we are looping over all the bar in bars and creating the dataset in the following pattern:\n",
    "                        Combination 1 and Combination 2 ==> Features\n",
    "                        Combination 3 and Combination 4 ==> Labels\n",
    "- The process is being done so that the we can prepare a data set where every 2 bar is predicting the next 2 bars in the lyrics"
   ]
  },
  {
   "cell_type": "code",
   "execution_count": 165,
   "metadata": {},
   "outputs": [],
   "source": [
    "import numpy as np\n",
    "X = []\n",
    "y = []\n",
    "i = 0\n",
    "for data in range(len(data_set) - 3):\n",
    "    \n",
    "    # this would create feature and labels as follows:\n",
    "    # for example: if features ==> line 1, line 2, then labels ==> line 3, line 4\n",
    "    # if features ==>  line 2, line 3, then labels ==> line4, line 5\n",
    "    \n",
    "    bar_1 = data_set[data][1:]\n",
    "    bar_2 = data_set[data + 1][1:]\n",
    "    bar_3 = data_set[data + 2][1:]\n",
    "    bar_4 = data_set[data + 3][1:]       \n",
    "\n",
    "    feature = [bar_1[0], bar_1[1], bar_2[0], bar_2[1]]\n",
    "    label = [bar_3[0], bar_3[1], bar_4[0], bar_4[1]]\n",
    "\n",
    "    feature = np.array(feature)\n",
    "    label = np.array(label)\n",
    "   \n",
    "    feature = feature.reshape(2,2)\n",
    "    label = label.reshape(2,2)\n",
    " \n",
    "    X.append(feature)\n",
    "    y.append(label)\n",
    "X = np.array(X)\n",
    "y = np.array(y)"
   ]
  },
  {
   "cell_type": "markdown",
   "metadata": {},
   "source": [
    "- As seen below, the X and Y are numpy arrays, where each X and y has a shape (total number of elements, 2,2)"
   ]
  },
  {
   "cell_type": "code",
   "execution_count": 166,
   "metadata": {},
   "outputs": [
    {
     "name": "stdout",
     "output_type": "stream",
     "text": [
      "X ====>  \n",
      " [[[1.333 0.178]\n",
      "  [0.417 0.276]]\n",
      "\n",
      " [[1.083 0.531]\n",
      "  [1.333 0.538]]]\n",
      "\n",
      "y ====> \n",
      " [[[0.667 0.759]\n",
      "  [1.333 0.531]]\n",
      "\n",
      " [[0.75  0.738]\n",
      "  [1.333 0.738]]]\n"
     ]
    }
   ],
   "source": [
    "print('X ====>  \\n', X[:2])\n",
    "print('\\ny ====> \\n', y[:2])"
   ]
  },
  {
   "cell_type": "markdown",
   "metadata": {},
   "source": [
    " <b> <u> Step 10 : LSTM Model </b> </u>"
   ]
  },
  {
   "cell_type": "markdown",
   "metadata": {},
   "source": [
    "- We are using the LSTM model for training and validation\n",
    "- The lSTM model would learn to find the rhyming pattern in the text which we will feed in the form of X and y"
   ]
  },
  {
   "cell_type": "code",
   "execution_count": 167,
   "metadata": {},
   "outputs": [],
   "source": [
    "# step 9 : creating the lstm model for training\n",
    "from keras.models import Sequential\n",
    "from keras.layers import LSTM\n",
    "from keras.layers.core import Dense\n",
    "from tensorflow.python.keras.callbacks import TensorBoard"
   ]
  },
  {
   "cell_type": "code",
   "execution_count": 168,
   "metadata": {},
   "outputs": [],
   "source": [
    "from keras import backend\n",
    " \n",
    "def rmse(y_true, y_pred):\n",
    "    return backend.sqrt(backend.mean(backend.square(y_pred - y_true), axis=-1))"
   ]
  },
  {
   "cell_type": "code",
   "execution_count": 169,
   "metadata": {},
   "outputs": [
    {
     "name": "stdout",
     "output_type": "stream",
     "text": [
      "_________________________________________________________________\n",
      "Layer (type)                 Output Shape              Param #   \n",
      "=================================================================\n",
      "lstm_51 (LSTM)               (None, 2, 2)              40        \n",
      "_________________________________________________________________\n",
      "lstm_52 (LSTM)               (None, 2, 4)              112       \n",
      "_________________________________________________________________\n",
      "lstm_53 (LSTM)               (None, 2, 4)              144       \n",
      "_________________________________________________________________\n",
      "lstm_54 (LSTM)               (None, 2, 4)              144       \n",
      "_________________________________________________________________\n",
      "lstm_55 (LSTM)               (None, 2, 2)              56        \n",
      "=================================================================\n",
      "Total params: 496\n",
      "Trainable params: 496\n",
      "Non-trainable params: 0\n",
      "_________________________________________________________________\n"
     ]
    }
   ],
   "source": [
    "import keras\n",
    "import os\n",
    "import tensorflow\n",
    "import datetime\n",
    "model = Sequential()\n",
    "model.add(LSTM(2, input_shape = (2,2), return_sequences = True)) # input shape has time steps is 2 and number of features we have is also 2\n",
    "model.add(LSTM(4, return_sequences = True)) # taking 3 layers with 4 nodes each\n",
    "model.add(LSTM(4, return_sequences = True)) \n",
    "model.add(LSTM(4, return_sequences = True))\n",
    "model.add(LSTM(2, return_sequences = True))\n",
    "model.summary()\n",
    "\n",
    "sgd = keras.optimizers.SGD(lr=0.01) # have defined the learning rate as 0.01, so that model can converge faster(it also has disadvantages)\n",
    "\n",
    "model.compile(optimizer = sgd , loss = 'mse', metrics=[rmse]) # the optimizer function 'Stochastic gradient descent': optimizes the gradient descent and the the loss function: mse: \"mean_squared_error  as its a regression problem"
   ]
  },
  {
   "cell_type": "code",
   "execution_count": 170,
   "metadata": {},
   "outputs": [],
   "source": [
    "# we tried alot of possible combinations of model paramters but these were the best set of parameters for LSTM as seen from the graph of loss and Root mean squared error"
   ]
  },
  {
   "cell_type": "code",
   "execution_count": 171,
   "metadata": {
    "scrolled": true
   },
   "outputs": [
    {
     "name": "stdout",
     "output_type": "stream",
     "text": [
      "Train on 3500 samples, validate on 1501 samples\n",
      "Epoch 1/60\n",
      "3500/3500 [==============================] - 9s 3ms/step - loss: 0.6451 - rmse: 0.7780 - val_loss: 0.5488 - val_rmse: 0.7120\n",
      "Epoch 2/60\n",
      "3500/3500 [==============================] - 0s 99us/step - loss: 0.6026 - rmse: 0.7501 - val_loss: 0.5117 - val_rmse: 0.6853\n",
      "Epoch 3/60\n",
      "3500/3500 [==============================] - 0s 99us/step - loss: 0.5653 - rmse: 0.7249 - val_loss: 0.4797 - val_rmse: 0.6615\n",
      "Epoch 4/60\n",
      "3500/3500 [==============================] - 0s 103us/step - loss: 0.5333 - rmse: 0.7024 - val_loss: 0.4525 - val_rmse: 0.6404\n",
      "Epoch 5/60\n",
      "3500/3500 [==============================] - 0s 100us/step - loss: 0.5061 - rmse: 0.6826 - val_loss: 0.4294 - val_rmse: 0.6220\n",
      "Epoch 6/60\n",
      "3500/3500 [==============================] - 0s 102us/step - loss: 0.4829 - rmse: 0.6654 - val_loss: 0.4097 - val_rmse: 0.6059\n",
      "Epoch 7/60\n",
      "3500/3500 [==============================] - 0s 108us/step - loss: 0.4631 - rmse: 0.6502 - val_loss: 0.3928 - val_rmse: 0.5917\n",
      "Epoch 8/60\n",
      "3500/3500 [==============================] - 0s 103us/step - loss: 0.4459 - rmse: 0.6369 - val_loss: 0.3781 - val_rmse: 0.5790\n",
      "Epoch 9/60\n",
      "3500/3500 [==============================] - 0s 101us/step - loss: 0.4309 - rmse: 0.6249 - val_loss: 0.3653 - val_rmse: 0.5678\n",
      "Epoch 10/60\n",
      "3500/3500 [==============================] - 0s 103us/step - loss: 0.4176 - rmse: 0.6142 - val_loss: 0.3538 - val_rmse: 0.5576\n",
      "Epoch 11/60\n",
      "3500/3500 [==============================] - 0s 110us/step - loss: 0.4057 - rmse: 0.6044 - val_loss: 0.3436 - val_rmse: 0.5483\n",
      "Epoch 12/60\n",
      "3500/3500 [==============================] - 0s 100us/step - loss: 0.3950 - rmse: 0.5955 - val_loss: 0.3343 - val_rmse: 0.5398\n",
      "Epoch 13/60\n",
      "3500/3500 [==============================] - 0s 112us/step - loss: 0.3852 - rmse: 0.5873 - val_loss: 0.3258 - val_rmse: 0.5319\n",
      "Epoch 14/60\n",
      "3500/3500 [==============================] - 0s 101us/step - loss: 0.3762 - rmse: 0.5796 - val_loss: 0.3179 - val_rmse: 0.5245\n",
      "Epoch 15/60\n",
      "3500/3500 [==============================] - 0s 105us/step - loss: 0.3678 - rmse: 0.5724 - val_loss: 0.3107 - val_rmse: 0.5176\n",
      "Epoch 16/60\n",
      "3500/3500 [==============================] - 0s 107us/step - loss: 0.3601 - rmse: 0.5656 - val_loss: 0.3039 - val_rmse: 0.5110\n",
      "Epoch 17/60\n",
      "3500/3500 [==============================] - 0s 103us/step - loss: 0.3528 - rmse: 0.5592 - val_loss: 0.2975 - val_rmse: 0.5049\n",
      "Epoch 18/60\n",
      "3500/3500 [==============================] - 0s 106us/step - loss: 0.3459 - rmse: 0.5531 - val_loss: 0.2915 - val_rmse: 0.4990\n",
      "Epoch 19/60\n",
      "3500/3500 [==============================] - 0s 111us/step - loss: 0.3393 - rmse: 0.5472 - val_loss: 0.2858 - val_rmse: 0.4933\n",
      "Epoch 20/60\n",
      "3500/3500 [==============================] - 0s 104us/step - loss: 0.3331 - rmse: 0.5416 - val_loss: 0.2804 - val_rmse: 0.4879\n",
      "Epoch 21/60\n",
      "3500/3500 [==============================] - 0s 113us/step - loss: 0.3272 - rmse: 0.5362 - val_loss: 0.2752 - val_rmse: 0.4827\n",
      "Epoch 22/60\n",
      "3500/3500 [==============================] - 0s 108us/step - loss: 0.3215 - rmse: 0.5310 - val_loss: 0.2702 - val_rmse: 0.4777\n",
      "Epoch 23/60\n",
      "3500/3500 [==============================] - 0s 105us/step - loss: 0.3160 - rmse: 0.5259 - val_loss: 0.2654 - val_rmse: 0.4728\n",
      "Epoch 24/60\n",
      "3500/3500 [==============================] - 0s 108us/step - loss: 0.3107 - rmse: 0.5210 - val_loss: 0.2608 - val_rmse: 0.4681\n",
      "Epoch 25/60\n",
      "3500/3500 [==============================] - 0s 106us/step - loss: 0.3056 - rmse: 0.5162 - val_loss: 0.2564 - val_rmse: 0.4635\n",
      "Epoch 26/60\n",
      "3500/3500 [==============================] - 0s 107us/step - loss: 0.3007 - rmse: 0.5115 - val_loss: 0.2521 - val_rmse: 0.4590\n",
      "Epoch 27/60\n",
      "3500/3500 [==============================] - 0s 108us/step - loss: 0.2959 - rmse: 0.5070 - val_loss: 0.2480 - val_rmse: 0.4547\n",
      "Epoch 28/60\n",
      "3500/3500 [==============================] - 0s 110us/step - loss: 0.2913 - rmse: 0.5025 - val_loss: 0.2440 - val_rmse: 0.4504\n",
      "Epoch 29/60\n",
      "3500/3500 [==============================] - 0s 108us/step - loss: 0.2868 - rmse: 0.4982 - val_loss: 0.2401 - val_rmse: 0.4463\n",
      "Epoch 30/60\n",
      "3500/3500 [==============================] - 0s 106us/step - loss: 0.2824 - rmse: 0.4939 - val_loss: 0.2363 - val_rmse: 0.4422\n",
      "Epoch 31/60\n",
      "3500/3500 [==============================] - 0s 111us/step - loss: 0.2781 - rmse: 0.4897 - val_loss: 0.2327 - val_rmse: 0.4383\n",
      "Epoch 32/60\n",
      "3500/3500 [==============================] - 0s 111us/step - loss: 0.2740 - rmse: 0.4856 - val_loss: 0.2291 - val_rmse: 0.4344\n",
      "Epoch 33/60\n",
      "3500/3500 [==============================] - 0s 108us/step - loss: 0.2699 - rmse: 0.4816 - val_loss: 0.2256 - val_rmse: 0.4306\n",
      "Epoch 34/60\n",
      "3500/3500 [==============================] - 0s 108us/step - loss: 0.2659 - rmse: 0.4776 - val_loss: 0.2222 - val_rmse: 0.4269\n",
      "Epoch 35/60\n",
      "3500/3500 [==============================] - 0s 118us/step - loss: 0.2621 - rmse: 0.4738 - val_loss: 0.2189 - val_rmse: 0.4233\n",
      "Epoch 36/60\n",
      "3500/3500 [==============================] - 0s 117us/step - loss: 0.2583 - rmse: 0.4700 - val_loss: 0.2157 - val_rmse: 0.4197\n",
      "Epoch 37/60\n",
      "3500/3500 [==============================] - 0s 114us/step - loss: 0.2546 - rmse: 0.4662 - val_loss: 0.2126 - val_rmse: 0.4162\n",
      "Epoch 38/60\n",
      "3500/3500 [==============================] - 0s 129us/step - loss: 0.2510 - rmse: 0.4625 - val_loss: 0.2095 - val_rmse: 0.4128\n",
      "Epoch 39/60\n",
      "3500/3500 [==============================] - 0s 142us/step - loss: 0.2475 - rmse: 0.4589 - val_loss: 0.2065 - val_rmse: 0.4094\n",
      "Epoch 40/60\n",
      "3500/3500 [==============================] - 0s 130us/step - loss: 0.2440 - rmse: 0.4554 - val_loss: 0.2036 - val_rmse: 0.4062\n",
      "Epoch 41/60\n",
      "3500/3500 [==============================] - 0s 121us/step - loss: 0.2407 - rmse: 0.4519 - val_loss: 0.2008 - val_rmse: 0.4029\n",
      "Epoch 42/60\n",
      "3500/3500 [==============================] - 0s 116us/step - loss: 0.2374 - rmse: 0.4484 - val_loss: 0.1980 - val_rmse: 0.3998\n",
      "Epoch 43/60\n",
      "3500/3500 [==============================] - 0s 112us/step - loss: 0.2341 - rmse: 0.4450 - val_loss: 0.1953 - val_rmse: 0.3967\n",
      "Epoch 44/60\n",
      "3500/3500 [==============================] - 0s 122us/step - loss: 0.2310 - rmse: 0.4417 - val_loss: 0.1926 - val_rmse: 0.3936\n",
      "Epoch 45/60\n",
      "3500/3500 [==============================] - 0s 120us/step - loss: 0.2279 - rmse: 0.4384 - val_loss: 0.1900 - val_rmse: 0.3907\n",
      "Epoch 46/60\n",
      "3500/3500 [==============================] - 0s 116us/step - loss: 0.2249 - rmse: 0.4352 - val_loss: 0.1875 - val_rmse: 0.3877\n",
      "Epoch 47/60\n",
      "3500/3500 [==============================] - 0s 113us/step - loss: 0.2219 - rmse: 0.4320 - val_loss: 0.1851 - val_rmse: 0.3849\n",
      "Epoch 48/60\n",
      "3500/3500 [==============================] - 0s 114us/step - loss: 0.2190 - rmse: 0.4289 - val_loss: 0.1826 - val_rmse: 0.3821\n",
      "Epoch 49/60\n",
      "3500/3500 [==============================] - 0s 121us/step - loss: 0.2161 - rmse: 0.4258 - val_loss: 0.1803 - val_rmse: 0.3793\n",
      "Epoch 50/60\n",
      "3500/3500 [==============================] - 0s 115us/step - loss: 0.2133 - rmse: 0.4228 - val_loss: 0.1780 - val_rmse: 0.3766\n",
      "Epoch 51/60\n",
      "3500/3500 [==============================] - ETA: 0s - loss: 0.2101 - rmse: 0.41 - 0s 113us/step - loss: 0.2106 - rmse: 0.4198 - val_loss: 0.1758 - val_rmse: 0.3740\n",
      "Epoch 52/60\n",
      "3500/3500 [==============================] - 0s 124us/step - loss: 0.2080 - rmse: 0.4169 - val_loss: 0.1736 - val_rmse: 0.3714\n",
      "Epoch 53/60\n",
      "3500/3500 [==============================] - 0s 115us/step - loss: 0.2053 - rmse: 0.4140 - val_loss: 0.1714 - val_rmse: 0.3689\n",
      "Epoch 54/60\n",
      "3500/3500 [==============================] - 0s 113us/step - loss: 0.2028 - rmse: 0.4112 - val_loss: 0.1694 - val_rmse: 0.3664\n",
      "Epoch 55/60\n",
      "3500/3500 [==============================] - 0s 121us/step - loss: 0.2003 - rmse: 0.4084 - val_loss: 0.1673 - val_rmse: 0.3640\n",
      "Epoch 56/60\n",
      "3500/3500 [==============================] - 0s 127us/step - loss: 0.1978 - rmse: 0.4057 - val_loss: 0.1653 - val_rmse: 0.3616\n",
      "Epoch 57/60\n",
      "3500/3500 [==============================] - 0s 121us/step - loss: 0.1954 - rmse: 0.4030 - val_loss: 0.1634 - val_rmse: 0.3593\n",
      "Epoch 58/60\n",
      "3500/3500 [==============================] - 0s 119us/step - loss: 0.1931 - rmse: 0.4004 - val_loss: 0.1615 - val_rmse: 0.3570\n",
      "Epoch 59/60\n"
     ]
    },
    {
     "name": "stdout",
     "output_type": "stream",
     "text": [
      "3500/3500 [==============================] - 0s 110us/step - loss: 0.1908 - rmse: 0.3978 - val_loss: 0.1597 - val_rmse: 0.3548\n",
      "Epoch 60/60\n",
      "3500/3500 [==============================] - 0s 112us/step - loss: 0.1885 - rmse: 0.3953 - val_loss: 0.1579 - val_rmse: 0.3526\n"
     ]
    }
   ],
   "source": [
    "# fitting the model\n",
    "history_train_with_train = model.fit(np.array(X), np.array(y),epochs = 60,verbose = 1,batch_size= 100, validation_split=0.30,callbacks=[tensorflow.keras.callbacks.TensorBoard('logs')])"
   ]
  },
  {
   "cell_type": "code",
   "execution_count": null,
   "metadata": {},
   "outputs": [],
   "source": [
    "# We can visualize in tensor board the flow of the model\n",
    "# Load TENSORBOARD\n",
    "%load_ext tensorboard.notebook\n",
    "# Start TENSORBOARD\n",
    "%tensorboard --logdir logs\n",
    "%reload_ext tensorboard.notebook\n"
   ]
  },
  {
   "cell_type": "markdown",
   "metadata": {},
   "source": [
    "##### The percentage of error across train and validation\n",
    "- Train : 23.64 %\n",
    "- Validation : 23.44 %"
   ]
  },
  {
   "cell_type": "code",
   "execution_count": 151,
   "metadata": {},
   "outputs": [
    {
     "data": {
      "image/png": "[encoded data removed]",
      "text/plain": [
       "<Figure size 432x288 with 1 Axes>"
      ]
     },
     "metadata": {
      "needs_background": "light"
     },
     "output_type": "display_data"
    },
    {
     "data": {
      "image/png": "[encoded data removed]",
      "text/plain": [
       "<Figure size 432x288 with 1 Axes>"
      ]
     },
     "metadata": {
      "needs_background": "light"
     },
     "output_type": "display_data"
    }
   ],
   "source": [
    "# summarize history for loss\n",
    "import matplotlib.pyplot as plt\n",
    "\n",
    "plt.plot(history_train_with_train.history['loss'][:],linewidth=2)\n",
    "plt.plot(history_train_with_train.history['val_loss'][:],linewidth=2)\n",
    "\n",
    "plt.title('model train vs validation loss')\n",
    "plt.ylabel('LOSS')\n",
    "plt.xlabel('EPOCH')\n",
    "plt.legend(['train', 'validation'], loc='upper right')\n",
    "plt.show()\n",
    "\n",
    "plt.plot(history_train_with_train.history['rmse'],linewidth=3)\n",
    "plt.plot(history_train_with_train.history['val_rmse'],linewidth=3)\n",
    "plt.title('model RMSE vs validation RMSE')\n",
    "plt.ylabel('RMSE')\n",
    "plt.xlabel('EPOCH')\n",
    "plt.legend(['train', 'validation'], loc='upper right')\n",
    "plt.show()\n",
    "plt.show()"
   ]
  },
  {
   "cell_type": "markdown",
   "metadata": {},
   "source": [
    "<b> <u> Step 11 : Creating new senetences using Markov chain </b> </u>\n",
    "- The step is carried out to create new sentences which could be the part of the new lyrics"
   ]
  },
  {
   "cell_type": "code",
   "execution_count": 106,
   "metadata": {},
   "outputs": [],
   "source": [
    "# step 10 : now we will generate new lyrics using markov chain by creating a markov_text object, which would be used to make sentences later\n",
    "import markovify\n",
    "markov_text = markovify.NewlineText(rap_song_file)"
   ]
  },
  {
   "cell_type": "code",
   "execution_count": 107,
   "metadata": {},
   "outputs": [],
   "source": [
    "def get_last_word(bar):\n",
    "    last_word = bar.split(\" \")[-1]\n",
    "    # if the last word is punctuation, get the word before it\n",
    "    if last_word[-1] in \"!.?,\":\n",
    "        last_word = last_word[:-1]\n",
    "    return last_word"
   ]
  },
  {
   "cell_type": "code",
   "execution_count": 108,
   "metadata": {},
   "outputs": [],
   "source": [
    "def generate_lyrics():\n",
    "    bars_new_lyrics = []\n",
    "    last_words = []\n",
    "    lyriclength = len(bars)\n",
    "    count = 0\n",
    "    #markov_model = markov_text((\". \").join('songs.txt') + \".\")\n",
    "\n",
    "    while len(bars_new_lyrics) < lyriclength / 9 and count < lyriclength * 2:\n",
    "        # By default, the make_sentence method tries, a maximum of 10 times per invocation,\n",
    "        # to make a sentence that doesn't overlap too much with the original text.\n",
    "        # If it is successful, the method returns the sentence as a string.\n",
    "        # If not, it returns None. (https://github.com/jsvine/markovify)\n",
    "        bar = markov_text.make_sentence()\n",
    "        #print(bar)\n",
    "        # make sure the bar isn't 'None' and that the amount of\n",
    "        # syllables is under the max syllables\n",
    "        if type(bar) != type(None) and find_syllables_count(bar) < 1:\n",
    "\n",
    "            # function to get the last word of the bar\n",
    "            def get_last_word(bar):\n",
    "                last_word = bar.split(\" \")[-1]\n",
    "                # if the last word is punctuation, get the word before it\n",
    "                if last_word[-1] in \"!.?,\":\n",
    "                    last_word = last_word[:-1]\n",
    "                return last_word\n",
    "\n",
    "            last_word = get_last_word(bar)\n",
    "            # only use the bar if it is unique and the last_word\n",
    "            # has only been seen less than 3 times\n",
    "            if bar not in bars_new_lyrics and last_words.count(last_word) < 3:\n",
    "                bars_new_lyrics.append(bar)\n",
    "                last_words.append(last_word)\n",
    "                count += 1\n",
    "\n",
    "    return bars_new_lyrics"
   ]
  },
  {
   "cell_type": "code",
   "execution_count": 109,
   "metadata": {},
   "outputs": [],
   "source": [
    "bars_new_lyrics = generate_lyrics()"
   ]
  },
  {
   "cell_type": "code",
   "execution_count": 110,
   "metadata": {},
   "outputs": [],
   "source": [
    "# using this method to clear any special characters from the newly generated sentences \n",
    "new_bars = []\n",
    "for bar in bars_new_lyrics:\n",
    "    bar = re.sub('[^A-Za-z\\s]+', '', bar)\n",
    "    new_bars.append(bar.strip())\n",
    "bars_new_lyrics = new_bars"
   ]
  },
  {
   "cell_type": "code",
   "execution_count": 143,
   "metadata": {},
   "outputs": [
    {
     "data": {
      "text/plain": [
       "['when they sell clothes',\n",
       " 'i dont want it all looks great',\n",
       " 'from principal to the kitchen',\n",
       " 'i sell a watch and just circle the mall up',\n",
       " 'and they ship it like a happy meal',\n",
       " 'don corleone the big screen',\n",
       " 'the industry and made him real real mad',\n",
       " 'now she back that thing in the car',\n",
       " 'but this is what she wrote',\n",
       " 'i just dont get to get you outta my mind']"
      ]
     },
     "execution_count": 143,
     "metadata": {},
     "output_type": "execute_result"
    }
   ],
   "source": [
    "bars_new_lyrics[0:10] # sample of some sentence created using markov chain"
   ]
  },
  {
   "cell_type": "code",
   "execution_count": 112,
   "metadata": {},
   "outputs": [
    {
     "name": "stdout",
     "output_type": "stream",
     "text": [
      "Length of the newly generated bar using markov chain :  2223\n"
     ]
    }
   ],
   "source": [
    "print('Length of the newly generated bar using markov chain : ' , len(bars_new_lyrics))"
   ]
  },
  {
   "cell_type": "code",
   "execution_count": 113,
   "metadata": {},
   "outputs": [],
   "source": [
    "# repeating the same process to find the list of rhyming characters and creating a list\n",
    "rhyming_list_final_new_lyrics = rhyming_list_all(bars_new_lyrics)"
   ]
  },
  {
   "cell_type": "code",
   "execution_count": 114,
   "metadata": {},
   "outputs": [
    {
     "data": {
      "text/plain": [
       "[\"s'\", 'a', 'ca', 'da', 'ga', 'ia', 'ka', 'la', 'ma', 'na']"
      ]
     },
     "execution_count": 114,
     "metadata": {},
     "output_type": "execute_result"
    }
   ],
   "source": [
    "rhyming_list_final_new_lyrics[:10] # some of the rhyming characters"
   ]
  },
  {
   "cell_type": "code",
   "execution_count": 115,
   "metadata": {},
   "outputs": [
    {
     "name": "stdout",
     "output_type": "stream",
     "text": [
      "200\n"
     ]
    }
   ],
   "source": [
    "print(len(rhyming_list_final_new_lyrics))"
   ]
  },
  {
   "cell_type": "markdown",
   "metadata": {},
   "source": [
    "<b> <u> Step 12 : Making prediction for the next lines to be considered for generating new rap songs </b> </u>\n",
    "- The step is carried out to select any random index to start from the original lyrics\n",
    "- Then selecting the next line to the randonly selected index\n",
    "- Passing these inputs in the model and getting the prediction\n",
    "- Using the prediction and passing it to the model to get new prediction\n",
    "- This process is repeated to the length of the lyrics we want to achieve"
   ]
  },
  {
   "cell_type": "code",
   "execution_count": 172,
   "metadata": {},
   "outputs": [],
   "source": [
    "import random\n",
    "def predicting_lyrics(lines, rhyming_list_final_new_lyrics, model):\n",
    "    rap_vectors = []\n",
    "    human_lyrics = bars\n",
    "    \n",
    "    # random index to start\n",
    "    initial_index = random.choice(range(len(bars) - 1))\n",
    "    # choosing the next 2 lines corresponding to the index\n",
    "    initial_lines = bars[initial_index:initial_index + 2]\n",
    "\n",
    "    starting_input = []\n",
    "    for line in initial_lines:\n",
    "        starting_input.append([find_syllables_count(line), index_rhyming_word_to_float(rhyming_list_final_new_lyrics,line)])\n",
    "        #print(starting_input)\n",
    "    starting_vectors = model.predict(np.array([starting_input]).flatten().reshape(1, 2, 2))\n",
    "    rap_vectors.append(starting_vectors)\n",
    "    for i in range(50):\n",
    "        \n",
    "        rap_vectors.append(model.predict(np.array([rap_vectors[-1]]).flatten().reshape(1, 2, 2)))\n",
    "    return rap_vectors"
   ]
  },
  {
   "cell_type": "code",
   "execution_count": 173,
   "metadata": {
    "scrolled": true
   },
   "outputs": [],
   "source": [
    "rap_generated_with_prediction = predicting_lyrics(bars_new_lyrics, rhyming_list_final_new_lyrics, model)"
   ]
  },
  {
   "cell_type": "markdown",
   "metadata": {},
   "source": [
    "<b> <u> Step 12 : Making prediction for the next lines to be considered for generating new rap songs </b> </u>\n",
    "- The step is carried out to assign every new lyrics bar with 2 values:\n",
    "                            1. average syllable count\n",
    "                            2. Float value of the index position\n",
    "- For example:  \n",
    "                ['to get your brain relaxing the zanyacting maniac in action',0.8, 0.5294117647058824],\n",
    "                ['a brainiac in fact son you mainly lack attraction', 0.65,0.5294117647058824]"
   ]
  },
  {
   "cell_type": "code",
   "execution_count": 119,
   "metadata": {},
   "outputs": [],
   "source": [
    "dataset_new_lyrics = []\n",
    "for line in bars_new_lyrics:\n",
    "    line_list = [line, find_syllables_count(line), index_rhyming_word_to_float(rhyming_list_final_new_lyrics,line)]\n",
    "    dataset_new_lyrics.append(line_list)"
   ]
  },
  {
   "cell_type": "code",
   "execution_count": 144,
   "metadata": {},
   "outputs": [],
   "source": [
    "# compare the last words to see if they are the same, if they are\n",
    "# increment a penalty variable which grants penalty points for being\n",
    "# uncreative\n",
    "def comparing_last_words_bars(rap, line2):\n",
    "    additional_penalising = 0\n",
    "    for line1 in rap:\n",
    "        word1 = line1.split(\" \")[-1]\n",
    "        word2 = line2.split(\" \")[-1]\n",
    "        if word1 == word2:\n",
    "            additional_penalising += 1\n",
    "\n",
    "    return additional_penalising\n",
    "\n",
    "# vector_half is a single [syllable, rhyme_index] pair\n",
    "# returns a score rating for a given line\n",
    "def calculate_score(vector_half, syllables, rhyme, penalty):\n",
    "    desired_syllables = vector_half[0]\n",
    "    desired_rhyme = vector_half[1]\n",
    "    # desired_syllables is the number of syllables we want\n",
    "    desired_syllables = desired_syllables * 11\n",
    "    # desired rhyme is the index of the rhyme we want\n",
    "    desired_rhyme = desired_rhyme * len(rhyming_list_final_new_lyrics)\n",
    "\n",
    "    # generate a score by subtracting from 1 the sum of the difference between\n",
    "    # predicted syllables and generated syllables and the difference between\n",
    "    # the predicted rhyme and generated rhyme and then subtract the penalty\n",
    "    score = 1.0 - (abs((float(desired_syllables) - float(syllables))) + abs(\n",
    "        (float(desired_rhyme) - float(rhyme)))) - penalty\n",
    "\n",
    "    return score\n"
   ]
  },
  {
   "cell_type": "code",
   "execution_count": 145,
   "metadata": {},
   "outputs": [],
   "source": [
    "def song_generation(rap_generated_with_prediction, bars_new_lyrics, rhyming_list_final_new_lyrics):\n",
    "     # generated a list of all the lines from generated_lyrics with their\n",
    "    # line, syllables, and rhyme float value\n",
    "    rap = []\n",
    "    rap_bars = []\n",
    "    for raps in rap_generated_with_prediction:\n",
    "        # vectors are the 2x2 rap_vectors (predicted bars) generated by compose_rap()\n",
    "        # separate every vector into a half (essentially one bar) where each\n",
    "        # has a pair of [syllables, rhyme_index]\n",
    "        rap_bars.append(list(raps[0][0]))\n",
    "        rap_bars.append(list(raps[0][1]))\n",
    "    #print(rap_bars) # predictions are subdivided into an array of [syllable and rhyming index pair]\n",
    "    for rap_bar in rap_bars:\n",
    "        # Each vector (predicted bars) is scored against every generated bar ('item' below)\n",
    "        # to find the generated bar that best matches (highest score) the vector predicted\n",
    "        # by the model. This bar is then added to the final rap and also removed from the\n",
    "        # generated lyrics (dataset) so that we don't get duplicate lines in the final rap.\n",
    "        scorelist = []\n",
    "        for item in dataset_new_lyrics[:]:\n",
    "            # item is one of the generated bars from the Markov model\n",
    "            line = item[0]\n",
    "            #print('len(rap)', rap)\n",
    "            if len(rap) != 0:\n",
    "                penalty = comparing_last_words_bars(rap, line)\n",
    "            else:\n",
    "                penalty = 0\n",
    "            # calculate the score of the current line\n",
    "            total_score = calculate_score(rap_bar, item[1], item[2], penalty)\n",
    "            score_entry = [line, total_score]\n",
    "            # add the score of the current line to a scorelist\n",
    "            scorelist.append(score_entry)\n",
    "\n",
    "        fixed_score_list = []\n",
    "        for score in scorelist:\n",
    "            fixed_score_list.append(float(score[1]))\n",
    "        # get the line with the max valued score from the fixed_score_list\n",
    "        max_score = max(fixed_score_list)\n",
    "        for item in scorelist:\n",
    "            if item[1] == max_score:\n",
    "                # append item[0] (the line) to the rap\n",
    "                rap.append(item[0])\n",
    "                #print(str(item[0]))\n",
    "\n",
    "                # remove the line we added to the rap so\n",
    "                # it doesn't get chosen again\n",
    "                for i in dataset_new_lyrics:\n",
    "                    if item[0] == i[0]:\n",
    "                        dataset_new_lyrics.remove(i)\n",
    "                        break\n",
    "                break\n",
    "    return rap\n"
   ]
  },
  {
   "cell_type": "code",
   "execution_count": 146,
   "metadata": {
    "scrolled": true
   },
   "outputs": [],
   "source": [
    "rap_song_generated = song_generation(rap_generated_with_prediction, bars_new_lyrics, rhyming_list_final_new_lyrics)"
   ]
  },
  {
   "cell_type": "code",
   "execution_count": 147,
   "metadata": {},
   "outputs": [
    {
     "data": {
      "text/plain": [
       "['i got my money so naturally',\n",
       " 'yeah man this is pure luxury',\n",
       " 'but their spirits still live at your crew',\n",
       " 'closer i get my fucking lines out',\n",
       " 'if i had respect for is wiz',\n",
       " 'niggas dont wanna get witht his',\n",
       " 'look hey we gotta eat some way',\n",
       " 'unless a nigga gotta floss hey',\n",
       " 'if what you about cause i stay',\n",
       " 'you used to have a good day',\n",
       " 'heres a brighter bulb for your dumb shit',\n",
       " 'because black is the third ayy',\n",
       " 'contrast to all the concerts so owww',\n",
       " 'been a bad bitch im picture perfect',\n",
       " 'so she just slept with me shawty',\n",
       " 'i hate when i drop this solo',\n",
       " 'and talk all through the rhyming boy',\n",
       " 'second class bitches wouldnt let you go',\n",
       " 'and these hoes like tennis rackets',\n",
       " 'cause this is family business',\n",
       " 'but all you have just kissed his ass',\n",
       " 'cause it take to be you yo no s',\n",
       " 'wanging my shit was my body',\n",
       " 'you only get the grade you want',\n",
       " 'but you can suck his fucking agent',\n",
       " 'show up right where we flying they cant',\n",
       " 'i just wanna make a priest faint',\n",
       " 'see she used to roll this next blunt',\n",
       " 'i should make it way different',\n",
       " 'when i met this new girl so content',\n",
       " 'niggas lookin for a drake joint',\n",
       " 'but uh do what i miss is',\n",
       " 'now we can anything baby',\n",
       " 'whatever you say its gonna melt',\n",
       " 'i dont know the entertainment angels',\n",
       " 'i dont take nothing away',\n",
       " 'all your money on me okay',\n",
       " 'when i was just on a thursday',\n",
       " 'since i put that glacier on your makeup',\n",
       " 'where i get a job today',\n",
       " 'they outside of the ave',\n",
       " 'yeah she dont need you anyway',\n",
       " 'absorb your flow like a rabbit',\n",
       " 'take it thats the sound of fireworks',\n",
       " 'sure to make this the fucking box',\n",
       " 'i sell a watch and just circle the mall up',\n",
       " 'made it out the middle of the worst rep',\n",
       " 'i dont care if she heard college drop',\n",
       " 'so lets toast to federal checks',\n",
       " 'now im a jamaican doctor the bay pimp',\n",
       " 'all i ever had shoes without shoe strings',\n",
       " 'and even though i only smoke ogs',\n",
       " 'you bringing out a movie',\n",
       " 'until the day that we the new slaves',\n",
       " 'and you something like shemales',\n",
       " 'brother dont be trippin off no switches',\n",
       " 'if you dont know what im on the leaves',\n",
       " 'tdot motherfucker watch the world was theirs',\n",
       " 'so are you trying to sow my royal oats',\n",
       " 'ninetynine percent of my thighs',\n",
       " 'couple things i gotta stay at ease',\n",
       " 'and im still about the price triples',\n",
       " 'this i know that god damn barricades',\n",
       " 'and it never get rusty',\n",
       " 'yeah th wonder dont judge me uh for the zip',\n",
       " 'and yep im still here gimme dat',\n",
       " 'oh cause if you love all my friends',\n",
       " 'where else can i frisk you',\n",
       " 'let me get my name is who',\n",
       " 'but snoop dogg is the sneak preview',\n",
       " 'you just went and told on me always',\n",
       " 'when i get her to ruby tuesdays',\n",
       " 'i aint trying to learn his mathematics',\n",
       " 'scared of the store for aspiring mcs',\n",
       " 'been bullshittin but i was the lv',\n",
       " 'good god the gift like santa claus',\n",
       " 'they try to find a bunny',\n",
       " 'i just be extra funny',\n",
       " 'truest girls get half off of fumes cause',\n",
       " 'i saw we wasnt gonna speak so',\n",
       " 'you gon go and put your ass low',\n",
       " 'say whatever i hate agents',\n",
       " 'i swear im the pile in the sheets',\n",
       " 'theres a joker on the floor seats',\n",
       " 'smoked out like sanford snippits',\n",
       " 'to hide the goods i would throw fits',\n",
       " 'streets are seedy i call the shots',\n",
       " 'but at least purposely',\n",
       " 'to the top so lonely',\n",
       " 'flow got spring like a whirlwind phase',\n",
       " 'you get him and fuck you tahm bout',\n",
       " 'you feeling like a strikeout',\n",
       " 'im up way too much bet uncut',\n",
       " 'putting all niggas in a tight dress',\n",
       " 'to my flat so i can save us',\n",
       " 'i aint trying to find a decent kiss',\n",
       " 'you waiting for a minute',\n",
       " 'but i dont say a word its yacht',\n",
       " 'if his son had a million dollars',\n",
       " 'tell you all the expensive cars',\n",
       " 'when raindrops hit the red octobers',\n",
       " 'call up dj mano shout out to mrrogers',\n",
       " 'drugs while on the block with two spears',\n",
       " 'right now i gotta catch her first',\n",
       " 'streets are seedy i call him benzino',\n",
       " 'this the city that you aint get the drano',\n",
       " 'its snoop dogg and the peppermint schnopps',\n",
       " 'i got my money and my heart',\n",
       " 'i saw my life cuz',\n",
       " 'but you right out the pencil sharpener',\n",
       " 'in the day to eat the whole summer',\n",
       " 'yeah whassup nigga what the big oker',\n",
       " 'if i talk to somebody pastor',\n",
       " 'fuck a watch i buy her a few things clear',\n",
       " 'im satisfied with a patter pitter',\n",
       " 'quick with the real slim shady',\n",
       " 'some people call that jungle fever',\n",
       " 'you and all you gotta be that victor',\n",
       " 'so if you wanna feel the pain over',\n",
       " 'im trying to get a stack of ones',\n",
       " 'step on stage in front of hassans',\n",
       " 'i think i walk around with my goons',\n",
       " 'stop they blood flow until they joint chains',\n",
       " 'and talk bad about the benjamins',\n",
       " 'over to the fullest extent',\n",
       " 'you wacker than the president',\n",
       " 'try to act as if they may cinco de mayo',\n",
       " 'that with contact we the new rules',\n",
       " 'thats why they all tryin to say',\n",
       " 'whats scary to see dr bombay',\n",
       " 'im the one and i cant hit',\n",
       " 'and the top of the most press kit',\n",
       " 'so he took me a couple of chunks',\n",
       " 'wit the mizzic see i got in stacks',\n",
       " 'ooh run up in equinox',\n",
       " 'just so i grind like im on the bus now',\n",
       " 'i swear you need to front and escape how',\n",
       " 'all the way you love all my girls so wow',\n",
       " 'the first caveman pops with his windows down',\n",
       " 'for my skills im about to come in town',\n",
       " 'it aint no pastor dont do no drugs',\n",
       " 'sometimes the best of all kings',\n",
       " 'we came here to rap them songs',\n",
       " 'i remember when they next to fags',\n",
       " 'aye small lead for the selltodem pigs',\n",
       " 'in usa today it aint a song done',\n",
       " 'these are the things i see with my gun',\n",
       " 'and when we die the money aint yours',\n",
       " 'i know i know they rhinestones',\n",
       " 'uh we know we tote them poles',\n",
       " 'she cant clean but i feel the breeze',\n",
       " 'peep though i only hang with barts guys',\n",
       " 'id like to laugh at my jokes',\n",
       " 'yeah kanye to the moulin rouge',\n",
       " 'about nuttin at all no bitches',\n",
       " 'he likes to party',\n",
       " 'in the chi the city',\n",
       " 'got it you could unfollow',\n",
       " 'i see it in the studio',\n",
       " 'hi my name is taadow',\n",
       " 'if i dont need a radio',\n",
       " 'but you gotta plot em on a field trip',\n",
       " 'you might think they drive an uber whip',\n",
       " 'that chick know she just won a swallowship',\n",
       " 'a lot of money put that on your grip',\n",
       " 'and cut you at the chips i blink they dip',\n",
       " 'i guess you could unswallow',\n",
       " 'do you got it its like that',\n",
       " 'chest full of rubbers and my spirit is torn',\n",
       " 'the second i was lied to',\n",
       " 'and i aint here to do',\n",
       " 'said i know i know is true',\n",
       " 'ooh ooh ooh ooh ooh ooh ooh',\n",
       " 'i never meant to bring you down to sleep',\n",
       " 'putting all this revenue',\n",
       " 'i cant trust no one new',\n",
       " 'and you cant get along  no resolution',\n",
       " 'im tired of being in love with you cmon',\n",
       " 'same thing in the penthouse position',\n",
       " 'nowadays most of the christ year old virgin',\n",
       " 'door  do you still gonna sip dom perignon',\n",
       " 'smoke this thing im in her eyes so asian',\n",
       " 'she lit her match she let me ask this question',\n",
       " 'id buy a damn about the presentation',\n",
       " 'in the world suck my dick im the higgs boson',\n",
       " 'i dont know what im talking about kitten',\n",
       " 'uh we know we got to get on a mission',\n",
       " 'baby what you want from me i was earnin',\n",
       " 'unless a nigga like a skeleton',\n",
       " 'and im gettin it in the class im teachin',\n",
       " 'see she knew too it made thats what im sayin',\n",
       " 'with an attitude i feel him breathin',\n",
       " 'i think i might as well give it to spin',\n",
       " 'and i love money',\n",
       " 'now lets drink to the rescue',\n",
       " 'but hey its cool if you make the hap',\n",
       " 'sometimes the path i took a nap',\n",
       " 'these niggas more famous',\n",
       " 'uhh she got is so dangerous',\n",
       " 'tdot motherfucker watch the hatas',\n",
       " 'rocafella chain yeah thats devoss',\n",
       " 'said daz was the late great francis']"
      ]
     },
     "execution_count": 147,
     "metadata": {},
     "output_type": "execute_result"
    }
   ],
   "source": [
    "rap_song_generated"
   ]
  },
  {
   "cell_type": "code",
   "execution_count": null,
   "metadata": {},
   "outputs": [],
   "source": [
    "rap_song_generated_string = '\\n'.join([i for i in rap_song_generated[:]])"
   ]
  },
  {
   "cell_type": "code",
   "execution_count": null,
   "metadata": {},
   "outputs": [],
   "source": [
    "print(rap_song_generated_string)"
   ]
  },
  {
   "cell_type": "code",
   "execution_count": null,
   "metadata": {},
   "outputs": [],
   "source": []
  }
 ],
 "metadata": {
  "kernelspec": {
   "display_name": "Python 3",
   "language": "python",
   "name": "python3"
  },
  "language_info": {
   "codemirror_mode": {
    "name": "ipython",
    "version": 3
   },
   "file_extension": ".py",
   "mimetype": "text/x-python",
   "name": "python",
   "nbconvert_exporter": "python",
   "pygments_lexer": "ipython3",
   "version": "3.7.1"
  }
 },
 "nbformat": 4,
 "nbformat_minor": 2
}
