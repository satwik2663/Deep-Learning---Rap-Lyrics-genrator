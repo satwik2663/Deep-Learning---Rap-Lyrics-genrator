{
 "cells": [
  {
   "cell_type": "markdown",
   "metadata": {},
   "source": [
    "<font color=\"blue\" size=\"4\"><b>RAP MUSIC GENERATION - Web Scraping</b></font>"
   ]
  },
  {
   "cell_type": "markdown",
   "metadata": {},
   "source": [
    "### 1. <u><b> Scraping from azlyrics website </b></u>"
   ]
  },
  {
   "cell_type": "code",
   "execution_count": 1,
   "metadata": {},
   "outputs": [],
   "source": [
    "from bs4 import BeautifulSoup\n",
    "import requests"
   ]
  },
  {
   "cell_type": "code",
   "execution_count": null,
   "metadata": {},
   "outputs": [],
   "source": [
    "all_songs=[]\n",
    "def scrape_lyrics(url):\n",
    "    all_links=[]\n",
    "    page = requests.get(url)\n",
    "    soup = BeautifulSoup(page.content, 'lxml')\n",
    "    albums = soup.findAll('div', id='listAlbum')\n",
    "    for album in albums:\n",
    "        a = album.findAll('a', href = True)\n",
    "        for i in a:\n",
    "            album_full_link = 'https://www.azlyrics.com' + i['href'][2:]\n",
    "            all_links.append(album_full_link) \n",
    "        for link in all_links[40:50]:\n",
    "            response = requests.get(link)\n",
    "            data = response.text\n",
    "            bsoup = BeautifulSoup(data, 'lxml')\n",
    "            lyrics = bsoup.find('div',class_ ='col-xs-12 col-lg-8 text-center')\n",
    "            a = lyrics.findChildren('div')[6]\n",
    "            all_songs.append(a.text)\n",
    "            all_songs.append('\\n')\n",
    "    return all_songs  "
   ]
  },
  {
   "cell_type": "code",
   "execution_count": 2,
   "metadata": {},
   "outputs": [],
   "source": [
    "eminem = 'https://www.azlyrics.com/d/eminem.html'\n",
    "drake = 'https://www.azlyrics.com/d/drake.html'\n",
    "snoop_dogg = 'https://www.azlyrics.com/s/snoopdogg.html'\n",
    "kanye = 'https://www.azlyrics.com/w/west.html'\n",
    "trippie = 'https://www.azlyrics.com/t/trippieredd.html'\n",
    "rapper = 'https://www.azlyrics.com/c/chancetherapper.html'"
   ]
  },
  {
   "cell_type": "code",
   "execution_count": null,
   "metadata": {},
   "outputs": [],
   "source": [
    "scrape_lyrics(drake)"
   ]
  },
  {
   "cell_type": "code",
   "execution_count": null,
   "metadata": {},
   "outputs": [],
   "source": [
    "string_songs= ''.join(all_songs)"
   ]
  },
  {
   "cell_type": "code",
   "execution_count": null,
   "metadata": {},
   "outputs": [],
   "source": [
    "file = open('DrakeLyrics4.txt','w') \n",
    "file.write(string_songs) \n",
    "file.close()"
   ]
  },
  {
   "cell_type": "markdown",
   "metadata": {},
   "source": [
    "### 2. <b><u> Scraping from genius website </u></b> "
   ]
  },
  {
   "cell_type": "code",
   "execution_count": null,
   "metadata": {},
   "outputs": [],
   "source": [
    "all_lyrics = []\n",
    "def scrape_lyrics_from_genius(url):\n",
    "    page = requests.get(url)\n",
    "    soup = BeautifulSoup(page.content, 'lxml')\n",
    "    albums = soup.findAll('div', class_='mini_card_grid')\n",
    "    for album in albums:\n",
    "        a = album.findAll('a', href = True)\n",
    "\n",
    "    all_links=[]\n",
    "    for i in a:\n",
    "        album_full_link = '' + i['href']\n",
    "        all_links.append(album_full_link) \n",
    "\n",
    "    for link in all_links[:]:\n",
    "        songs = requests.get(link)\n",
    "        soup = BeautifulSoup(songs.text, 'lxml')\n",
    "        song = soup.find('div', class_='lyrics')\n",
    "        lyrics= song.findChildren('p')[0]\n",
    "        all_lyrics.append(lyrics.get_text())\n",
    "        all_lyrics.append('\\n')\n",
    "        return all_lyrics"
   ]
  },
  {
   "cell_type": "code",
   "execution_count": null,
   "metadata": {},
   "outputs": [],
   "source": [
    "nicki_minaj = 'https://genius.com/artists/Nicki-minaj'\n",
    "jayz = 'https://genius.com/artists/Jay-z'\n",
    "future = 'https://genius.com/artists/Future'\n",
    "mustard = 'https://genius.com/artists/Mustard'\n",
    "travis_scott = 'https://genius.com/artists/Travis-scott'"
   ]
  },
  {
   "cell_type": "code",
   "execution_count": null,
   "metadata": {},
   "outputs": [],
   "source": [
    "scrape_lyrics_from_genius(travis_scott)"
   ]
  },
  {
   "cell_type": "code",
   "execution_count": null,
   "metadata": {},
   "outputs": [],
   "source": [
    "string_of_songs= ''.join(all_lyrics)"
   ]
  },
  {
   "cell_type": "code",
   "execution_count": null,
   "metadata": {},
   "outputs": [],
   "source": [
    "file = open('travis_scott.txt','w')  \n",
    "file.write(string_songs) \n",
    "file.close()"
   ]
  },
  {
   "cell_type": "markdown",
   "metadata": {},
   "source": [
    "### 3. <b><u> Concatenating all the lyrics file into one</u></b>"
   ]
  },
  {
   "cell_type": "code",
   "execution_count": null,
   "metadata": {},
   "outputs": [],
   "source": [
    "filenames = ['EminemLyrics1.txt', 'EminemLyrics2.txt', 'EminemLyrics3.txt','EminemLyrics4.txt','EminemLyrics5.txt']\n",
    "with open('All_Eminem_lyrics.txt', 'w') as outfile:\n",
    "    for fname in filenames:\n",
    "        with open(fname) as infile:\n",
    "            outfile.write(infile.read())"
   ]
  }
 ],
 "metadata": {
  "kernelspec": {
   "display_name": "Python 3",
   "language": "python",
   "name": "python3"
  },
  "language_info": {
   "codemirror_mode": {
    "name": "ipython",
    "version": 3
   },
   "file_extension": ".py",
   "mimetype": "text/x-python",
   "name": "python",
   "nbconvert_exporter": "python",
   "pygments_lexer": "ipython3",
   "version": "3.7.1"
  }
 },
 "nbformat": 4,
 "nbformat_minor": 2
}
